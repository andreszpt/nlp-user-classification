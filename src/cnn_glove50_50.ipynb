{
 "cells": [
  {
   "cell_type": "code",
   "execution_count": 1,
   "id": "informal-connecticut",
   "metadata": {
    "executionInfo": {
     "elapsed": 850,
     "status": "ok",
     "timestamp": 1617559922784,
     "user": {
      "displayName": "Andrés Zapata",
      "photoUrl": "https://lh3.googleusercontent.com/a-/AOh14Gj-eJhEQrYm7yW30WK1klNB5crOpPy_c1vJREkLCJs=s64",
      "userId": "15045990832920962230"
     },
     "user_tz": -120
    },
    "id": "ruled-friendship"
   },
   "outputs": [
    {
     "name": "stderr",
     "output_type": "stream",
     "text": [
      "Using TensorFlow backend.\n"
     ]
    }
   ],
   "source": [
    "from nlp_functions import *\n",
    "sess = tf.Session()"
   ]
  },
  {
   "cell_type": "code",
   "execution_count": 2,
   "id": "a3b20da7",
   "metadata": {},
   "outputs": [],
   "source": [
    "plt.style.use('seaborn')"
   ]
  },
  {
   "cell_type": "code",
   "execution_count": 3,
   "id": "comic-letter",
   "metadata": {
    "executionInfo": {
     "elapsed": 5072,
     "status": "ok",
     "timestamp": 1617559927350,
     "user": {
      "displayName": "Andrés Zapata",
      "photoUrl": "https://lh3.googleusercontent.com/a-/AOh14Gj-eJhEQrYm7yW30WK1klNB5crOpPy_c1vJREkLCJs=s64",
      "userId": "15045990832920962230"
     },
     "user_tz": -120
    },
    "id": "considered-vatican",
    "scrolled": true
   },
   "outputs": [],
   "source": [
    "# Importing our data\n",
    "sentiment140 = read_sentiment_file(DATA_DIRECTORY, 'sentiment140_train.csv')"
   ]
  },
  {
   "cell_type": "code",
   "execution_count": 4,
   "id": "9e46a90b",
   "metadata": {},
   "outputs": [],
   "source": [
    "# Sampling 50% the data\n",
    "sentiment140 = sentiment140.sample(frac=0.5, random_state=7)"
   ]
  },
  {
   "cell_type": "code",
   "execution_count": 5,
   "id": "intense-husband",
   "metadata": {},
   "outputs": [],
   "source": [
    "# Separating into characteristics and labels\n",
    "X = sentiment140['text']\n",
    "y = sentiment140['polarity']"
   ]
  },
  {
   "cell_type": "code",
   "execution_count": 6,
   "id": "nasty-singapore",
   "metadata": {
    "executionInfo": {
     "elapsed": 12549,
     "status": "ok",
     "timestamp": 1617559935126,
     "user": {
      "displayName": "Andrés Zapata",
      "photoUrl": "https://lh3.googleusercontent.com/a-/AOh14Gj-eJhEQrYm7yW30WK1klNB5crOpPy_c1vJREkLCJs=s64",
      "userId": "15045990832920962230"
     },
     "user_tz": -120
    },
    "id": "4865xfI-E1sN"
   },
   "outputs": [],
   "source": [
    "# Cleaning the texts\n",
    "X = clean_data(X)"
   ]
  },
  {
   "cell_type": "code",
   "execution_count": 7,
   "id": "meaning-flood",
   "metadata": {
    "executionInfo": {
     "elapsed": 12384,
     "status": "ok",
     "timestamp": 1617559935127,
     "user": {
      "displayName": "Andrés Zapata",
      "photoUrl": "https://lh3.googleusercontent.com/a-/AOh14Gj-eJhEQrYm7yW30WK1klNB5crOpPy_c1vJREkLCJs=s64",
      "userId": "15045990832920962230"
     },
     "user_tz": -120
    },
    "id": "recreational-vampire"
   },
   "outputs": [],
   "source": [
    "# Mapping for easier classificacion\n",
    "y = y.map({0: int(0), 4: int(1)})"
   ]
  },
  {
   "cell_type": "code",
   "execution_count": 8,
   "id": "solid-commission",
   "metadata": {
    "executionInfo": {
     "elapsed": 12740,
     "status": "ok",
     "timestamp": 1617559935899,
     "user": {
      "displayName": "Andrés Zapata",
      "photoUrl": "https://lh3.googleusercontent.com/a-/AOh14Gj-eJhEQrYm7yW30WK1klNB5crOpPy_c1vJREkLCJs=s64",
      "userId": "15045990832920962230"
     },
     "user_tz": -120
    },
    "id": "mathematical-secretary"
   },
   "outputs": [],
   "source": [
    "# Split the data to train and test, then train and val\n",
    "X_train, X_test, y_train, y_test = train_test_split(X, y, test_size=0.2, random_state=7)\n",
    "X_train, X_val, y_train, y_val = train_test_split(X_train, y_train, test_size=0.2, random_state=7)"
   ]
  },
  {
   "cell_type": "code",
   "execution_count": 9,
   "id": "olympic-depression",
   "metadata": {
    "colab": {
     "base_uri": "https://localhost:8080/"
    },
    "executionInfo": {
     "elapsed": 59155,
     "status": "ok",
     "timestamp": 1617559983416,
     "user": {
      "displayName": "Andrés Zapata",
      "photoUrl": "https://lh3.googleusercontent.com/a-/AOh14Gj-eJhEQrYm7yW30WK1klNB5crOpPy_c1vJREkLCJs=s64",
      "userId": "15045990832920962230"
     },
     "user_tz": -120
    },
    "id": "complete-container",
    "outputId": "b64300df-0d3b-46ad-90b9-196a6ee7ff3c"
   },
   "outputs": [],
   "source": [
    "# Tokenizing the data\n",
    "tk, word_index, vocab_size = tokenize(X_train, X_val, X_test)"
   ]
  },
  {
   "cell_type": "code",
   "execution_count": 10,
   "id": "constitutional-handbook",
   "metadata": {},
   "outputs": [],
   "source": [
    "# Each sentence is converted into an array of integers\n",
    "X_train = tk.texts_to_sequences(X_train)\n",
    "X_val = tk.texts_to_sequences(X_val)\n",
    "X_test = tk.texts_to_sequences(X_test)"
   ]
  },
  {
   "cell_type": "code",
   "execution_count": 11,
   "id": "french-vaccine",
   "metadata": {
    "colab": {
     "base_uri": "https://localhost:8080/"
    },
    "executionInfo": {
     "elapsed": 54510,
     "status": "ok",
     "timestamp": 1617559983815,
     "user": {
      "displayName": "Andrés Zapata",
      "photoUrl": "https://lh3.googleusercontent.com/a-/AOh14Gj-eJhEQrYm7yW30WK1klNB5crOpPy_c1vJREkLCJs=s64",
      "userId": "15045990832920962230"
     },
     "user_tz": -120
    },
    "id": "indian-mouth",
    "outputId": "469d3984-1e9e-4c7f-b8d1-cc0373be277b",
    "scrolled": false
   },
   "outputs": [],
   "source": [
    "# Calculation of maximum length to adjust the padding\n",
    "maxlen = longest_sentence(X_train, X_val, X_test)"
   ]
  },
  {
   "cell_type": "code",
   "execution_count": 12,
   "id": "retained-review",
   "metadata": {
    "executionInfo": {
     "elapsed": 63747,
     "status": "ok",
     "timestamp": 1617559993517,
     "user": {
      "displayName": "Andrés Zapata",
      "photoUrl": "https://lh3.googleusercontent.com/a-/AOh14Gj-eJhEQrYm7yW30WK1klNB5crOpPy_c1vJREkLCJs=s64",
      "userId": "15045990832920962230"
     },
     "user_tz": -120
    },
    "id": "juvenile-telling"
   },
   "outputs": [],
   "source": [
    "# Padding is applied to get the same dimension\n",
    "X_train = pad_sequences(X_train, padding='post', maxlen=maxlen)\n",
    "X_val = pad_sequences(X_val, padding='post', maxlen=maxlen)\n",
    "X_test = pad_sequences(X_test, padding='post', maxlen=maxlen)"
   ]
  },
  {
   "cell_type": "code",
   "execution_count": 13,
   "id": "colonial-welcome",
   "metadata": {
    "executionInfo": {
     "elapsed": 68698,
     "status": "ok",
     "timestamp": 1617560002297,
     "user": {
      "displayName": "Andrés Zapata",
      "photoUrl": "https://lh3.googleusercontent.com/a-/AOh14Gj-eJhEQrYm7yW30WK1klNB5crOpPy_c1vJREkLCJs=s64",
      "userId": "15045990832920962230"
     },
     "user_tz": -120
    },
    "id": "prompt-tenant",
    "scrolled": true
   },
   "outputs": [],
   "source": [
    "# Creating the embedding matrix based on dimension and vocabulary of our texts\n",
    "EMBEDDING_DIM = 50\n",
    "embedding_matrix = create_embedding_matrix(vocab_size, EMBEDDING_DIM, word_index)"
   ]
  },
  {
   "cell_type": "code",
   "execution_count": 14,
   "id": "comic-death",
   "metadata": {
    "colab": {
     "base_uri": "https://localhost:8080/"
    },
    "executionInfo": {
     "elapsed": 68233,
     "status": "ok",
     "timestamp": 1617560002298,
     "user": {
      "displayName": "Andrés Zapata",
      "photoUrl": "https://lh3.googleusercontent.com/a-/AOh14Gj-eJhEQrYm7yW30WK1klNB5crOpPy_c1vJREkLCJs=s64",
      "userId": "15045990832920962230"
     },
     "user_tz": -120
    },
    "id": "future-management",
    "outputId": "9afbe6f9-6b3f-4b85-8703-ca37239367ae",
    "scrolled": true
   },
   "outputs": [
    {
     "name": "stdout",
     "output_type": "stream",
     "text": [
      "Using GloVe (Wiki database)\n"
     ]
    },
    {
     "data": {
      "text/plain": [
       "0.47543481020693157"
      ]
     },
     "execution_count": 14,
     "metadata": {},
     "output_type": "execute_result"
    }
   ],
   "source": [
    "# Check the ratio of words in our texts are included in the embedding_matrix\n",
    "print('Using GloVe (Wiki database)')\n",
    "nonzero_elements = np.count_nonzero(np.count_nonzero(embedding_matrix, axis=1))\n",
    "nonzero_elements / vocab_size"
   ]
  },
  {
   "cell_type": "code",
   "execution_count": 15,
   "id": "tutorial-sending",
   "metadata": {
    "colab": {
     "base_uri": "https://localhost:8080/"
    },
    "executionInfo": {
     "elapsed": 5954,
     "status": "ok",
     "timestamp": 1617560015161,
     "user": {
      "displayName": "Andrés Zapata",
      "photoUrl": "https://lh3.googleusercontent.com/a-/AOh14Gj-eJhEQrYm7yW30WK1klNB5crOpPy_c1vJREkLCJs=s64",
      "userId": "15045990832920962230"
     },
     "user_tz": -120
    },
    "id": "robust-utilization",
    "outputId": "b21a8bab-802e-4eca-f558-e53ae22667fa",
    "scrolled": false
   },
   "outputs": [
    {
     "name": "stdout",
     "output_type": "stream",
     "text": [
      "WARNING:tensorflow:From /home/andres/anaconda3/envs/gpu/lib/python3.6/site-packages/tensorflow_core/python/ops/resource_variable_ops.py:1630: calling BaseResourceVariable.__init__ (from tensorflow.python.ops.resource_variable_ops) with constraint is deprecated and will be removed in a future version.\n",
      "Instructions for updating:\n",
      "If using Keras pass *_constraint arguments to layers.\n",
      "WARNING:tensorflow:From /home/andres/anaconda3/envs/gpu/lib/python3.6/site-packages/keras/backend/tensorflow_backend.py:3172: where (from tensorflow.python.ops.array_ops) is deprecated and will be removed in a future version.\n",
      "Instructions for updating:\n",
      "Use tf.where in 2.0, which has the same broadcast rule as np.where\n",
      "Model: \"sequential_1\"\n",
      "_________________________________________________________________\n",
      "Layer (type)                 Output Shape              Param #   \n",
      "=================================================================\n",
      "embedding_1 (Embedding)      (None, 50, 50)            6695450   \n",
      "_________________________________________________________________\n",
      "conv1d_1 (Conv1D)            (None, 48, 250)           37750     \n",
      "_________________________________________________________________\n",
      "global_max_pooling1d_1 (Glob (None, 250)               0         \n",
      "_________________________________________________________________\n",
      "dense_1 (Dense)              (None, 100)               25100     \n",
      "_________________________________________________________________\n",
      "dropout_1 (Dropout)          (None, 100)               0         \n",
      "_________________________________________________________________\n",
      "dense_2 (Dense)              (None, 1)                 101       \n",
      "=================================================================\n",
      "Total params: 6,758,401\n",
      "Trainable params: 62,951\n",
      "Non-trainable params: 6,695,450\n",
      "_________________________________________________________________\n"
     ]
    }
   ],
   "source": [
    "# Architecture for CNN + GloVe model\n",
    "model = Sequential()\n",
    "model.add(Embedding(\n",
    "    input_dim=vocab_size,\n",
    "    output_dim=EMBEDDING_DIM,\n",
    "    weights=[embedding_matrix],\n",
    "    input_length=maxlen,\n",
    "    trainable=False))\n",
    "model.add(Conv1D(\n",
    "    filters=250,\n",
    "    kernel_size=3,\n",
    "    activation='relu'))\n",
    "model.add(GlobalMaxPooling1D())\n",
    "model.add(Dense(100, activation='relu'))\n",
    "model.add(Dropout(0.5))\n",
    "model.add(Dense(1, activation='sigmoid'))\n",
    "model.compile(\n",
    "    optimizer='sgd',\n",
    "    loss='binary_crossentropy',\n",
    "    metrics=['accuracy', metrics.Precision(name='precision'), metrics.Recall(name='recall')])\n",
    "model.summary()"
   ]
  },
  {
   "cell_type": "code",
   "execution_count": 16,
   "id": "74a9e9ad",
   "metadata": {},
   "outputs": [
    {
     "name": "stdout",
     "output_type": "stream",
     "text": [
      "WARNING:tensorflow:From /home/andres/anaconda3/envs/gpu/lib/python3.6/site-packages/keras/backend/tensorflow_backend.py:422: The name tf.global_variables is deprecated. Please use tf.compat.v1.global_variables instead.\n",
      "\n",
      "Train on 512000 samples, validate on 128000 samples\n",
      "Epoch 1/100\n",
      "512000/512000 [==============================] - 26s 51us/step - loss: 0.5875 - accuracy: 0.6847 - precision: 0.6860 - recall: 0.6808 - val_loss: 0.5347 - val_accuracy: 0.7299 - val_precision: 0.7570 - val_recall: 0.6773\n",
      "Epoch 2/100\n",
      "512000/512000 [==============================] - 25s 50us/step - loss: 0.5337 - accuracy: 0.7321 - precision: 0.7381 - recall: 0.7193 - val_loss: 0.5160 - val_accuracy: 0.7413 - val_precision: 0.7862 - val_recall: 0.6632\n",
      "Epoch 3/100\n",
      "512000/512000 [==============================] - 25s 49us/step - loss: 0.5154 - accuracy: 0.7455 - precision: 0.7527 - recall: 0.7308 - val_loss: 0.5033 - val_accuracy: 0.7503 - val_precision: 0.7918 - val_recall: 0.6793\n",
      "Epoch 4/100\n",
      "512000/512000 [==============================] - 25s 49us/step - loss: 0.5038 - accuracy: 0.7531 - precision: 0.7604 - recall: 0.7388 - val_loss: 0.4906 - val_accuracy: 0.7601 - val_precision: 0.7589 - val_recall: 0.7625\n",
      "Epoch 5/100\n",
      "512000/512000 [==============================] - 25s 49us/step - loss: 0.4948 - accuracy: 0.7595 - precision: 0.7672 - recall: 0.7447 - val_loss: 0.4937 - val_accuracy: 0.7566 - val_precision: 0.8091 - val_recall: 0.6721\n",
      "Epoch 6/100\n",
      "512000/512000 [==============================] - 25s 50us/step - loss: 0.4879 - accuracy: 0.7636 - precision: 0.7710 - recall: 0.7496 - val_loss: 0.4886 - val_accuracy: 0.7596 - val_precision: 0.8124 - val_recall: 0.6753\n",
      "Epoch 7/100\n",
      "512000/512000 [==============================] - 25s 50us/step - loss: 0.4820 - accuracy: 0.7681 - precision: 0.7754 - recall: 0.7547 - val_loss: 0.4797 - val_accuracy: 0.7676 - val_precision: 0.7550 - val_recall: 0.7924\n",
      "Epoch 8/100\n",
      "512000/512000 [==============================] - 25s 50us/step - loss: 0.4763 - accuracy: 0.7712 - precision: 0.7778 - recall: 0.7589 - val_loss: 0.4778 - val_accuracy: 0.7678 - val_precision: 0.8017 - val_recall: 0.7117\n",
      "Epoch 9/100\n",
      "512000/512000 [==============================] - 25s 50us/step - loss: 0.4720 - accuracy: 0.7750 - precision: 0.7818 - recall: 0.7627 - val_loss: 0.4767 - val_accuracy: 0.7692 - val_precision: 0.8089 - val_recall: 0.7052\n",
      "Epoch 10/100\n",
      "512000/512000 [==============================] - 25s 50us/step - loss: 0.4682 - accuracy: 0.7765 - precision: 0.7831 - recall: 0.7647 - val_loss: 0.4696 - val_accuracy: 0.7737 - val_precision: 0.7911 - val_recall: 0.7441\n",
      "Epoch 11/100\n",
      "512000/512000 [==============================] - 25s 50us/step - loss: 0.4650 - accuracy: 0.7788 - precision: 0.7849 - recall: 0.7680 - val_loss: 0.4687 - val_accuracy: 0.7746 - val_precision: 0.7963 - val_recall: 0.7381\n",
      "Epoch 12/100\n",
      "512000/512000 [==============================] - 25s 50us/step - loss: 0.4612 - accuracy: 0.7810 - precision: 0.7871 - recall: 0.7702 - val_loss: 0.4726 - val_accuracy: 0.7726 - val_precision: 0.7497 - val_recall: 0.8188\n",
      "Epoch 13/100\n",
      "512000/512000 [==============================] - 25s 49us/step - loss: 0.4582 - accuracy: 0.7827 - precision: 0.7898 - recall: 0.7702 - val_loss: 0.4651 - val_accuracy: 0.7770 - val_precision: 0.7736 - val_recall: 0.7835\n",
      "Epoch 14/100\n",
      "512000/512000 [==============================] - 25s 49us/step - loss: 0.4558 - accuracy: 0.7839 - precision: 0.7904 - recall: 0.7723 - val_loss: 0.4760 - val_accuracy: 0.7696 - val_precision: 0.8268 - val_recall: 0.6824\n",
      "Epoch 15/100\n",
      "512000/512000 [==============================] - 25s 49us/step - loss: 0.4526 - accuracy: 0.7861 - precision: 0.7923 - recall: 0.7753 - val_loss: 0.4634 - val_accuracy: 0.7785 - val_precision: 0.7984 - val_recall: 0.7454\n",
      "Epoch 16/100\n",
      "512000/512000 [==============================] - 25s 49us/step - loss: 0.4502 - accuracy: 0.7868 - precision: 0.7937 - recall: 0.7749 - val_loss: 0.4619 - val_accuracy: 0.7790 - val_precision: 0.7853 - val_recall: 0.7684\n",
      "Epoch 17/100\n",
      "512000/512000 [==============================] - 25s 50us/step - loss: 0.4481 - accuracy: 0.7887 - precision: 0.7954 - recall: 0.7770 - val_loss: 0.4602 - val_accuracy: 0.7806 - val_precision: 0.7922 - val_recall: 0.7610\n",
      "Epoch 18/100\n",
      "512000/512000 [==============================] - 25s 49us/step - loss: 0.4457 - accuracy: 0.7900 - precision: 0.7967 - recall: 0.7785 - val_loss: 0.4628 - val_accuracy: 0.7801 - val_precision: 0.7725 - val_recall: 0.7943\n",
      "Epoch 19/100\n",
      "512000/512000 [==============================] - 25s 49us/step - loss: 0.4442 - accuracy: 0.7914 - precision: 0.7981 - recall: 0.7799 - val_loss: 0.4643 - val_accuracy: 0.7794 - val_precision: 0.7653 - val_recall: 0.8063\n",
      "Epoch 20/100\n",
      "512000/512000 [==============================] - 25s 50us/step - loss: 0.4416 - accuracy: 0.7924 - precision: 0.7992 - recall: 0.7808 - val_loss: 0.4798 - val_accuracy: 0.7699 - val_precision: 0.7302 - val_recall: 0.8565\n",
      "Epoch 21/100\n",
      "512000/512000 [==============================] - 25s 50us/step - loss: 0.4398 - accuracy: 0.7938 - precision: 0.8005 - recall: 0.7824 - val_loss: 0.4654 - val_accuracy: 0.7775 - val_precision: 0.8155 - val_recall: 0.7176\n",
      "Epoch 22/100\n",
      "512000/512000 [==============================] - 25s 50us/step - loss: 0.4381 - accuracy: 0.7940 - precision: 0.8006 - recall: 0.7827 - val_loss: 0.4606 - val_accuracy: 0.7820 - val_precision: 0.7700 - val_recall: 0.8046\n",
      "Epoch 23/100\n",
      "512000/512000 [==============================] - 25s 50us/step - loss: 0.4364 - accuracy: 0.7950 - precision: 0.8019 - recall: 0.7834 - val_loss: 0.4592 - val_accuracy: 0.7825 - val_precision: 0.7760 - val_recall: 0.7945\n",
      "Epoch 24/100\n",
      "512000/512000 [==============================] - 25s 50us/step - loss: 0.4348 - accuracy: 0.7964 - precision: 0.8032 - recall: 0.7849 - val_loss: 0.4601 - val_accuracy: 0.7815 - val_precision: 0.8059 - val_recall: 0.7417\n",
      "Epoch 25/100\n",
      "512000/512000 [==============================] - 25s 50us/step - loss: 0.4332 - accuracy: 0.7971 - precision: 0.8039 - recall: 0.7857 - val_loss: 0.4576 - val_accuracy: 0.7834 - val_precision: 0.7885 - val_recall: 0.7748\n",
      "Epoch 26/100\n",
      "512000/512000 [==============================] - 25s 50us/step - loss: 0.4317 - accuracy: 0.7985 - precision: 0.8055 - recall: 0.7867 - val_loss: 0.4657 - val_accuracy: 0.7799 - val_precision: 0.7576 - val_recall: 0.8233\n",
      "Epoch 27/100\n",
      "512000/512000 [==============================] - 25s 50us/step - loss: 0.4303 - accuracy: 0.7986 - precision: 0.8056 - recall: 0.7870 - val_loss: 0.4583 - val_accuracy: 0.7831 - val_precision: 0.7931 - val_recall: 0.7663\n",
      "Epoch 28/100\n",
      "512000/512000 [==============================] - 25s 50us/step - loss: 0.4291 - accuracy: 0.7994 - precision: 0.8065 - recall: 0.7877 - val_loss: 0.4644 - val_accuracy: 0.7805 - val_precision: 0.7599 - val_recall: 0.8205\n",
      "Epoch 29/100\n",
      "512000/512000 [==============================] - 25s 50us/step - loss: 0.4274 - accuracy: 0.7999 - precision: 0.8072 - recall: 0.7877 - val_loss: 0.4579 - val_accuracy: 0.7844 - val_precision: 0.7897 - val_recall: 0.7754\n",
      "Epoch 30/100\n",
      "512000/512000 [==============================] - 25s 50us/step - loss: 0.4261 - accuracy: 0.8010 - precision: 0.8079 - recall: 0.7896 - val_loss: 0.4629 - val_accuracy: 0.7835 - val_precision: 0.7775 - val_recall: 0.7945\n",
      "Epoch 31/100\n",
      "512000/512000 [==============================] - 25s 50us/step - loss: 0.4248 - accuracy: 0.8018 - precision: 0.8087 - recall: 0.7906 - val_loss: 0.4564 - val_accuracy: 0.7848 - val_precision: 0.7937 - val_recall: 0.7698\n",
      "Epoch 32/100\n",
      "512000/512000 [==============================] - 25s 50us/step - loss: 0.4236 - accuracy: 0.8024 - precision: 0.8091 - recall: 0.7913 - val_loss: 0.4570 - val_accuracy: 0.7843 - val_precision: 0.7861 - val_recall: 0.7813\n",
      "Epoch 33/100\n",
      "512000/512000 [==============================] - 25s 50us/step - loss: 0.4228 - accuracy: 0.8028 - precision: 0.8101 - recall: 0.7909 - val_loss: 0.4581 - val_accuracy: 0.7842 - val_precision: 0.7880 - val_recall: 0.7778\n",
      "Epoch 34/100\n",
      "512000/512000 [==============================] - 25s 50us/step - loss: 0.4214 - accuracy: 0.8040 - precision: 0.8115 - recall: 0.7918 - val_loss: 0.4638 - val_accuracy: 0.7828 - val_precision: 0.7723 - val_recall: 0.8022\n"
     ]
    },
    {
     "name": "stdout",
     "output_type": "stream",
     "text": [
      "Epoch 35/100\n",
      "512000/512000 [==============================] - 25s 50us/step - loss: 0.4201 - accuracy: 0.8045 - precision: 0.8119 - recall: 0.7924 - val_loss: 0.4675 - val_accuracy: 0.7801 - val_precision: 0.7558 - val_recall: 0.8279\n",
      "Epoch 36/100\n",
      "512000/512000 [==============================] - 25s 50us/step - loss: 0.4192 - accuracy: 0.8050 - precision: 0.8126 - recall: 0.7927 - val_loss: 0.4602 - val_accuracy: 0.7849 - val_precision: 0.7937 - val_recall: 0.7699\n",
      "Epoch 37/100\n",
      "512000/512000 [==============================] - 25s 50us/step - loss: 0.4184 - accuracy: 0.8052 - precision: 0.8126 - recall: 0.7932 - val_loss: 0.4593 - val_accuracy: 0.7850 - val_precision: 0.7877 - val_recall: 0.7806\n",
      "Epoch 38/100\n",
      "512000/512000 [==============================] - 25s 50us/step - loss: 0.4171 - accuracy: 0.8057 - precision: 0.8132 - recall: 0.7934 - val_loss: 0.4585 - val_accuracy: 0.7834 - val_precision: 0.7947 - val_recall: 0.7645\n",
      "Epoch 39/100\n",
      "512000/512000 [==============================] - 25s 50us/step - loss: 0.4160 - accuracy: 0.8062 - precision: 0.8139 - recall: 0.7938 - val_loss: 0.4700 - val_accuracy: 0.7781 - val_precision: 0.8242 - val_recall: 0.7072\n",
      "Epoch 40/100\n",
      "512000/512000 [==============================] - 25s 50us/step - loss: 0.4150 - accuracy: 0.8076 - precision: 0.8151 - recall: 0.7954 - val_loss: 0.4596 - val_accuracy: 0.7841 - val_precision: 0.7991 - val_recall: 0.7593\n",
      "Epoch 41/100\n",
      "512000/512000 [==============================] - 25s 50us/step - loss: 0.4142 - accuracy: 0.8077 - precision: 0.8155 - recall: 0.7951 - val_loss: 0.4701 - val_accuracy: 0.7801 - val_precision: 0.8176 - val_recall: 0.7213\n",
      "Epoch 42/100\n",
      "512000/512000 [==============================] - 25s 50us/step - loss: 0.4130 - accuracy: 0.8079 - precision: 0.8152 - recall: 0.7962 - val_loss: 0.4585 - val_accuracy: 0.7850 - val_precision: 0.7882 - val_recall: 0.7798\n",
      "Epoch 43/100\n",
      "512000/512000 [==============================] - 25s 50us/step - loss: 0.4117 - accuracy: 0.8084 - precision: 0.8162 - recall: 0.7959 - val_loss: 0.4642 - val_accuracy: 0.7843 - val_precision: 0.7843 - val_recall: 0.7845\n",
      "Epoch 44/100\n",
      "512000/512000 [==============================] - 25s 50us/step - loss: 0.4118 - accuracy: 0.8086 - precision: 0.8173 - recall: 0.7948 - val_loss: 0.4776 - val_accuracy: 0.7747 - val_precision: 0.8326 - val_recall: 0.6877\n",
      "Epoch 45/100\n",
      "512000/512000 [==============================] - 25s 50us/step - loss: 0.4105 - accuracy: 0.8092 - precision: 0.8172 - recall: 0.7963 - val_loss: 0.4714 - val_accuracy: 0.7792 - val_precision: 0.7546 - val_recall: 0.8275\n",
      "Epoch 46/100\n",
      "512000/512000 [==============================] - 25s 50us/step - loss: 0.4104 - accuracy: 0.8095 - precision: 0.8178 - recall: 0.7962 - val_loss: 0.4633 - val_accuracy: 0.7835 - val_precision: 0.7726 - val_recall: 0.8036\n"
     ]
    }
   ],
   "source": [
    "# Training and validation for CNN + GloVe model\n",
    "early_stopping = keras.callbacks.EarlyStopping(\n",
    "    monitor='val_loss',\n",
    "    patience=15,\n",
    "    restore_best_weights=True)\n",
    "history = model.fit(\n",
    "    X_train,\n",
    "    y_train,\n",
    "    batch_size=64,\n",
    "    epochs=100,\n",
    "    validation_data=(X_val, y_val),\n",
    "    callbacks=[early_stopping])"
   ]
  },
  {
   "cell_type": "code",
   "execution_count": 17,
   "id": "south-excitement",
   "metadata": {
    "colab": {
     "base_uri": "https://localhost:8080/",
     "height": 857
    },
    "executionInfo": {
     "elapsed": 4479788,
     "status": "ok",
     "timestamp": 1617566671177,
     "user": {
      "displayName": "Andrés Zapata",
      "photoUrl": "https://lh3.googleusercontent.com/a-/AOh14Gj-eJhEQrYm7yW30WK1klNB5crOpPy_c1vJREkLCJs=s64",
      "userId": "15045990832920962230"
     },
     "user_tz": -120
    },
    "id": "literary-prairie",
    "outputId": "b7664122-ab46-4810-9196-e0d51b2cce21"
   },
   "outputs": [
    {
     "data": {
      "text/html": [
       "<div>\n",
       "<style scoped>\n",
       "    .dataframe tbody tr th:only-of-type {\n",
       "        vertical-align: middle;\n",
       "    }\n",
       "\n",
       "    .dataframe tbody tr th {\n",
       "        vertical-align: top;\n",
       "    }\n",
       "\n",
       "    .dataframe thead th {\n",
       "        text-align: right;\n",
       "    }\n",
       "</style>\n",
       "<table border=\"1\" class=\"dataframe\">\n",
       "  <thead>\n",
       "    <tr style=\"text-align: right;\">\n",
       "      <th></th>\n",
       "      <th>val_loss</th>\n",
       "      <th>val_accuracy</th>\n",
       "      <th>val_precision</th>\n",
       "      <th>val_recall</th>\n",
       "      <th>loss</th>\n",
       "      <th>accuracy</th>\n",
       "      <th>precision</th>\n",
       "      <th>recall</th>\n",
       "    </tr>\n",
       "  </thead>\n",
       "  <tbody>\n",
       "    <tr>\n",
       "      <th>0</th>\n",
       "      <td>0.534667</td>\n",
       "      <td>0.729859</td>\n",
       "      <td>0.757045</td>\n",
       "      <td>0.677252</td>\n",
       "      <td>0.587527</td>\n",
       "      <td>0.684686</td>\n",
       "      <td>0.685965</td>\n",
       "      <td>0.680805</td>\n",
       "    </tr>\n",
       "    <tr>\n",
       "      <th>1</th>\n",
       "      <td>0.515959</td>\n",
       "      <td>0.741328</td>\n",
       "      <td>0.786201</td>\n",
       "      <td>0.663178</td>\n",
       "      <td>0.533684</td>\n",
       "      <td>0.732137</td>\n",
       "      <td>0.738077</td>\n",
       "      <td>0.719347</td>\n",
       "    </tr>\n",
       "    <tr>\n",
       "      <th>2</th>\n",
       "      <td>0.503314</td>\n",
       "      <td>0.750297</td>\n",
       "      <td>0.791847</td>\n",
       "      <td>0.679345</td>\n",
       "      <td>0.515367</td>\n",
       "      <td>0.745459</td>\n",
       "      <td>0.752719</td>\n",
       "      <td>0.730808</td>\n",
       "    </tr>\n",
       "    <tr>\n",
       "      <th>3</th>\n",
       "      <td>0.490644</td>\n",
       "      <td>0.760070</td>\n",
       "      <td>0.758943</td>\n",
       "      <td>0.762488</td>\n",
       "      <td>0.503822</td>\n",
       "      <td>0.753098</td>\n",
       "      <td>0.760398</td>\n",
       "      <td>0.738807</td>\n",
       "    </tr>\n",
       "    <tr>\n",
       "      <th>4</th>\n",
       "      <td>0.493657</td>\n",
       "      <td>0.756648</td>\n",
       "      <td>0.809067</td>\n",
       "      <td>0.672066</td>\n",
       "      <td>0.494813</td>\n",
       "      <td>0.759469</td>\n",
       "      <td>0.767235</td>\n",
       "      <td>0.744677</td>\n",
       "    </tr>\n",
       "    <tr>\n",
       "      <th>5</th>\n",
       "      <td>0.488628</td>\n",
       "      <td>0.759578</td>\n",
       "      <td>0.812364</td>\n",
       "      <td>0.675299</td>\n",
       "      <td>0.487864</td>\n",
       "      <td>0.763609</td>\n",
       "      <td>0.771040</td>\n",
       "      <td>0.749647</td>\n",
       "    </tr>\n",
       "    <tr>\n",
       "      <th>6</th>\n",
       "      <td>0.479692</td>\n",
       "      <td>0.767570</td>\n",
       "      <td>0.755034</td>\n",
       "      <td>0.792384</td>\n",
       "      <td>0.481959</td>\n",
       "      <td>0.768129</td>\n",
       "      <td>0.775400</td>\n",
       "      <td>0.754680</td>\n",
       "    </tr>\n",
       "    <tr>\n",
       "      <th>7</th>\n",
       "      <td>0.477785</td>\n",
       "      <td>0.767773</td>\n",
       "      <td>0.801714</td>\n",
       "      <td>0.711740</td>\n",
       "      <td>0.476333</td>\n",
       "      <td>0.771162</td>\n",
       "      <td>0.777825</td>\n",
       "      <td>0.758928</td>\n",
       "    </tr>\n",
       "    <tr>\n",
       "      <th>8</th>\n",
       "      <td>0.476703</td>\n",
       "      <td>0.769203</td>\n",
       "      <td>0.808861</td>\n",
       "      <td>0.705211</td>\n",
       "      <td>0.472035</td>\n",
       "      <td>0.774986</td>\n",
       "      <td>0.781796</td>\n",
       "      <td>0.762668</td>\n",
       "    </tr>\n",
       "    <tr>\n",
       "      <th>9</th>\n",
       "      <td>0.469611</td>\n",
       "      <td>0.773742</td>\n",
       "      <td>0.791132</td>\n",
       "      <td>0.744088</td>\n",
       "      <td>0.468152</td>\n",
       "      <td>0.776535</td>\n",
       "      <td>0.783079</td>\n",
       "      <td>0.764743</td>\n",
       "    </tr>\n",
       "    <tr>\n",
       "      <th>10</th>\n",
       "      <td>0.468688</td>\n",
       "      <td>0.774555</td>\n",
       "      <td>0.796266</td>\n",
       "      <td>0.738121</td>\n",
       "      <td>0.464953</td>\n",
       "      <td>0.778807</td>\n",
       "      <td>0.784855</td>\n",
       "      <td>0.767959</td>\n",
       "    </tr>\n",
       "    <tr>\n",
       "      <th>11</th>\n",
       "      <td>0.472646</td>\n",
       "      <td>0.772633</td>\n",
       "      <td>0.749682</td>\n",
       "      <td>0.818828</td>\n",
       "      <td>0.461190</td>\n",
       "      <td>0.781033</td>\n",
       "      <td>0.787104</td>\n",
       "      <td>0.770233</td>\n",
       "    </tr>\n",
       "    <tr>\n",
       "      <th>12</th>\n",
       "      <td>0.465067</td>\n",
       "      <td>0.777000</td>\n",
       "      <td>0.773556</td>\n",
       "      <td>0.783512</td>\n",
       "      <td>0.458166</td>\n",
       "      <td>0.782684</td>\n",
       "      <td>0.789781</td>\n",
       "      <td>0.770214</td>\n",
       "    </tr>\n",
       "    <tr>\n",
       "      <th>13</th>\n",
       "      <td>0.475998</td>\n",
       "      <td>0.769641</td>\n",
       "      <td>0.826761</td>\n",
       "      <td>0.682437</td>\n",
       "      <td>0.455762</td>\n",
       "      <td>0.783855</td>\n",
       "      <td>0.790431</td>\n",
       "      <td>0.772312</td>\n",
       "    </tr>\n",
       "    <tr>\n",
       "      <th>14</th>\n",
       "      <td>0.463384</td>\n",
       "      <td>0.778539</td>\n",
       "      <td>0.798421</td>\n",
       "      <td>0.745431</td>\n",
       "      <td>0.452577</td>\n",
       "      <td>0.786105</td>\n",
       "      <td>0.792283</td>\n",
       "      <td>0.775317</td>\n",
       "    </tr>\n",
       "    <tr>\n",
       "      <th>15</th>\n",
       "      <td>0.461917</td>\n",
       "      <td>0.779047</td>\n",
       "      <td>0.785254</td>\n",
       "      <td>0.768376</td>\n",
       "      <td>0.450189</td>\n",
       "      <td>0.786820</td>\n",
       "      <td>0.793718</td>\n",
       "      <td>0.774860</td>\n",
       "    </tr>\n",
       "    <tr>\n",
       "      <th>16</th>\n",
       "      <td>0.460167</td>\n",
       "      <td>0.780578</td>\n",
       "      <td>0.792153</td>\n",
       "      <td>0.760973</td>\n",
       "      <td>0.448109</td>\n",
       "      <td>0.788650</td>\n",
       "      <td>0.795412</td>\n",
       "      <td>0.776990</td>\n",
       "    </tr>\n",
       "    <tr>\n",
       "      <th>17</th>\n",
       "      <td>0.462838</td>\n",
       "      <td>0.780094</td>\n",
       "      <td>0.772491</td>\n",
       "      <td>0.794258</td>\n",
       "      <td>0.445721</td>\n",
       "      <td>0.789980</td>\n",
       "      <td>0.796664</td>\n",
       "      <td>0.778502</td>\n",
       "    </tr>\n",
       "    <tr>\n",
       "      <th>18</th>\n",
       "      <td>0.464336</td>\n",
       "      <td>0.779437</td>\n",
       "      <td>0.765308</td>\n",
       "      <td>0.806285</td>\n",
       "      <td>0.444218</td>\n",
       "      <td>0.791402</td>\n",
       "      <td>0.798108</td>\n",
       "      <td>0.779944</td>\n",
       "    </tr>\n",
       "    <tr>\n",
       "      <th>19</th>\n",
       "      <td>0.479811</td>\n",
       "      <td>0.769898</td>\n",
       "      <td>0.730162</td>\n",
       "      <td>0.856471</td>\n",
       "      <td>0.441603</td>\n",
       "      <td>0.792395</td>\n",
       "      <td>0.799200</td>\n",
       "      <td>0.780811</td>\n",
       "    </tr>\n",
       "    <tr>\n",
       "      <th>20</th>\n",
       "      <td>0.465381</td>\n",
       "      <td>0.777531</td>\n",
       "      <td>0.815504</td>\n",
       "      <td>0.717550</td>\n",
       "      <td>0.439849</td>\n",
       "      <td>0.793791</td>\n",
       "      <td>0.800485</td>\n",
       "      <td>0.782445</td>\n",
       "    </tr>\n",
       "    <tr>\n",
       "      <th>21</th>\n",
       "      <td>0.460554</td>\n",
       "      <td>0.782016</td>\n",
       "      <td>0.769955</td>\n",
       "      <td>0.804567</td>\n",
       "      <td>0.438121</td>\n",
       "      <td>0.793951</td>\n",
       "      <td>0.800605</td>\n",
       "      <td>0.782675</td>\n",
       "    </tr>\n",
       "    <tr>\n",
       "      <th>22</th>\n",
       "      <td>0.459194</td>\n",
       "      <td>0.782539</td>\n",
       "      <td>0.776039</td>\n",
       "      <td>0.794524</td>\n",
       "      <td>0.436393</td>\n",
       "      <td>0.795025</td>\n",
       "      <td>0.801946</td>\n",
       "      <td>0.783359</td>\n",
       "    </tr>\n",
       "    <tr>\n",
       "      <th>23</th>\n",
       "      <td>0.460136</td>\n",
       "      <td>0.781461</td>\n",
       "      <td>0.805889</td>\n",
       "      <td>0.741729</td>\n",
       "      <td>0.434803</td>\n",
       "      <td>0.796377</td>\n",
       "      <td>0.803228</td>\n",
       "      <td>0.784876</td>\n",
       "    </tr>\n",
       "    <tr>\n",
       "      <th>24</th>\n",
       "      <td>0.457636</td>\n",
       "      <td>0.783430</td>\n",
       "      <td>0.788529</td>\n",
       "      <td>0.774796</td>\n",
       "      <td>0.433181</td>\n",
       "      <td>0.797070</td>\n",
       "      <td>0.803878</td>\n",
       "      <td>0.785665</td>\n",
       "    </tr>\n",
       "    <tr>\n",
       "      <th>25</th>\n",
       "      <td>0.465691</td>\n",
       "      <td>0.779875</td>\n",
       "      <td>0.757633</td>\n",
       "      <td>0.823264</td>\n",
       "      <td>0.431741</td>\n",
       "      <td>0.798471</td>\n",
       "      <td>0.805535</td>\n",
       "      <td>0.786708</td>\n",
       "    </tr>\n",
       "    <tr>\n",
       "      <th>26</th>\n",
       "      <td>0.458308</td>\n",
       "      <td>0.783148</td>\n",
       "      <td>0.793145</td>\n",
       "      <td>0.766299</td>\n",
       "      <td>0.430264</td>\n",
       "      <td>0.798598</td>\n",
       "      <td>0.805554</td>\n",
       "      <td>0.787013</td>\n",
       "    </tr>\n",
       "    <tr>\n",
       "      <th>27</th>\n",
       "      <td>0.464369</td>\n",
       "      <td>0.780516</td>\n",
       "      <td>0.759866</td>\n",
       "      <td>0.820468</td>\n",
       "      <td>0.429092</td>\n",
       "      <td>0.799418</td>\n",
       "      <td>0.806455</td>\n",
       "      <td>0.787736</td>\n",
       "    </tr>\n",
       "    <tr>\n",
       "      <th>28</th>\n",
       "      <td>0.457869</td>\n",
       "      <td>0.784375</td>\n",
       "      <td>0.789707</td>\n",
       "      <td>0.775374</td>\n",
       "      <td>0.427438</td>\n",
       "      <td>0.799883</td>\n",
       "      <td>0.807219</td>\n",
       "      <td>0.787744</td>\n",
       "    </tr>\n",
       "    <tr>\n",
       "      <th>29</th>\n",
       "      <td>0.462859</td>\n",
       "      <td>0.783492</td>\n",
       "      <td>0.777520</td>\n",
       "      <td>0.794461</td>\n",
       "      <td>0.426092</td>\n",
       "      <td>0.801014</td>\n",
       "      <td>0.807894</td>\n",
       "      <td>0.789643</td>\n",
       "    </tr>\n",
       "    <tr>\n",
       "      <th>30</th>\n",
       "      <td>0.456405</td>\n",
       "      <td>0.784781</td>\n",
       "      <td>0.793700</td>\n",
       "      <td>0.769798</td>\n",
       "      <td>0.424829</td>\n",
       "      <td>0.801844</td>\n",
       "      <td>0.808693</td>\n",
       "      <td>0.790553</td>\n",
       "    </tr>\n",
       "    <tr>\n",
       "      <th>31</th>\n",
       "      <td>0.457016</td>\n",
       "      <td>0.784266</td>\n",
       "      <td>0.786091</td>\n",
       "      <td>0.781278</td>\n",
       "      <td>0.423649</td>\n",
       "      <td>0.802398</td>\n",
       "      <td>0.809124</td>\n",
       "      <td>0.791323</td>\n",
       "    </tr>\n",
       "    <tr>\n",
       "      <th>32</th>\n",
       "      <td>0.458105</td>\n",
       "      <td>0.784211</td>\n",
       "      <td>0.788033</td>\n",
       "      <td>0.777780</td>\n",
       "      <td>0.422838</td>\n",
       "      <td>0.802834</td>\n",
       "      <td>0.810129</td>\n",
       "      <td>0.790878</td>\n",
       "    </tr>\n",
       "    <tr>\n",
       "      <th>33</th>\n",
       "      <td>0.463818</td>\n",
       "      <td>0.782750</td>\n",
       "      <td>0.772278</td>\n",
       "      <td>0.802193</td>\n",
       "      <td>0.421359</td>\n",
       "      <td>0.803971</td>\n",
       "      <td>0.811456</td>\n",
       "      <td>0.791761</td>\n",
       "    </tr>\n",
       "    <tr>\n",
       "      <th>34</th>\n",
       "      <td>0.467542</td>\n",
       "      <td>0.780109</td>\n",
       "      <td>0.755760</td>\n",
       "      <td>0.827934</td>\n",
       "      <td>0.420126</td>\n",
       "      <td>0.804490</td>\n",
       "      <td>0.811908</td>\n",
       "      <td>0.792406</td>\n",
       "    </tr>\n",
       "    <tr>\n",
       "      <th>35</th>\n",
       "      <td>0.460229</td>\n",
       "      <td>0.784852</td>\n",
       "      <td>0.793730</td>\n",
       "      <td>0.769938</td>\n",
       "      <td>0.419249</td>\n",
       "      <td>0.805020</td>\n",
       "      <td>0.812570</td>\n",
       "      <td>0.792750</td>\n",
       "    </tr>\n",
       "    <tr>\n",
       "      <th>36</th>\n",
       "      <td>0.459316</td>\n",
       "      <td>0.785016</td>\n",
       "      <td>0.787651</td>\n",
       "      <td>0.780638</td>\n",
       "      <td>0.418446</td>\n",
       "      <td>0.805197</td>\n",
       "      <td>0.812608</td>\n",
       "      <td>0.793152</td>\n",
       "    </tr>\n",
       "    <tr>\n",
       "      <th>37</th>\n",
       "      <td>0.458478</td>\n",
       "      <td>0.783422</td>\n",
       "      <td>0.794681</td>\n",
       "      <td>0.764518</td>\n",
       "      <td>0.417133</td>\n",
       "      <td>0.805693</td>\n",
       "      <td>0.813247</td>\n",
       "      <td>0.793445</td>\n",
       "    </tr>\n",
       "    <tr>\n",
       "      <th>38</th>\n",
       "      <td>0.469980</td>\n",
       "      <td>0.778086</td>\n",
       "      <td>0.824186</td>\n",
       "      <td>0.707179</td>\n",
       "      <td>0.415970</td>\n",
       "      <td>0.806223</td>\n",
       "      <td>0.813871</td>\n",
       "      <td>0.793848</td>\n",
       "    </tr>\n",
       "    <tr>\n",
       "      <th>39</th>\n",
       "      <td>0.459631</td>\n",
       "      <td>0.784109</td>\n",
       "      <td>0.799066</td>\n",
       "      <td>0.759301</td>\n",
       "      <td>0.415005</td>\n",
       "      <td>0.807559</td>\n",
       "      <td>0.815080</td>\n",
       "      <td>0.795434</td>\n",
       "    </tr>\n",
       "    <tr>\n",
       "      <th>40</th>\n",
       "      <td>0.470109</td>\n",
       "      <td>0.780117</td>\n",
       "      <td>0.817591</td>\n",
       "      <td>0.721315</td>\n",
       "      <td>0.414221</td>\n",
       "      <td>0.807697</td>\n",
       "      <td>0.815549</td>\n",
       "      <td>0.795067</td>\n",
       "    </tr>\n",
       "    <tr>\n",
       "      <th>41</th>\n",
       "      <td>0.458498</td>\n",
       "      <td>0.785023</td>\n",
       "      <td>0.788162</td>\n",
       "      <td>0.779779</td>\n",
       "      <td>0.413019</td>\n",
       "      <td>0.807918</td>\n",
       "      <td>0.815156</td>\n",
       "      <td>0.796247</td>\n",
       "    </tr>\n",
       "    <tr>\n",
       "      <th>42</th>\n",
       "      <td>0.464186</td>\n",
       "      <td>0.784289</td>\n",
       "      <td>0.784279</td>\n",
       "      <td>0.784512</td>\n",
       "      <td>0.411662</td>\n",
       "      <td>0.808438</td>\n",
       "      <td>0.816242</td>\n",
       "      <td>0.795911</td>\n",
       "    </tr>\n",
       "    <tr>\n",
       "      <th>43</th>\n",
       "      <td>0.477584</td>\n",
       "      <td>0.774664</td>\n",
       "      <td>0.832624</td>\n",
       "      <td>0.687732</td>\n",
       "      <td>0.411796</td>\n",
       "      <td>0.808604</td>\n",
       "      <td>0.817268</td>\n",
       "      <td>0.794762</td>\n",
       "    </tr>\n",
       "    <tr>\n",
       "      <th>44</th>\n",
       "      <td>0.471378</td>\n",
       "      <td>0.779164</td>\n",
       "      <td>0.754647</td>\n",
       "      <td>0.827528</td>\n",
       "      <td>0.410523</td>\n",
       "      <td>0.809176</td>\n",
       "      <td>0.817213</td>\n",
       "      <td>0.796321</td>\n",
       "    </tr>\n",
       "    <tr>\n",
       "      <th>45</th>\n",
       "      <td>0.463269</td>\n",
       "      <td>0.783484</td>\n",
       "      <td>0.772648</td>\n",
       "      <td>0.803568</td>\n",
       "      <td>0.410378</td>\n",
       "      <td>0.809461</td>\n",
       "      <td>0.817778</td>\n",
       "      <td>0.796188</td>\n",
       "    </tr>\n",
       "  </tbody>\n",
       "</table>\n",
       "</div>"
      ],
      "text/plain": [
       "    val_loss  val_accuracy  val_precision  val_recall      loss  accuracy  \\\n",
       "0   0.534667      0.729859       0.757045    0.677252  0.587527  0.684686   \n",
       "1   0.515959      0.741328       0.786201    0.663178  0.533684  0.732137   \n",
       "2   0.503314      0.750297       0.791847    0.679345  0.515367  0.745459   \n",
       "3   0.490644      0.760070       0.758943    0.762488  0.503822  0.753098   \n",
       "4   0.493657      0.756648       0.809067    0.672066  0.494813  0.759469   \n",
       "5   0.488628      0.759578       0.812364    0.675299  0.487864  0.763609   \n",
       "6   0.479692      0.767570       0.755034    0.792384  0.481959  0.768129   \n",
       "7   0.477785      0.767773       0.801714    0.711740  0.476333  0.771162   \n",
       "8   0.476703      0.769203       0.808861    0.705211  0.472035  0.774986   \n",
       "9   0.469611      0.773742       0.791132    0.744088  0.468152  0.776535   \n",
       "10  0.468688      0.774555       0.796266    0.738121  0.464953  0.778807   \n",
       "11  0.472646      0.772633       0.749682    0.818828  0.461190  0.781033   \n",
       "12  0.465067      0.777000       0.773556    0.783512  0.458166  0.782684   \n",
       "13  0.475998      0.769641       0.826761    0.682437  0.455762  0.783855   \n",
       "14  0.463384      0.778539       0.798421    0.745431  0.452577  0.786105   \n",
       "15  0.461917      0.779047       0.785254    0.768376  0.450189  0.786820   \n",
       "16  0.460167      0.780578       0.792153    0.760973  0.448109  0.788650   \n",
       "17  0.462838      0.780094       0.772491    0.794258  0.445721  0.789980   \n",
       "18  0.464336      0.779437       0.765308    0.806285  0.444218  0.791402   \n",
       "19  0.479811      0.769898       0.730162    0.856471  0.441603  0.792395   \n",
       "20  0.465381      0.777531       0.815504    0.717550  0.439849  0.793791   \n",
       "21  0.460554      0.782016       0.769955    0.804567  0.438121  0.793951   \n",
       "22  0.459194      0.782539       0.776039    0.794524  0.436393  0.795025   \n",
       "23  0.460136      0.781461       0.805889    0.741729  0.434803  0.796377   \n",
       "24  0.457636      0.783430       0.788529    0.774796  0.433181  0.797070   \n",
       "25  0.465691      0.779875       0.757633    0.823264  0.431741  0.798471   \n",
       "26  0.458308      0.783148       0.793145    0.766299  0.430264  0.798598   \n",
       "27  0.464369      0.780516       0.759866    0.820468  0.429092  0.799418   \n",
       "28  0.457869      0.784375       0.789707    0.775374  0.427438  0.799883   \n",
       "29  0.462859      0.783492       0.777520    0.794461  0.426092  0.801014   \n",
       "30  0.456405      0.784781       0.793700    0.769798  0.424829  0.801844   \n",
       "31  0.457016      0.784266       0.786091    0.781278  0.423649  0.802398   \n",
       "32  0.458105      0.784211       0.788033    0.777780  0.422838  0.802834   \n",
       "33  0.463818      0.782750       0.772278    0.802193  0.421359  0.803971   \n",
       "34  0.467542      0.780109       0.755760    0.827934  0.420126  0.804490   \n",
       "35  0.460229      0.784852       0.793730    0.769938  0.419249  0.805020   \n",
       "36  0.459316      0.785016       0.787651    0.780638  0.418446  0.805197   \n",
       "37  0.458478      0.783422       0.794681    0.764518  0.417133  0.805693   \n",
       "38  0.469980      0.778086       0.824186    0.707179  0.415970  0.806223   \n",
       "39  0.459631      0.784109       0.799066    0.759301  0.415005  0.807559   \n",
       "40  0.470109      0.780117       0.817591    0.721315  0.414221  0.807697   \n",
       "41  0.458498      0.785023       0.788162    0.779779  0.413019  0.807918   \n",
       "42  0.464186      0.784289       0.784279    0.784512  0.411662  0.808438   \n",
       "43  0.477584      0.774664       0.832624    0.687732  0.411796  0.808604   \n",
       "44  0.471378      0.779164       0.754647    0.827528  0.410523  0.809176   \n",
       "45  0.463269      0.783484       0.772648    0.803568  0.410378  0.809461   \n",
       "\n",
       "    precision    recall  \n",
       "0    0.685965  0.680805  \n",
       "1    0.738077  0.719347  \n",
       "2    0.752719  0.730808  \n",
       "3    0.760398  0.738807  \n",
       "4    0.767235  0.744677  \n",
       "5    0.771040  0.749647  \n",
       "6    0.775400  0.754680  \n",
       "7    0.777825  0.758928  \n",
       "8    0.781796  0.762668  \n",
       "9    0.783079  0.764743  \n",
       "10   0.784855  0.767959  \n",
       "11   0.787104  0.770233  \n",
       "12   0.789781  0.770214  \n",
       "13   0.790431  0.772312  \n",
       "14   0.792283  0.775317  \n",
       "15   0.793718  0.774860  \n",
       "16   0.795412  0.776990  \n",
       "17   0.796664  0.778502  \n",
       "18   0.798108  0.779944  \n",
       "19   0.799200  0.780811  \n",
       "20   0.800485  0.782445  \n",
       "21   0.800605  0.782675  \n",
       "22   0.801946  0.783359  \n",
       "23   0.803228  0.784876  \n",
       "24   0.803878  0.785665  \n",
       "25   0.805535  0.786708  \n",
       "26   0.805554  0.787013  \n",
       "27   0.806455  0.787736  \n",
       "28   0.807219  0.787744  \n",
       "29   0.807894  0.789643  \n",
       "30   0.808693  0.790553  \n",
       "31   0.809124  0.791323  \n",
       "32   0.810129  0.790878  \n",
       "33   0.811456  0.791761  \n",
       "34   0.811908  0.792406  \n",
       "35   0.812570  0.792750  \n",
       "36   0.812608  0.793152  \n",
       "37   0.813247  0.793445  \n",
       "38   0.813871  0.793848  \n",
       "39   0.815080  0.795434  \n",
       "40   0.815549  0.795067  \n",
       "41   0.815156  0.796247  \n",
       "42   0.816242  0.795911  \n",
       "43   0.817268  0.794762  \n",
       "44   0.817213  0.796321  \n",
       "45   0.817778  0.796188  "
      ]
     },
     "execution_count": 17,
     "metadata": {},
     "output_type": "execute_result"
    }
   ],
   "source": [
    "metrics = pd.DataFrame(history.history)\n",
    "metrics"
   ]
  },
  {
   "cell_type": "code",
   "execution_count": 18,
   "id": "89a520bb",
   "metadata": {},
   "outputs": [
    {
     "name": "stdout",
     "output_type": "stream",
     "text": [
      "Best training loss: 0.42482899607345465\n",
      "Best training accuracy: 0.8018437623977661\n",
      "Best training precision: 0.8086927533149719\n",
      "Best training recall: 0.7905534505844116\n",
      "---------------------------------------------\n",
      "Best validation loss: 0.4564046332389116\n",
      "Best validation accuracy: 0.784781277179718\n",
      "Best validation precision: 0.7936998605728149\n",
      "Best validation recall: 0.7697978615760803\n"
     ]
    }
   ],
   "source": [
    "print(f'Best training loss: {metrics.sort_values(by=\"val_loss\", ascending=True).iloc[0,4]}')\n",
    "print(f'Best training accuracy: {metrics.sort_values(by=\"val_loss\", ascending=True).iloc[0,5]}')\n",
    "print(f'Best training precision: {metrics.sort_values(by=\"val_loss\", ascending=True).iloc[0,6]}')\n",
    "print(f'Best training recall: {metrics.sort_values(by=\"val_loss\", ascending=True).iloc[0,7]}')\n",
    "print('---------------------------------------------')\n",
    "print(f'Best validation loss: {metrics.sort_values(by=\"val_loss\", ascending=True).iloc[0,0]}')\n",
    "print(f'Best validation accuracy: {metrics.sort_values(by=\"val_loss\", ascending=True).iloc[0,1]}')\n",
    "print(f'Best validation precision: {metrics.sort_values(by=\"val_loss\", ascending=True).iloc[0,2]}')\n",
    "print(f'Best validation recall: {metrics.sort_values(by=\"val_loss\", ascending=True).iloc[0,3]}')"
   ]
  },
  {
   "cell_type": "code",
   "execution_count": 19,
   "id": "described-contest",
   "metadata": {
    "colab": {
     "base_uri": "https://localhost:8080/",
     "height": 282
    },
    "executionInfo": {
     "elapsed": 4479347,
     "status": "ok",
     "timestamp": 1617566671836,
     "user": {
      "displayName": "Andrés Zapata",
      "photoUrl": "https://lh3.googleusercontent.com/a-/AOh14Gj-eJhEQrYm7yW30WK1klNB5crOpPy_c1vJREkLCJs=s64",
      "userId": "15045990832920962230"
     },
     "user_tz": -120
    },
    "id": "southeast-ownership",
    "outputId": "a50a7ce7-8c59-4174-cb60-764561669285"
   },
   "outputs": [
    {
     "data": {
      "image/png": "[encoded data removed]",
      "text/plain": [
       "<Figure size 576x396 with 1 Axes>"
      ]
     },
     "metadata": {},
     "output_type": "display_data"
    }
   ],
   "source": [
    "metrics[['accuracy','val_accuracy']].plot()\n",
    "plt.savefig('../figures/cnn_glove50_50_acc.jpg', dpi=300)"
   ]
  },
  {
   "cell_type": "code",
   "execution_count": 20,
   "id": "civilian-walnut",
   "metadata": {
    "colab": {
     "base_uri": "https://localhost:8080/",
     "height": 282
    },
    "executionInfo": {
     "elapsed": 4478567,
     "status": "ok",
     "timestamp": 1617566671837,
     "user": {
      "displayName": "Andrés Zapata",
      "photoUrl": "https://lh3.googleusercontent.com/a-/AOh14Gj-eJhEQrYm7yW30WK1klNB5crOpPy_c1vJREkLCJs=s64",
      "userId": "15045990832920962230"
     },
     "user_tz": -120
    },
    "id": "national-missouri",
    "outputId": "482f886d-f45a-4bc8-89ce-4f6c749a2e2c",
    "scrolled": true
   },
   "outputs": [
    {
     "data": {
      "image/png": "[encoded data removed]",
      "text/plain": [
       "<Figure size 576x396 with 1 Axes>"
      ]
     },
     "metadata": {},
     "output_type": "display_data"
    }
   ],
   "source": [
    "metrics[['loss','val_loss']].plot()\n",
    "plt.savefig('../figures/cnn_glove50_50_loss.jpg', dpi=300)"
   ]
  },
  {
   "cell_type": "code",
   "execution_count": 21,
   "id": "dramatic-canal",
   "metadata": {
    "colab": {
     "base_uri": "https://localhost:8080/"
    },
    "executionInfo": {
     "elapsed": 4480377,
     "status": "ok",
     "timestamp": 1617566671176,
     "user": {
      "displayName": "Andrés Zapata",
      "photoUrl": "https://lh3.googleusercontent.com/a-/AOh14Gj-eJhEQrYm7yW30WK1klNB5crOpPy_c1vJREkLCJs=s64",
      "userId": "15045990832920962230"
     },
     "user_tz": -120
    },
    "id": "numeric-decrease",
    "outputId": "ffc99ab9-e26a-41f7-cbc2-35da1b8045d7",
    "scrolled": true
   },
   "outputs": [
    {
     "name": "stdout",
     "output_type": "stream",
     "text": [
      "160000/160000 [==============================] - 6s 36us/step\n"
     ]
    }
   ],
   "source": [
    "# Evaluation on test set\n",
    "test_loss, test_accuracy, test_precision, test_recall = model.evaluate(X_test, y_test)"
   ]
  },
  {
   "cell_type": "code",
   "execution_count": 22,
   "id": "de4b4829",
   "metadata": {
    "scrolled": true
   },
   "outputs": [
    {
     "name": "stdout",
     "output_type": "stream",
     "text": [
      "Test loss: 0.4604767789870501\n",
      "Test accuracy: 0.7819874882698059\n",
      "Test precision: 0.7888204455375671\n",
      "Test recall: 0.7672189474105835\n"
     ]
    }
   ],
   "source": [
    "print(f'Test loss: {test_loss}')\n",
    "print(f'Test accuracy: {test_accuracy}')\n",
    "print(f'Test precision: {test_precision}')\n",
    "print(f'Test recall: {test_recall}')"
   ]
  },
  {
   "cell_type": "code",
   "execution_count": 23,
   "id": "64189192",
   "metadata": {},
   "outputs": [],
   "source": [
    "model.save('../models/cnn_glove50_50.h5')"
   ]
  }
 ],
 "metadata": {
  "accelerator": "GPU",
  "colab": {
   "collapsed_sections": [],
   "name": "03b-sentiment140_classification_bin.ipynb",
   "provenance": []
  },
  "kernelspec": {
   "display_name": "Python 3",
   "language": "python",
   "name": "python3"
  },
  "language_info": {
   "codemirror_mode": {
    "name": "ipython",
    "version": 3
   },
   "file_extension": ".py",
   "mimetype": "text/x-python",
   "name": "python",
   "nbconvert_exporter": "python",
   "pygments_lexer": "ipython3",
   "version": "3.6.13"
  }
 },
 "nbformat": 4,
 "nbformat_minor": 5
}
