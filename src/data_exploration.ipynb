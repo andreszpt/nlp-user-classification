{
 "cells": [
  {
   "cell_type": "code",
   "execution_count": null,
   "id": "corresponding-friendship",
   "metadata": {},
   "outputs": [],
   "source": [
    "from nlp_functions import *\n",
    "import scattertext as st\n",
    "import io\n",
    "from pprint import pprint\n",
    "from scipy.stats import rankdata, hmean, norm\n",
    "import spacy\n",
    "import pkgutil, json, urllib\n",
    "from urllib.request import urlopen\n",
    "from scattertext import CorpusFromPandas, produce_scattertext_explorer\n",
    "import nltk\n",
    "from nltk.corpus import stopwords\n",
    "from collections import defaultdict\n",
    "from collections import Counter\n",
    "from sklearn.feature_extraction.text import CountVectorizer\n",
    "import tensorflow as tf\n",
    "sess = tf.Session()\n",
    "\n",
    "plt.style.use('seaborn')"
   ]
  },
  {
   "cell_type": "code",
   "execution_count": null,
   "id": "formal-cleaning",
   "metadata": {},
   "outputs": [],
   "source": [
    "# Importing our data\n",
    "sentiment140 = read_sentiment_file(DATA_DIRECTORY, 'sentiment140_train.csv')\n",
    "# Sampling our data\n",
    "sentiment140 = sentiment140.sample(frac=0.1, random_state=7)\n",
    "# Mapping 0: negative and 4: positive, for visualization\n",
    "sentiment140['polarity'] = sentiment140['polarity'].map({0: 'negative', 4: 'positive'})"
   ]
  },
  {
   "cell_type": "code",
   "execution_count": null,
   "id": "indoor-pregnancy",
   "metadata": {
    "scrolled": true
   },
   "outputs": [],
   "source": [
    "# Countplot of negative and positive polarity of texts\n",
    "sns.set_palette(['red', 'green', 'blue'])\n",
    "sns.countplot(x=sentiment140['polarity'])\n",
    "plt.savefig(\"../figures/negative_positive.svg\", format=\"svg\", dpi=300)"
   ]
  },
  {
   "cell_type": "code",
   "execution_count": null,
   "id": "pursuant-texas",
   "metadata": {
    "scrolled": false
   },
   "outputs": [],
   "source": [
    "# Number of characters and words per sentece\n",
    "fig, axs = plt.subplots(1, 2, figsize=(14, 7))\n",
    "axs[0].hist(sentiment140['text'].str.len(), color='skyblue', bins=10)\n",
    "axs[0].set_title('Characters in each sentence')\n",
    "axs[0].set_xlabel('Number of characters')\n",
    "axs[0].set_ylabel('Count')\n",
    "axs[1].hist(sentiment140['text'].apply(lambda x: len(x.split())), color='skyblue', bins=10)\n",
    "axs[1].set_title('Words in each sentence')\n",
    "axs[1].set_xlabel('Number of words')\n",
    "axs[1].set_ylabel('Count')\n",
    "plt.savefig(\"../figures/characters_words.png\", dpi=300);"
   ]
  },
  {
   "cell_type": "code",
   "execution_count": null,
   "id": "fifty-baking",
   "metadata": {
    "scrolled": true
   },
   "outputs": [],
   "source": [
    "# English stopwords\n",
    "nltk.download('stopwords')\n",
    "stop=set(stopwords.words('english'))"
   ]
  },
  {
   "cell_type": "code",
   "execution_count": null,
   "id": "constitutional-departure",
   "metadata": {},
   "outputs": [],
   "source": [
    "# Most common stopwords in texts\n",
    "corpus = []\n",
    "words = sentiment140['text'].str.split()\n",
    "words = words.values.tolist()\n",
    "corpus = [word for i in words for word in i]\n",
    "dic = defaultdict(int)\n",
    "for word in corpus:\n",
    "    if word in stop:\n",
    "        dic[word] += 1\n",
    "top = sorted(dic.items(), key=lambda x:x[1], reverse=True)[:10] \n",
    "x, y = zip(*top)\n",
    "plt.bar(x, y, color='skyblue')\n",
    "plt.savefig(\"../figures/stopwords.png\", dpi=300);"
   ]
  },
  {
   "cell_type": "code",
   "execution_count": null,
   "id": "honest-gauge",
   "metadata": {
    "scrolled": true
   },
   "outputs": [],
   "source": [
    "# Most common words in texts\n",
    "counter = Counter(corpus)\n",
    "most = counter.most_common()\n",
    "x, y = [], []\n",
    "for word, count in most[:40]:\n",
    "    if (word not in stop):\n",
    "        x.append(word)\n",
    "        y.append(count)\n",
    "sns.barplot(x=y, y=x)\n",
    "plt.savefig(\"../figures/most_common.png\", dpi=300);"
   ]
  },
  {
   "cell_type": "code",
   "execution_count": null,
   "id": "f46000a0",
   "metadata": {},
   "outputs": [],
   "source": [
    "# Getting top bigrams in texts\n",
    "corpus = sentiment140['text']\n",
    "vec = CountVectorizer(ngram_range=(2, 2)).fit(corpus)\n",
    "bag_of_words = vec.transform(corpus)\n",
    "sum_words = bag_of_words.sum(axis=0) \n",
    "words_freq = [(word, sum_words[0, idx]) \n",
    "              for word, idx in vec.vocabulary_.items()]\n",
    "words_freq = sorted(words_freq, key = lambda x: x[1], reverse=True)\n",
    "top_10_bigrams = words_freq[:10]\n",
    "x, y = map(list, zip(*top_10_bigrams))\n",
    "sns.barplot(x=y, y=x)\n",
    "plt.savefig(\"../figures/bigrams.png\", dpi=300);"
   ]
  },
  {
   "cell_type": "code",
   "execution_count": null,
   "id": "graphic-battlefield",
   "metadata": {},
   "outputs": [],
   "source": [
    "# Parsing texts to scatter plot\n",
    "nlp = spacy.load(\"en_core_web_sm\")\n",
    "sentiment140['parsed'] = sentiment140.text.apply(nlp)\n",
    "sentiment140.to_csv('sentiment140_parsed.csv', index=False)"
   ]
  },
  {
   "cell_type": "code",
   "execution_count": null,
   "id": "recorded-slovakia",
   "metadata": {},
   "outputs": [],
   "source": [
    "corpus = st.CorpusFromParsedDocuments(sentiment140, category_col='polarity', parsed_col='parsed').build()"
   ]
  },
  {
   "cell_type": "code",
   "execution_count": null,
   "id": "eb524059",
   "metadata": {},
   "outputs": [],
   "source": [
    "html = st.produce_scattertext_explorer(corpus,\n",
    "                                       category='positive',\n",
    "                                       category_name='Positive',\n",
    "                                       not_category_name='Negative',\n",
    "                                       minimum_term_frequency=5,\n",
    "                                       width_in_pixels=1000,\n",
    "                                       transform=st.Scalers.log_scale_standardize)\n",
    "file_name = 'ScattertextGraph.html'\n",
    "open(file_name, 'wb').write(html.encode('utf-8'))"
   ]
  }
 ],
 "metadata": {
  "kernelspec": {
   "display_name": "Python 3",
   "language": "python",
   "name": "python3"
  },
  "language_info": {
   "codemirror_mode": {
    "name": "ipython",
    "version": 3
   },
   "file_extension": ".py",
   "mimetype": "text/x-python",
   "name": "python",
   "nbconvert_exporter": "python",
   "pygments_lexer": "ipython3",
   "version": "3.6.13"
  }
 },
 "nbformat": 4,
 "nbformat_minor": 5
}
