{
 "cells": [
  {
   "cell_type": "code",
   "execution_count": 1,
   "metadata": {
    "scrolled": true
   },
   "outputs": [
    {
     "name": "stderr",
     "output_type": "stream",
     "text": [
      "Using TensorFlow backend.\n"
     ]
    }
   ],
   "source": [
    "from nlp_functions import *\n",
    "import os\n",
    "os.environ['TF_CPP_MIN_LOG_LEVEL'] = '3'\n",
    "import itertools\n",
    "import string\n",
    "import tensorflow_hub as hub\n",
    "import tensorflow as tf\n",
    "from keras import backend as K\n",
    "import keras.layers as layers\n",
    "from keras.models import Model, load_model\n",
    "from keras.layers import Layer\n",
    "from keras.utils import Sequence\n",
    "from keras.layers import Activation, Conv1D, Dense, Dropout, Embedding, Flatten, GlobalMaxPool1D, LSTM\n",
    "from keras.layers import Input, MaxPooling1D, GlobalAveragePooling1D, multiply, concatenate, Reshape\n",
    "from keras.layers import Bidirectional\n",
    "from keras.optimizers import Adam\n",
    "import keras.initializers as initializers\n",
    "import keras.regularizers as regularizers\n",
    "import keras.constraints as constraints\n",
    "from sklearn import preprocessing\n",
    "from sklearn.metrics import confusion_matrix, classification_report, accuracy_score\n",
    "from sklearn.utils import shuffle\n",
    "import pickle\n",
    "\n",
    "sess = tf.Session()"
   ]
  },
  {
   "cell_type": "code",
   "execution_count": 2,
   "metadata": {},
   "outputs": [],
   "source": [
    "plt.style.use('seaborn')"
   ]
  },
  {
   "cell_type": "code",
   "execution_count": 3,
   "metadata": {},
   "outputs": [],
   "source": [
    "bert_path = \"https://tfhub.dev/google/bert_uncased_L-12_H-768_A-12/1\"\n",
    "elmo_path = \"https://tfhub.dev/google/elmo/2\""
   ]
  },
  {
   "cell_type": "markdown",
   "metadata": {},
   "source": [
    "# Load data"
   ]
  },
  {
   "cell_type": "code",
   "execution_count": 4,
   "metadata": {},
   "outputs": [],
   "source": [
    "# Importing our data\n",
    "sentiment140 = read_sentiment_file(DATA_DIRECTORY, 'sentiment140_train.csv')"
   ]
  },
  {
   "cell_type": "code",
   "execution_count": 5,
   "metadata": {},
   "outputs": [],
   "source": [
    "# Sampling 10% the data\n",
    "sentiment140 = sentiment140.sample(frac=0.1, random_state=7)"
   ]
  },
  {
   "cell_type": "code",
   "execution_count": 6,
   "metadata": {},
   "outputs": [],
   "source": [
    "# Separating into characteristics and labels\n",
    "X = sentiment140['text']\n",
    "y = sentiment140['polarity']"
   ]
  },
  {
   "cell_type": "code",
   "execution_count": 7,
   "metadata": {},
   "outputs": [],
   "source": [
    "# Cleaning the texts and mapping for easy classification\n",
    "X = clean_data(X)\n",
    "y = y.map({0: int(0), 4: int(1)})"
   ]
  },
  {
   "cell_type": "code",
   "execution_count": 8,
   "metadata": {},
   "outputs": [],
   "source": [
    "# Calculate maximum sequence length\n",
    "max_seq_length = max(X.str.len())"
   ]
  },
  {
   "cell_type": "code",
   "execution_count": 9,
   "metadata": {},
   "outputs": [],
   "source": [
    "# Split the data to train and test, then train and val\n",
    "X_train, X_test, y_train, y_test = train_test_split(X, y, test_size=0.2, random_state=7)\n",
    "X_train, X_val, y_train, y_val = train_test_split(X_train, y_train, test_size=0.2, random_state=7)"
   ]
  },
  {
   "cell_type": "markdown",
   "metadata": {},
   "source": [
    "# ELMO pipeline"
   ]
  },
  {
   "cell_type": "markdown",
   "metadata": {},
   "source": [
    "## Elmo Tokenizer"
   ]
  },
  {
   "cell_type": "code",
   "execution_count": 10,
   "metadata": {},
   "outputs": [],
   "source": [
    "from elmo_tokenizer import ELMO_tokenizer"
   ]
  },
  {
   "cell_type": "code",
   "execution_count": 11,
   "metadata": {},
   "outputs": [],
   "source": [
    "tokenizer = ELMO_tokenizer(max_seq_length)"
   ]
  },
  {
   "cell_type": "code",
   "execution_count": 12,
   "metadata": {},
   "outputs": [
    {
     "data": {
      "application/vnd.jupyter.widget-view+json": {
       "model_id": "d28178c970c24b09833afe3d0d4d12e5",
       "version_major": 2,
       "version_minor": 0
      },
      "text/plain": [
       "Converting examples to tokens:   0%|          | 0/102400 [00:00<?, ?it/s]"
      ]
     },
     "metadata": {},
     "output_type": "display_data"
    },
    {
     "data": {
      "application/vnd.jupyter.widget-view+json": {
       "model_id": "3d2570cb186441c29fa427b8492689c6",
       "version_major": 2,
       "version_minor": 0
      },
      "text/plain": [
       "Converting examples to tokens:   0%|          | 0/25600 [00:00<?, ?it/s]"
      ]
     },
     "metadata": {},
     "output_type": "display_data"
    },
    {
     "data": {
      "application/vnd.jupyter.widget-view+json": {
       "model_id": "6dcb3243837f422ca47c401d84905d56",
       "version_major": 2,
       "version_minor": 0
      },
      "text/plain": [
       "Converting examples to tokens:   0%|          | 0/32000 [00:00<?, ?it/s]"
      ]
     },
     "metadata": {},
     "output_type": "display_data"
    }
   ],
   "source": [
    "train_tokens = tokenizer.predict(X_train.tolist())\n",
    "train_label = y_train.tolist()\n",
    "\n",
    "val_tokens = tokenizer.predict(X_val.tolist())\n",
    "val_label = y_val.tolist()\n",
    "\n",
    "test_tokens = tokenizer.predict(X_test.tolist())\n",
    "test_label = y_test.tolist()"
   ]
  },
  {
   "cell_type": "markdown",
   "metadata": {},
   "source": [
    "## Elmo Model"
   ]
  },
  {
   "cell_type": "code",
   "execution_count": 13,
   "metadata": {
    "scrolled": false
   },
   "outputs": [
    {
     "name": "stdout",
     "output_type": "stream",
     "text": [
      "WARNING:tensorflow:From /home/andres/anaconda3/envs/gpu/lib/python3.6/site-packages/tensorflow_core/python/compat/v2_compat.py:68: disable_resource_variables (from tensorflow.python.ops.variable_scope) is deprecated and will be removed in a future version.\n",
      "Instructions for updating:\n",
      "non-resource variables are not supported in the long term\n"
     ]
    }
   ],
   "source": [
    "from elmo_layer import ElmoLayer"
   ]
  },
  {
   "cell_type": "code",
   "execution_count": 14,
   "metadata": {},
   "outputs": [],
   "source": [
    "from keras.layers import Flatten, Masking\n",
    "def build_model_elmo(max_seq_length): \n",
    "    input_tokens = Input(shape=(max_seq_length,), dtype=\"string\")\n",
    "    elmo_output = ElmoLayer(trainable=True, tf_hub=elmo_path, output_representation='default')(input_tokens)\n",
    "    dense = Dense(256, activation='relu')(elmo_output)\n",
    "    pred = Dense(1, activation='sigmoid')(dense)\n",
    "    model = Model(inputs=input_tokens, outputs=pred)\n",
    "    model.compile(\n",
    "        loss='binary_crossentropy',\n",
    "        optimizer='adam',\n",
    "        metrics=['accuracy', metrics.Precision(name='precision'), metrics.Recall(name='recall')])\n",
    "    model.summary()\n",
    "    return model\n",
    "def initialize_vars(sess):\n",
    "    sess.run(tf.local_variables_initializer())\n",
    "    sess.run(tf.global_variables_initializer())\n",
    "    sess.run(tf.tables_initializer())\n",
    "    K.set_session(sess)"
   ]
  },
  {
   "cell_type": "code",
   "execution_count": 15,
   "metadata": {
    "scrolled": true
   },
   "outputs": [
    {
     "name": "stdout",
     "output_type": "stream",
     "text": [
      "INFO:tensorflow:Saver not created because there are no variables in the graph to restore\n"
     ]
    },
    {
     "name": "stderr",
     "output_type": "stream",
     "text": [
      "INFO:tensorflow:Saver not created because there are no variables in the graph to restore\n"
     ]
    },
    {
     "name": "stdout",
     "output_type": "stream",
     "text": [
      "WARNING:tensorflow:From /home/andres/anaconda3/envs/gpu/lib/python3.6/site-packages/tensorflow_core/python/ops/resource_variable_ops.py:1630: calling BaseResourceVariable.__init__ (from tensorflow.python.ops.resource_variable_ops) with constraint is deprecated and will be removed in a future version.\n",
      "Instructions for updating:\n",
      "If using Keras pass *_constraint arguments to layers.\n"
     ]
    },
    {
     "name": "stderr",
     "output_type": "stream",
     "text": [
      "WARNING:tensorflow:From /home/andres/anaconda3/envs/gpu/lib/python3.6/site-packages/tensorflow_core/python/ops/resource_variable_ops.py:1630: calling BaseResourceVariable.__init__ (from tensorflow.python.ops.resource_variable_ops) with constraint is deprecated and will be removed in a future version.\n",
      "Instructions for updating:\n",
      "If using Keras pass *_constraint arguments to layers.\n"
     ]
    },
    {
     "name": "stdout",
     "output_type": "stream",
     "text": [
      "WARNING:tensorflow:From /home/andres/anaconda3/envs/gpu/lib/python3.6/site-packages/keras/backend/tensorflow_backend.py:3172: where (from tensorflow.python.ops.array_ops) is deprecated and will be removed in a future version.\n",
      "Instructions for updating:\n",
      "Use tf.where in 2.0, which has the same broadcast rule as np.where\n"
     ]
    },
    {
     "name": "stderr",
     "output_type": "stream",
     "text": [
      "WARNING:tensorflow:From /home/andres/anaconda3/envs/gpu/lib/python3.6/site-packages/keras/backend/tensorflow_backend.py:3172: where (from tensorflow.python.ops.array_ops) is deprecated and will be removed in a future version.\n",
      "Instructions for updating:\n",
      "Use tf.where in 2.0, which has the same broadcast rule as np.where\n"
     ]
    },
    {
     "name": "stdout",
     "output_type": "stream",
     "text": [
      "Model: \"model_1\"\n",
      "_________________________________________________________________\n",
      "Layer (type)                 Output Shape              Param #   \n",
      "=================================================================\n",
      "input_1 (InputLayer)         (None, 138)               0         \n",
      "_________________________________________________________________\n",
      "elmo_layer_1 (ElmoLayer)     (None, 1024)              93600852  \n",
      "_________________________________________________________________\n",
      "dense_1 (Dense)              (None, 256)               262400    \n",
      "_________________________________________________________________\n",
      "dense_2 (Dense)              (None, 1)                 257       \n",
      "=================================================================\n",
      "Total params: 93,863,509\n",
      "Trainable params: 262,661\n",
      "Non-trainable params: 93,600,848\n",
      "_________________________________________________________________\n"
     ]
    }
   ],
   "source": [
    "elmo_model = build_model_elmo(max_seq_length)\n",
    "initialize_vars(sess)"
   ]
  },
  {
   "cell_type": "code",
   "execution_count": 16,
   "metadata": {},
   "outputs": [],
   "source": [
    "from keras.utils import plot_model\n",
    "plot_model(\n",
    "    elmo_model,\n",
    "    to_file='../figures/elmo-arc.png',\n",
    "    show_shapes=True,\n",
    "    rankdir='TB',\n",
    "    dpi=300);"
   ]
  },
  {
   "cell_type": "code",
   "execution_count": 17,
   "metadata": {},
   "outputs": [
    {
     "name": "stdout",
     "output_type": "stream",
     "text": [
      "WARNING:tensorflow:From /home/andres/anaconda3/envs/gpu/lib/python3.6/site-packages/keras/backend/tensorflow_backend.py:422: The name tf.global_variables is deprecated. Please use tf.compat.v1.global_variables instead.\n",
      "\n"
     ]
    },
    {
     "name": "stderr",
     "output_type": "stream",
     "text": [
      "WARNING:tensorflow:From /home/andres/anaconda3/envs/gpu/lib/python3.6/site-packages/keras/backend/tensorflow_backend.py:422: The name tf.global_variables is deprecated. Please use tf.compat.v1.global_variables instead.\n",
      "\n"
     ]
    },
    {
     "name": "stdout",
     "output_type": "stream",
     "text": [
      "WARNING:tensorflow:From /home/andres/anaconda3/envs/gpu/lib/python3.6/site-packages/keras/backend/tensorflow_backend.py:431: The name tf.is_variable_initialized is deprecated. Please use tf.compat.v1.is_variable_initialized instead.\n",
      "\n"
     ]
    },
    {
     "name": "stderr",
     "output_type": "stream",
     "text": [
      "WARNING:tensorflow:From /home/andres/anaconda3/envs/gpu/lib/python3.6/site-packages/keras/backend/tensorflow_backend.py:431: The name tf.is_variable_initialized is deprecated. Please use tf.compat.v1.is_variable_initialized instead.\n",
      "\n"
     ]
    },
    {
     "name": "stdout",
     "output_type": "stream",
     "text": [
      "Train on 102400 samples, validate on 25600 samples\n",
      "Epoch 1/20\n",
      "102400/102400 [==============================] - 1964s 19ms/step - loss: 0.4908 - accuracy: 0.7593 - precision: 0.7630 - recall: 0.7494 - val_loss: 0.4724 - val_accuracy: 0.7755 - val_precision: 0.8033 - val_recall: 0.7302\n",
      "Epoch 2/20\n",
      "102400/102400 [==============================] - 2042s 20ms/step - loss: 0.4558 - accuracy: 0.7830 - precision: 0.7872 - recall: 0.7733 - val_loss: 0.4540 - val_accuracy: 0.7876 - val_precision: 0.8033 - val_recall: 0.7621\n",
      "Epoch 3/20\n",
      "102400/102400 [==============================] - 2052s 20ms/step - loss: 0.4338 - accuracy: 0.7969 - precision: 0.8012 - recall: 0.7876 - val_loss: 0.4621 - val_accuracy: 0.7820 - val_precision: 0.8201 - val_recall: 0.7228\n",
      "Epoch 4/20\n",
      "102400/102400 [==============================] - 2053s 20ms/step - loss: 0.4120 - accuracy: 0.8085 - precision: 0.8121 - recall: 0.8007 - val_loss: 0.4535 - val_accuracy: 0.7905 - val_precision: 0.8026 - val_recall: 0.7708\n",
      "Epoch 5/20\n",
      "102400/102400 [==============================] - 2052s 20ms/step - loss: 0.3908 - accuracy: 0.8205 - precision: 0.8251 - recall: 0.8115 - val_loss: 0.4589 - val_accuracy: 0.7901 - val_precision: 0.7981 - val_recall: 0.7771\n",
      "Epoch 6/20\n",
      "102400/102400 [==============================] - 2051s 20ms/step - loss: 0.3650 - accuracy: 0.8356 - precision: 0.8396 - recall: 0.8279 - val_loss: 0.4763 - val_accuracy: 0.7847 - val_precision: 0.8078 - val_recall: 0.7478\n",
      "Epoch 7/20\n",
      "102400/102400 [==============================] - 2052s 20ms/step - loss: 0.3385 - accuracy: 0.8492 - precision: 0.8546 - recall: 0.8401 - val_loss: 0.5000 - val_accuracy: 0.7832 - val_precision: 0.7707 - val_recall: 0.8067\n",
      "Epoch 8/20\n",
      "102400/102400 [==============================] - 2053s 20ms/step - loss: 0.3120 - accuracy: 0.8637 - precision: 0.8682 - recall: 0.8562 - val_loss: 0.5343 - val_accuracy: 0.7754 - val_precision: 0.7653 - val_recall: 0.7951\n",
      "Epoch 9/20\n",
      "102400/102400 [==============================] - 2052s 20ms/step - loss: 0.2867 - accuracy: 0.8760 - precision: 0.8802 - recall: 0.8691 - val_loss: 0.5708 - val_accuracy: 0.7770 - val_precision: 0.7661 - val_recall: 0.7981\n"
     ]
    }
   ],
   "source": [
    "early_stopping = keras.callbacks.EarlyStopping(\n",
    "    monitor='val_loss',\n",
    "    patience=5,\n",
    "    restore_best_weights=True)\n",
    "history_elmo = elmo_model.fit(\n",
    "    train_tokens,\n",
    "    train_label,\n",
    "    validation_data=(val_tokens, val_label),\n",
    "    epochs=20,\n",
    "    batch_size=32,\n",
    "    callbacks=[early_stopping]\n",
    ")"
   ]
  },
  {
   "cell_type": "code",
   "execution_count": 18,
   "metadata": {},
   "outputs": [
    {
     "data": {
      "text/html": [
       "<div>\n",
       "<style scoped>\n",
       "    .dataframe tbody tr th:only-of-type {\n",
       "        vertical-align: middle;\n",
       "    }\n",
       "\n",
       "    .dataframe tbody tr th {\n",
       "        vertical-align: top;\n",
       "    }\n",
       "\n",
       "    .dataframe thead th {\n",
       "        text-align: right;\n",
       "    }\n",
       "</style>\n",
       "<table border=\"1\" class=\"dataframe\">\n",
       "  <thead>\n",
       "    <tr style=\"text-align: right;\">\n",
       "      <th></th>\n",
       "      <th>val_loss</th>\n",
       "      <th>val_accuracy</th>\n",
       "      <th>val_precision</th>\n",
       "      <th>val_recall</th>\n",
       "      <th>loss</th>\n",
       "      <th>accuracy</th>\n",
       "      <th>precision</th>\n",
       "      <th>recall</th>\n",
       "    </tr>\n",
       "  </thead>\n",
       "  <tbody>\n",
       "    <tr>\n",
       "      <th>0</th>\n",
       "      <td>0.472426</td>\n",
       "      <td>0.775469</td>\n",
       "      <td>0.803263</td>\n",
       "      <td>0.730154</td>\n",
       "      <td>0.490785</td>\n",
       "      <td>0.759316</td>\n",
       "      <td>0.763015</td>\n",
       "      <td>0.749367</td>\n",
       "    </tr>\n",
       "    <tr>\n",
       "      <th>1</th>\n",
       "      <td>0.454004</td>\n",
       "      <td>0.787578</td>\n",
       "      <td>0.803341</td>\n",
       "      <td>0.762079</td>\n",
       "      <td>0.455783</td>\n",
       "      <td>0.783027</td>\n",
       "      <td>0.787202</td>\n",
       "      <td>0.773276</td>\n",
       "    </tr>\n",
       "    <tr>\n",
       "      <th>2</th>\n",
       "      <td>0.462123</td>\n",
       "      <td>0.781953</td>\n",
       "      <td>0.820122</td>\n",
       "      <td>0.722816</td>\n",
       "      <td>0.433801</td>\n",
       "      <td>0.796924</td>\n",
       "      <td>0.801209</td>\n",
       "      <td>0.787554</td>\n",
       "    </tr>\n",
       "    <tr>\n",
       "      <th>3</th>\n",
       "      <td>0.453518</td>\n",
       "      <td>0.790469</td>\n",
       "      <td>0.802650</td>\n",
       "      <td>0.770822</td>\n",
       "      <td>0.412029</td>\n",
       "      <td>0.808525</td>\n",
       "      <td>0.812090</td>\n",
       "      <td>0.800734</td>\n",
       "    </tr>\n",
       "    <tr>\n",
       "      <th>4</th>\n",
       "      <td>0.458905</td>\n",
       "      <td>0.790078</td>\n",
       "      <td>0.798124</td>\n",
       "      <td>0.777067</td>\n",
       "      <td>0.390766</td>\n",
       "      <td>0.820508</td>\n",
       "      <td>0.825140</td>\n",
       "      <td>0.811481</td>\n",
       "    </tr>\n",
       "    <tr>\n",
       "      <th>5</th>\n",
       "      <td>0.476264</td>\n",
       "      <td>0.784727</td>\n",
       "      <td>0.807757</td>\n",
       "      <td>0.747795</td>\n",
       "      <td>0.365042</td>\n",
       "      <td>0.835557</td>\n",
       "      <td>0.839619</td>\n",
       "      <td>0.827878</td>\n",
       "    </tr>\n",
       "    <tr>\n",
       "      <th>6</th>\n",
       "      <td>0.499965</td>\n",
       "      <td>0.783164</td>\n",
       "      <td>0.770694</td>\n",
       "      <td>0.806729</td>\n",
       "      <td>0.338529</td>\n",
       "      <td>0.849248</td>\n",
       "      <td>0.854649</td>\n",
       "      <td>0.840116</td>\n",
       "    </tr>\n",
       "    <tr>\n",
       "      <th>7</th>\n",
       "      <td>0.534264</td>\n",
       "      <td>0.775430</td>\n",
       "      <td>0.765289</td>\n",
       "      <td>0.795098</td>\n",
       "      <td>0.312041</td>\n",
       "      <td>0.863652</td>\n",
       "      <td>0.868181</td>\n",
       "      <td>0.856159</td>\n",
       "    </tr>\n",
       "    <tr>\n",
       "      <th>8</th>\n",
       "      <td>0.570847</td>\n",
       "      <td>0.777031</td>\n",
       "      <td>0.766090</td>\n",
       "      <td>0.798142</td>\n",
       "      <td>0.286723</td>\n",
       "      <td>0.875967</td>\n",
       "      <td>0.880244</td>\n",
       "      <td>0.869143</td>\n",
       "    </tr>\n",
       "  </tbody>\n",
       "</table>\n",
       "</div>"
      ],
      "text/plain": [
       "   val_loss  val_accuracy  val_precision  val_recall      loss  accuracy  \\\n",
       "0  0.472426      0.775469       0.803263    0.730154  0.490785  0.759316   \n",
       "1  0.454004      0.787578       0.803341    0.762079  0.455783  0.783027   \n",
       "2  0.462123      0.781953       0.820122    0.722816  0.433801  0.796924   \n",
       "3  0.453518      0.790469       0.802650    0.770822  0.412029  0.808525   \n",
       "4  0.458905      0.790078       0.798124    0.777067  0.390766  0.820508   \n",
       "5  0.476264      0.784727       0.807757    0.747795  0.365042  0.835557   \n",
       "6  0.499965      0.783164       0.770694    0.806729  0.338529  0.849248   \n",
       "7  0.534264      0.775430       0.765289    0.795098  0.312041  0.863652   \n",
       "8  0.570847      0.777031       0.766090    0.798142  0.286723  0.875967   \n",
       "\n",
       "   precision    recall  \n",
       "0   0.763015  0.749367  \n",
       "1   0.787202  0.773276  \n",
       "2   0.801209  0.787554  \n",
       "3   0.812090  0.800734  \n",
       "4   0.825140  0.811481  \n",
       "5   0.839619  0.827878  \n",
       "6   0.854649  0.840116  \n",
       "7   0.868181  0.856159  \n",
       "8   0.880244  0.869143  "
      ]
     },
     "execution_count": 18,
     "metadata": {},
     "output_type": "execute_result"
    }
   ],
   "source": [
    "metrics_elmo = pd.DataFrame(history_elmo.history)\n",
    "metrics_elmo"
   ]
  },
  {
   "cell_type": "code",
   "execution_count": 19,
   "metadata": {},
   "outputs": [
    {
     "name": "stdout",
     "output_type": "stream",
     "text": [
      "Best training loss: 0.41202884886879476\n",
      "Best training accuracy: 0.8085253834724426\n",
      "Best training precision: 0.812089741230011\n",
      "Best training recall: 0.8007335066795349\n",
      "---------------------------------------------\n",
      "Best validation loss: 0.4535182438790798\n",
      "Best validation accuracy: 0.7904687523841858\n",
      "Best validation precision: 0.802649736404419\n",
      "Best validation recall: 0.7708219289779663\n"
     ]
    }
   ],
   "source": [
    "print(f'Best training loss: {metrics_elmo.sort_values(by=\"val_loss\", ascending=True).iloc[0,4]}')\n",
    "print(f'Best training accuracy: {metrics_elmo.sort_values(by=\"val_loss\", ascending=True).iloc[0,5]}')\n",
    "print(f'Best training precision: {metrics_elmo.sort_values(by=\"val_loss\", ascending=True).iloc[0,6]}')\n",
    "print(f'Best training recall: {metrics_elmo.sort_values(by=\"val_loss\", ascending=True).iloc[0,7]}')\n",
    "print('---------------------------------------------')\n",
    "print(f'Best validation loss: {metrics_elmo.sort_values(by=\"val_loss\", ascending=True).iloc[0,0]}')\n",
    "print(f'Best validation accuracy: {metrics_elmo.sort_values(by=\"val_loss\", ascending=True).iloc[0,1]}')\n",
    "print(f'Best validation precision: {metrics_elmo.sort_values(by=\"val_loss\", ascending=True).iloc[0,2]}')\n",
    "print(f'Best validation recall: {metrics_elmo.sort_values(by=\"val_loss\", ascending=True).iloc[0,3]}')"
   ]
  },
  {
   "cell_type": "code",
   "execution_count": 20,
   "metadata": {
    "scrolled": false
   },
   "outputs": [
    {
     "data": {
      "image/png": "[encoded data removed]",
      "text/plain": [
       "<Figure size 576x396 with 1 Axes>"
      ]
     },
     "metadata": {},
     "output_type": "display_data"
    }
   ],
   "source": [
    "metrics_elmo[['accuracy','val_accuracy']].plot()\n",
    "plt.savefig('../figures/elmo_acc.jpg', dpi=300)"
   ]
  },
  {
   "cell_type": "code",
   "execution_count": 21,
   "metadata": {
    "scrolled": true
   },
   "outputs": [
    {
     "data": {
      "image/png": "[encoded data removed]",
      "text/plain": [
       "<Figure size 576x396 with 1 Axes>"
      ]
     },
     "metadata": {},
     "output_type": "display_data"
    }
   ],
   "source": [
    "metrics_elmo[['loss','val_loss']].plot()\n",
    "plt.savefig('../figures/elmo_loss.jpg', dpi=300)"
   ]
  },
  {
   "cell_type": "code",
   "execution_count": 23,
   "metadata": {},
   "outputs": [
    {
     "name": "stdout",
     "output_type": "stream",
     "text": [
      "32000/32000 [==============================] - 507s 16ms/step\n"
     ]
    }
   ],
   "source": [
    "# Loss metrics for the trained model\n",
    "test_loss, test_accuracy, test_precision, test_recall = elmo_model.evaluate(test_tokens, test_label)"
   ]
  },
  {
   "cell_type": "code",
   "execution_count": 24,
   "metadata": {},
   "outputs": [
    {
     "name": "stdout",
     "output_type": "stream",
     "text": [
      "Test loss: 0.4564696417748928\n",
      "Test accuracy: 0.7904999852180481\n",
      "Test precision: 0.7986603379249573\n",
      "Test recall: 0.7729246616363525\n"
     ]
    }
   ],
   "source": [
    "print(f'Test loss: {test_loss}')\n",
    "print(f'Test accuracy: {test_accuracy}')\n",
    "print(f'Test precision: {test_precision}')\n",
    "print(f'Test recall: {test_recall}')"
   ]
  },
  {
   "cell_type": "code",
   "execution_count": 25,
   "metadata": {},
   "outputs": [],
   "source": [
    "elmo_model.save('../models/elmo_model.h5')"
   ]
  },
  {
   "cell_type": "markdown",
   "metadata": {},
   "source": [
    "# BERT pipeline"
   ]
  },
  {
   "cell_type": "markdown",
   "metadata": {},
   "source": [
    "## Bert tokenizer"
   ]
  },
  {
   "cell_type": "code",
   "execution_count": 26,
   "metadata": {},
   "outputs": [],
   "source": [
    "# Create datasets (Only take up to max_seq_length words for memory)\n",
    "train_text = X_train.tolist()\n",
    "train_text = [' '.join(t.split()[0:max_seq_length]) for t in train_text]\n",
    "train_text = np.array(train_text, dtype=object)[:, np.newaxis]\n",
    "train_label = y_train.tolist()\n",
    "\n",
    "val_text = X_val.tolist()\n",
    "val_text = [' '.join(t.split()[0:max_seq_length]) for t in val_text]\n",
    "val_text = np.array(val_text, dtype=object)[:, np.newaxis]\n",
    "val_label = y_val.tolist()\n",
    "\n",
    "test_text = X_test.tolist()\n",
    "test_text = [' '.join(t.split()[0:max_seq_length]) for t in test_text]\n",
    "test_text = np.array(test_text, dtype=object)[:, np.newaxis]\n",
    "test_label = y_test.tolist()"
   ]
  },
  {
   "cell_type": "code",
   "execution_count": 27,
   "metadata": {},
   "outputs": [],
   "source": [
    "from bert_tokenizer import BERT_tokenizer"
   ]
  },
  {
   "cell_type": "code",
   "execution_count": 28,
   "metadata": {},
   "outputs": [
    {
     "name": "stdout",
     "output_type": "stream",
     "text": [
      "INFO:tensorflow:Saver not created because there are no variables in the graph to restore\n"
     ]
    },
    {
     "name": "stderr",
     "output_type": "stream",
     "text": [
      "INFO:tensorflow:Saver not created because there are no variables in the graph to restore\n"
     ]
    },
    {
     "name": "stdout",
     "output_type": "stream",
     "text": [
      "WARNING:tensorflow:From /home/andres/anaconda3/envs/gpu/lib/python3.6/site-packages/bert/tokenization.py:125: The name tf.gfile.GFile is deprecated. Please use tf.io.gfile.GFile instead.\n",
      "\n"
     ]
    },
    {
     "name": "stderr",
     "output_type": "stream",
     "text": [
      "WARNING:tensorflow:From /home/andres/anaconda3/envs/gpu/lib/python3.6/site-packages/bert/tokenization.py:125: The name tf.gfile.GFile is deprecated. Please use tf.io.gfile.GFile instead.\n",
      "\n"
     ]
    }
   ],
   "source": [
    "tokenizer = BERT_tokenizer(bert_path, max_seq_length)"
   ]
  },
  {
   "cell_type": "code",
   "execution_count": 29,
   "metadata": {},
   "outputs": [
    {
     "data": {
      "application/vnd.jupyter.widget-view+json": {
       "model_id": "7256aafda43a4953b4bbaa3e8ca23be4",
       "version_major": 2,
       "version_minor": 0
      },
      "text/plain": [
       "Converting examples to features:   0%|          | 0/102400 [00:00<?, ?it/s]"
      ]
     },
     "metadata": {},
     "output_type": "display_data"
    },
    {
     "name": "stdout",
     "output_type": "stream",
     "text": [
      "INFO:tensorflow:Writing example 0 of 102400\n"
     ]
    },
    {
     "name": "stderr",
     "output_type": "stream",
     "text": [
      "INFO:tensorflow:Writing example 0 of 102400\n"
     ]
    },
    {
     "name": "stdout",
     "output_type": "stream",
     "text": [
      "INFO:tensorflow:*** Example ***\n"
     ]
    },
    {
     "name": "stderr",
     "output_type": "stream",
     "text": [
      "INFO:tensorflow:*** Example ***\n"
     ]
    },
    {
     "name": "stdout",
     "output_type": "stream",
     "text": [
      "INFO:tensorflow:Tokens True: [CLS] i m going to sound really old fashioned here but i still use my dad s old silver arrow kind of an antique if you may [SEP]\n"
     ]
    },
    {
     "name": "stderr",
     "output_type": "stream",
     "text": [
      "INFO:tensorflow:Tokens True: [CLS] i m going to sound really old fashioned here but i still use my dad s old silver arrow kind of an antique if you may [SEP]\n"
     ]
    },
    {
     "name": "stdout",
     "output_type": "stream",
     "text": [
      "INFO:tensorflow:guid: None\n"
     ]
    },
    {
     "name": "stderr",
     "output_type": "stream",
     "text": [
      "INFO:tensorflow:guid: None\n"
     ]
    },
    {
     "name": "stdout",
     "output_type": "stream",
     "text": [
      "INFO:tensorflow:tokens: [CLS] i m going to sound really old fashioned here but i still use my dad s old silver arrow kind of an antique if you may [SEP]\n"
     ]
    },
    {
     "name": "stderr",
     "output_type": "stream",
     "text": [
      "INFO:tensorflow:tokens: [CLS] i m going to sound really old fashioned here but i still use my dad s old silver arrow kind of an antique if you may [SEP]\n"
     ]
    },
    {
     "name": "stdout",
     "output_type": "stream",
     "text": [
      "INFO:tensorflow:input_ids: 101 1045 1049 2183 2000 2614 2428 2214 13405 2182 2021 1045 2145 2224 2026 3611 1055 2214 3165 8612 2785 1997 2019 14361 2065 2017 2089 102 0 0 0 0 0 0 0 0 0 0 0 0 0 0 0 0 0 0 0 0 0 0 0 0 0 0 0 0 0 0 0 0 0 0 0 0 0 0 0 0 0 0 0 0 0 0 0 0 0 0 0 0 0 0 0 0 0 0 0 0 0 0 0 0 0 0 0 0 0 0 0 0 0 0 0 0 0 0 0 0 0 0 0 0 0 0 0 0 0 0 0 0 0 0 0 0 0 0 0 0 0 0 0 0 0 0 0 0 0 0\n"
     ]
    },
    {
     "name": "stderr",
     "output_type": "stream",
     "text": [
      "INFO:tensorflow:input_ids: 101 1045 1049 2183 2000 2614 2428 2214 13405 2182 2021 1045 2145 2224 2026 3611 1055 2214 3165 8612 2785 1997 2019 14361 2065 2017 2089 102 0 0 0 0 0 0 0 0 0 0 0 0 0 0 0 0 0 0 0 0 0 0 0 0 0 0 0 0 0 0 0 0 0 0 0 0 0 0 0 0 0 0 0 0 0 0 0 0 0 0 0 0 0 0 0 0 0 0 0 0 0 0 0 0 0 0 0 0 0 0 0 0 0 0 0 0 0 0 0 0 0 0 0 0 0 0 0 0 0 0 0 0 0 0 0 0 0 0 0 0 0 0 0 0 0 0 0 0 0 0\n"
     ]
    },
    {
     "name": "stdout",
     "output_type": "stream",
     "text": [
      "INFO:tensorflow:input_mask: 1 1 1 1 1 1 1 1 1 1 1 1 1 1 1 1 1 1 1 1 1 1 1 1 1 1 1 1 0 0 0 0 0 0 0 0 0 0 0 0 0 0 0 0 0 0 0 0 0 0 0 0 0 0 0 0 0 0 0 0 0 0 0 0 0 0 0 0 0 0 0 0 0 0 0 0 0 0 0 0 0 0 0 0 0 0 0 0 0 0 0 0 0 0 0 0 0 0 0 0 0 0 0 0 0 0 0 0 0 0 0 0 0 0 0 0 0 0 0 0 0 0 0 0 0 0 0 0 0 0 0 0 0 0 0 0 0 0\n"
     ]
    },
    {
     "name": "stderr",
     "output_type": "stream",
     "text": [
      "INFO:tensorflow:input_mask: 1 1 1 1 1 1 1 1 1 1 1 1 1 1 1 1 1 1 1 1 1 1 1 1 1 1 1 1 0 0 0 0 0 0 0 0 0 0 0 0 0 0 0 0 0 0 0 0 0 0 0 0 0 0 0 0 0 0 0 0 0 0 0 0 0 0 0 0 0 0 0 0 0 0 0 0 0 0 0 0 0 0 0 0 0 0 0 0 0 0 0 0 0 0 0 0 0 0 0 0 0 0 0 0 0 0 0 0 0 0 0 0 0 0 0 0 0 0 0 0 0 0 0 0 0 0 0 0 0 0 0 0 0 0 0 0 0 0\n"
     ]
    },
    {
     "name": "stdout",
     "output_type": "stream",
     "text": [
      "INFO:tensorflow:segment_ids: 0 0 0 0 0 0 0 0 0 0 0 0 0 0 0 0 0 0 0 0 0 0 0 0 0 0 0 0 0 0 0 0 0 0 0 0 0 0 0 0 0 0 0 0 0 0 0 0 0 0 0 0 0 0 0 0 0 0 0 0 0 0 0 0 0 0 0 0 0 0 0 0 0 0 0 0 0 0 0 0 0 0 0 0 0 0 0 0 0 0 0 0 0 0 0 0 0 0 0 0 0 0 0 0 0 0 0 0 0 0 0 0 0 0 0 0 0 0 0 0 0 0 0 0 0 0 0 0 0 0 0 0 0 0 0 0 0 0\n"
     ]
    },
    {
     "name": "stderr",
     "output_type": "stream",
     "text": [
      "INFO:tensorflow:segment_ids: 0 0 0 0 0 0 0 0 0 0 0 0 0 0 0 0 0 0 0 0 0 0 0 0 0 0 0 0 0 0 0 0 0 0 0 0 0 0 0 0 0 0 0 0 0 0 0 0 0 0 0 0 0 0 0 0 0 0 0 0 0 0 0 0 0 0 0 0 0 0 0 0 0 0 0 0 0 0 0 0 0 0 0 0 0 0 0 0 0 0 0 0 0 0 0 0 0 0 0 0 0 0 0 0 0 0 0 0 0 0 0 0 0 0 0 0 0 0 0 0 0 0 0 0 0 0 0 0 0 0 0 0 0 0 0 0 0 0\n"
     ]
    },
    {
     "name": "stdout",
     "output_type": "stream",
     "text": [
      "INFO:tensorflow:label: 1 (id = 1)\n"
     ]
    },
    {
     "name": "stderr",
     "output_type": "stream",
     "text": [
      "INFO:tensorflow:label: 1 (id = 1)\n"
     ]
    },
    {
     "name": "stdout",
     "output_type": "stream",
     "text": [
      "INFO:tensorflow:Writing example 10000 of 102400\n"
     ]
    },
    {
     "name": "stderr",
     "output_type": "stream",
     "text": [
      "INFO:tensorflow:Writing example 10000 of 102400\n"
     ]
    },
    {
     "name": "stdout",
     "output_type": "stream",
     "text": [
      "INFO:tensorflow:Writing example 20000 of 102400\n"
     ]
    },
    {
     "name": "stderr",
     "output_type": "stream",
     "text": [
      "INFO:tensorflow:Writing example 20000 of 102400\n"
     ]
    },
    {
     "name": "stdout",
     "output_type": "stream",
     "text": [
      "INFO:tensorflow:Writing example 30000 of 102400\n"
     ]
    },
    {
     "name": "stderr",
     "output_type": "stream",
     "text": [
      "INFO:tensorflow:Writing example 30000 of 102400\n"
     ]
    },
    {
     "name": "stdout",
     "output_type": "stream",
     "text": [
      "INFO:tensorflow:Writing example 40000 of 102400\n"
     ]
    },
    {
     "name": "stderr",
     "output_type": "stream",
     "text": [
      "INFO:tensorflow:Writing example 40000 of 102400\n"
     ]
    },
    {
     "name": "stdout",
     "output_type": "stream",
     "text": [
      "INFO:tensorflow:Writing example 50000 of 102400\n"
     ]
    },
    {
     "name": "stderr",
     "output_type": "stream",
     "text": [
      "INFO:tensorflow:Writing example 50000 of 102400\n"
     ]
    },
    {
     "name": "stdout",
     "output_type": "stream",
     "text": [
      "INFO:tensorflow:Writing example 60000 of 102400\n"
     ]
    },
    {
     "name": "stderr",
     "output_type": "stream",
     "text": [
      "INFO:tensorflow:Writing example 60000 of 102400\n"
     ]
    },
    {
     "name": "stdout",
     "output_type": "stream",
     "text": [
      "INFO:tensorflow:Writing example 70000 of 102400\n"
     ]
    },
    {
     "name": "stderr",
     "output_type": "stream",
     "text": [
      "INFO:tensorflow:Writing example 70000 of 102400\n"
     ]
    },
    {
     "name": "stdout",
     "output_type": "stream",
     "text": [
      "INFO:tensorflow:Writing example 80000 of 102400\n"
     ]
    },
    {
     "name": "stderr",
     "output_type": "stream",
     "text": [
      "INFO:tensorflow:Writing example 80000 of 102400\n"
     ]
    },
    {
     "name": "stdout",
     "output_type": "stream",
     "text": [
      "INFO:tensorflow:Writing example 90000 of 102400\n"
     ]
    },
    {
     "name": "stderr",
     "output_type": "stream",
     "text": [
      "INFO:tensorflow:Writing example 90000 of 102400\n"
     ]
    },
    {
     "name": "stdout",
     "output_type": "stream",
     "text": [
      "INFO:tensorflow:Writing example 100000 of 102400\n"
     ]
    },
    {
     "name": "stderr",
     "output_type": "stream",
     "text": [
      "INFO:tensorflow:Writing example 100000 of 102400\n"
     ]
    },
    {
     "data": {
      "application/vnd.jupyter.widget-view+json": {
       "model_id": "80e7f9641d6c4a37bff907e8f084f5a7",
       "version_major": 2,
       "version_minor": 0
      },
      "text/plain": [
       "Converting examples to features:   0%|          | 0/25600 [00:00<?, ?it/s]"
      ]
     },
     "metadata": {},
     "output_type": "display_data"
    },
    {
     "name": "stdout",
     "output_type": "stream",
     "text": [
      "INFO:tensorflow:Writing example 0 of 25600\n"
     ]
    },
    {
     "name": "stderr",
     "output_type": "stream",
     "text": [
      "INFO:tensorflow:Writing example 0 of 25600\n"
     ]
    },
    {
     "name": "stdout",
     "output_type": "stream",
     "text": [
      "INFO:tensorflow:*** Example ***\n"
     ]
    },
    {
     "name": "stderr",
     "output_type": "stream",
     "text": [
      "INFO:tensorflow:*** Example ***\n"
     ]
    },
    {
     "name": "stdout",
     "output_type": "stream",
     "text": [
      "INFO:tensorflow:Tokens True: [CLS] i want pens tickets for tomorrow [SEP]\n"
     ]
    },
    {
     "name": "stderr",
     "output_type": "stream",
     "text": [
      "INFO:tensorflow:Tokens True: [CLS] i want pens tickets for tomorrow [SEP]\n"
     ]
    },
    {
     "name": "stdout",
     "output_type": "stream",
     "text": [
      "INFO:tensorflow:guid: None\n"
     ]
    },
    {
     "name": "stderr",
     "output_type": "stream",
     "text": [
      "INFO:tensorflow:guid: None\n"
     ]
    },
    {
     "name": "stdout",
     "output_type": "stream",
     "text": [
      "INFO:tensorflow:tokens: [CLS] i want pens tickets for tomorrow [SEP]\n"
     ]
    },
    {
     "name": "stderr",
     "output_type": "stream",
     "text": [
      "INFO:tensorflow:tokens: [CLS] i want pens tickets for tomorrow [SEP]\n"
     ]
    },
    {
     "name": "stdout",
     "output_type": "stream",
     "text": [
      "INFO:tensorflow:input_ids: 101 1045 2215 25636 9735 2005 4826 102 0 0 0 0 0 0 0 0 0 0 0 0 0 0 0 0 0 0 0 0 0 0 0 0 0 0 0 0 0 0 0 0 0 0 0 0 0 0 0 0 0 0 0 0 0 0 0 0 0 0 0 0 0 0 0 0 0 0 0 0 0 0 0 0 0 0 0 0 0 0 0 0 0 0 0 0 0 0 0 0 0 0 0 0 0 0 0 0 0 0 0 0 0 0 0 0 0 0 0 0 0 0 0 0 0 0 0 0 0 0 0 0 0 0 0 0 0 0 0 0 0 0 0 0 0 0 0 0 0 0\n"
     ]
    },
    {
     "name": "stderr",
     "output_type": "stream",
     "text": [
      "INFO:tensorflow:input_ids: 101 1045 2215 25636 9735 2005 4826 102 0 0 0 0 0 0 0 0 0 0 0 0 0 0 0 0 0 0 0 0 0 0 0 0 0 0 0 0 0 0 0 0 0 0 0 0 0 0 0 0 0 0 0 0 0 0 0 0 0 0 0 0 0 0 0 0 0 0 0 0 0 0 0 0 0 0 0 0 0 0 0 0 0 0 0 0 0 0 0 0 0 0 0 0 0 0 0 0 0 0 0 0 0 0 0 0 0 0 0 0 0 0 0 0 0 0 0 0 0 0 0 0 0 0 0 0 0 0 0 0 0 0 0 0 0 0 0 0 0 0\n"
     ]
    },
    {
     "name": "stdout",
     "output_type": "stream",
     "text": [
      "INFO:tensorflow:input_mask: 1 1 1 1 1 1 1 1 0 0 0 0 0 0 0 0 0 0 0 0 0 0 0 0 0 0 0 0 0 0 0 0 0 0 0 0 0 0 0 0 0 0 0 0 0 0 0 0 0 0 0 0 0 0 0 0 0 0 0 0 0 0 0 0 0 0 0 0 0 0 0 0 0 0 0 0 0 0 0 0 0 0 0 0 0 0 0 0 0 0 0 0 0 0 0 0 0 0 0 0 0 0 0 0 0 0 0 0 0 0 0 0 0 0 0 0 0 0 0 0 0 0 0 0 0 0 0 0 0 0 0 0 0 0 0 0 0 0\n"
     ]
    },
    {
     "name": "stderr",
     "output_type": "stream",
     "text": [
      "INFO:tensorflow:input_mask: 1 1 1 1 1 1 1 1 0 0 0 0 0 0 0 0 0 0 0 0 0 0 0 0 0 0 0 0 0 0 0 0 0 0 0 0 0 0 0 0 0 0 0 0 0 0 0 0 0 0 0 0 0 0 0 0 0 0 0 0 0 0 0 0 0 0 0 0 0 0 0 0 0 0 0 0 0 0 0 0 0 0 0 0 0 0 0 0 0 0 0 0 0 0 0 0 0 0 0 0 0 0 0 0 0 0 0 0 0 0 0 0 0 0 0 0 0 0 0 0 0 0 0 0 0 0 0 0 0 0 0 0 0 0 0 0 0 0\n"
     ]
    },
    {
     "name": "stdout",
     "output_type": "stream",
     "text": [
      "INFO:tensorflow:segment_ids: 0 0 0 0 0 0 0 0 0 0 0 0 0 0 0 0 0 0 0 0 0 0 0 0 0 0 0 0 0 0 0 0 0 0 0 0 0 0 0 0 0 0 0 0 0 0 0 0 0 0 0 0 0 0 0 0 0 0 0 0 0 0 0 0 0 0 0 0 0 0 0 0 0 0 0 0 0 0 0 0 0 0 0 0 0 0 0 0 0 0 0 0 0 0 0 0 0 0 0 0 0 0 0 0 0 0 0 0 0 0 0 0 0 0 0 0 0 0 0 0 0 0 0 0 0 0 0 0 0 0 0 0 0 0 0 0 0 0\n"
     ]
    },
    {
     "name": "stderr",
     "output_type": "stream",
     "text": [
      "INFO:tensorflow:segment_ids: 0 0 0 0 0 0 0 0 0 0 0 0 0 0 0 0 0 0 0 0 0 0 0 0 0 0 0 0 0 0 0 0 0 0 0 0 0 0 0 0 0 0 0 0 0 0 0 0 0 0 0 0 0 0 0 0 0 0 0 0 0 0 0 0 0 0 0 0 0 0 0 0 0 0 0 0 0 0 0 0 0 0 0 0 0 0 0 0 0 0 0 0 0 0 0 0 0 0 0 0 0 0 0 0 0 0 0 0 0 0 0 0 0 0 0 0 0 0 0 0 0 0 0 0 0 0 0 0 0 0 0 0 0 0 0 0 0 0\n"
     ]
    },
    {
     "name": "stdout",
     "output_type": "stream",
     "text": [
      "INFO:tensorflow:label: 0 (id = 0)\n"
     ]
    },
    {
     "name": "stderr",
     "output_type": "stream",
     "text": [
      "INFO:tensorflow:label: 0 (id = 0)\n"
     ]
    },
    {
     "name": "stdout",
     "output_type": "stream",
     "text": [
      "INFO:tensorflow:Writing example 10000 of 25600\n"
     ]
    },
    {
     "name": "stderr",
     "output_type": "stream",
     "text": [
      "INFO:tensorflow:Writing example 10000 of 25600\n"
     ]
    },
    {
     "name": "stdout",
     "output_type": "stream",
     "text": [
      "INFO:tensorflow:Writing example 20000 of 25600\n"
     ]
    },
    {
     "name": "stderr",
     "output_type": "stream",
     "text": [
      "INFO:tensorflow:Writing example 20000 of 25600\n"
     ]
    },
    {
     "data": {
      "application/vnd.jupyter.widget-view+json": {
       "model_id": "bd57f9cd142f4ce98669de5a000fda93",
       "version_major": 2,
       "version_minor": 0
      },
      "text/plain": [
       "Converting examples to features:   0%|          | 0/32000 [00:00<?, ?it/s]"
      ]
     },
     "metadata": {},
     "output_type": "display_data"
    },
    {
     "name": "stdout",
     "output_type": "stream",
     "text": [
      "INFO:tensorflow:Writing example 0 of 32000\n"
     ]
    },
    {
     "name": "stderr",
     "output_type": "stream",
     "text": [
      "INFO:tensorflow:Writing example 0 of 32000\n"
     ]
    },
    {
     "name": "stdout",
     "output_type": "stream",
     "text": [
      "INFO:tensorflow:*** Example ***\n"
     ]
    },
    {
     "name": "stderr",
     "output_type": "stream",
     "text": [
      "INFO:tensorflow:*** Example ***\n"
     ]
    },
    {
     "name": "stdout",
     "output_type": "stream",
     "text": [
      "INFO:tensorflow:Tokens True: [CLS] than ##x that ##s really thoughtful [SEP]\n"
     ]
    },
    {
     "name": "stderr",
     "output_type": "stream",
     "text": [
      "INFO:tensorflow:Tokens True: [CLS] than ##x that ##s really thoughtful [SEP]\n"
     ]
    },
    {
     "name": "stdout",
     "output_type": "stream",
     "text": [
      "INFO:tensorflow:guid: None\n"
     ]
    },
    {
     "name": "stderr",
     "output_type": "stream",
     "text": [
      "INFO:tensorflow:guid: None\n"
     ]
    },
    {
     "name": "stdout",
     "output_type": "stream",
     "text": [
      "INFO:tensorflow:tokens: [CLS] than ##x that ##s really thoughtful [SEP]\n"
     ]
    },
    {
     "name": "stderr",
     "output_type": "stream",
     "text": [
      "INFO:tensorflow:tokens: [CLS] than ##x that ##s really thoughtful [SEP]\n"
     ]
    },
    {
     "name": "stdout",
     "output_type": "stream",
     "text": [
      "INFO:tensorflow:input_ids: 101 2084 2595 2008 2015 2428 16465 102 0 0 0 0 0 0 0 0 0 0 0 0 0 0 0 0 0 0 0 0 0 0 0 0 0 0 0 0 0 0 0 0 0 0 0 0 0 0 0 0 0 0 0 0 0 0 0 0 0 0 0 0 0 0 0 0 0 0 0 0 0 0 0 0 0 0 0 0 0 0 0 0 0 0 0 0 0 0 0 0 0 0 0 0 0 0 0 0 0 0 0 0 0 0 0 0 0 0 0 0 0 0 0 0 0 0 0 0 0 0 0 0 0 0 0 0 0 0 0 0 0 0 0 0 0 0 0 0 0 0\n"
     ]
    },
    {
     "name": "stderr",
     "output_type": "stream",
     "text": [
      "INFO:tensorflow:input_ids: 101 2084 2595 2008 2015 2428 16465 102 0 0 0 0 0 0 0 0 0 0 0 0 0 0 0 0 0 0 0 0 0 0 0 0 0 0 0 0 0 0 0 0 0 0 0 0 0 0 0 0 0 0 0 0 0 0 0 0 0 0 0 0 0 0 0 0 0 0 0 0 0 0 0 0 0 0 0 0 0 0 0 0 0 0 0 0 0 0 0 0 0 0 0 0 0 0 0 0 0 0 0 0 0 0 0 0 0 0 0 0 0 0 0 0 0 0 0 0 0 0 0 0 0 0 0 0 0 0 0 0 0 0 0 0 0 0 0 0 0 0\n"
     ]
    },
    {
     "name": "stdout",
     "output_type": "stream",
     "text": [
      "INFO:tensorflow:input_mask: 1 1 1 1 1 1 1 1 0 0 0 0 0 0 0 0 0 0 0 0 0 0 0 0 0 0 0 0 0 0 0 0 0 0 0 0 0 0 0 0 0 0 0 0 0 0 0 0 0 0 0 0 0 0 0 0 0 0 0 0 0 0 0 0 0 0 0 0 0 0 0 0 0 0 0 0 0 0 0 0 0 0 0 0 0 0 0 0 0 0 0 0 0 0 0 0 0 0 0 0 0 0 0 0 0 0 0 0 0 0 0 0 0 0 0 0 0 0 0 0 0 0 0 0 0 0 0 0 0 0 0 0 0 0 0 0 0 0\n"
     ]
    },
    {
     "name": "stderr",
     "output_type": "stream",
     "text": [
      "INFO:tensorflow:input_mask: 1 1 1 1 1 1 1 1 0 0 0 0 0 0 0 0 0 0 0 0 0 0 0 0 0 0 0 0 0 0 0 0 0 0 0 0 0 0 0 0 0 0 0 0 0 0 0 0 0 0 0 0 0 0 0 0 0 0 0 0 0 0 0 0 0 0 0 0 0 0 0 0 0 0 0 0 0 0 0 0 0 0 0 0 0 0 0 0 0 0 0 0 0 0 0 0 0 0 0 0 0 0 0 0 0 0 0 0 0 0 0 0 0 0 0 0 0 0 0 0 0 0 0 0 0 0 0 0 0 0 0 0 0 0 0 0 0 0\n"
     ]
    },
    {
     "name": "stdout",
     "output_type": "stream",
     "text": [
      "INFO:tensorflow:segment_ids: 0 0 0 0 0 0 0 0 0 0 0 0 0 0 0 0 0 0 0 0 0 0 0 0 0 0 0 0 0 0 0 0 0 0 0 0 0 0 0 0 0 0 0 0 0 0 0 0 0 0 0 0 0 0 0 0 0 0 0 0 0 0 0 0 0 0 0 0 0 0 0 0 0 0 0 0 0 0 0 0 0 0 0 0 0 0 0 0 0 0 0 0 0 0 0 0 0 0 0 0 0 0 0 0 0 0 0 0 0 0 0 0 0 0 0 0 0 0 0 0 0 0 0 0 0 0 0 0 0 0 0 0 0 0 0 0 0 0\n"
     ]
    },
    {
     "name": "stderr",
     "output_type": "stream",
     "text": [
      "INFO:tensorflow:segment_ids: 0 0 0 0 0 0 0 0 0 0 0 0 0 0 0 0 0 0 0 0 0 0 0 0 0 0 0 0 0 0 0 0 0 0 0 0 0 0 0 0 0 0 0 0 0 0 0 0 0 0 0 0 0 0 0 0 0 0 0 0 0 0 0 0 0 0 0 0 0 0 0 0 0 0 0 0 0 0 0 0 0 0 0 0 0 0 0 0 0 0 0 0 0 0 0 0 0 0 0 0 0 0 0 0 0 0 0 0 0 0 0 0 0 0 0 0 0 0 0 0 0 0 0 0 0 0 0 0 0 0 0 0 0 0 0 0 0 0\n"
     ]
    },
    {
     "name": "stdout",
     "output_type": "stream",
     "text": [
      "INFO:tensorflow:label: 1 (id = 1)\n"
     ]
    },
    {
     "name": "stderr",
     "output_type": "stream",
     "text": [
      "INFO:tensorflow:label: 1 (id = 1)\n"
     ]
    },
    {
     "name": "stdout",
     "output_type": "stream",
     "text": [
      "INFO:tensorflow:Writing example 10000 of 32000\n"
     ]
    },
    {
     "name": "stderr",
     "output_type": "stream",
     "text": [
      "INFO:tensorflow:Writing example 10000 of 32000\n"
     ]
    },
    {
     "name": "stdout",
     "output_type": "stream",
     "text": [
      "INFO:tensorflow:Writing example 20000 of 32000\n"
     ]
    },
    {
     "name": "stderr",
     "output_type": "stream",
     "text": [
      "INFO:tensorflow:Writing example 20000 of 32000\n"
     ]
    },
    {
     "name": "stdout",
     "output_type": "stream",
     "text": [
      "INFO:tensorflow:Writing example 30000 of 32000\n"
     ]
    },
    {
     "name": "stderr",
     "output_type": "stream",
     "text": [
      "INFO:tensorflow:Writing example 30000 of 32000\n"
     ]
    }
   ],
   "source": [
    "(train_input_ids, train_input_masks, train_segment_ids, train_labels) = tokenizer.predict(train_text, train_label)\n",
    "(val_input_ids, val_input_masks, val_segment_ids, val_labels) = tokenizer.predict(val_text, val_label)\n",
    "(test_input_ids, test_input_masks, test_segment_ids, test_labels) = tokenizer.predict(test_text, test_label)\n"
   ]
  },
  {
   "cell_type": "markdown",
   "metadata": {},
   "source": [
    "## Bert model"
   ]
  },
  {
   "cell_type": "code",
   "execution_count": 30,
   "metadata": {},
   "outputs": [],
   "source": [
    "from bert_layer import BertLayer"
   ]
  },
  {
   "cell_type": "code",
   "execution_count": 31,
   "metadata": {},
   "outputs": [],
   "source": [
    "def build_model_bert(max_seq_length): \n",
    "    in_id = Input(shape=(max_seq_length,), name=\"input_ids\")\n",
    "    in_mask = Input(shape=(max_seq_length,), name=\"input_masks\")\n",
    "    in_segment = Input(shape=(max_seq_length,), name=\"segment_ids\")\n",
    "    bert_inputs = [in_id, in_mask, in_segment]\n",
    "    bert_output = BertLayer(n_fine_tune_layers=2, tf_hub=bert_path, output_representation='mean_pooling', trainable=True)(bert_inputs)\n",
    "    dense = Dense(256, activation='relu')(bert_output)\n",
    "    pred = Dense(1, activation='sigmoid')(dense)\n",
    "    model = Model(inputs=bert_inputs, outputs=pred)\n",
    "    model.compile(\n",
    "        loss='binary_crossentropy',\n",
    "        optimizer='adam',\n",
    "        metrics=['accuracy', metrics.Precision(name='precision'), metrics.Recall(name='recall')])\n",
    "    model.summary()\n",
    "    return model\n",
    "\n",
    "def initialize_vars(sess):\n",
    "    sess.run(tf.local_variables_initializer())\n",
    "    sess.run(tf.global_variables_initializer())\n",
    "    sess.run(tf.tables_initializer())\n",
    "    K.set_session(sess)"
   ]
  },
  {
   "cell_type": "code",
   "execution_count": 32,
   "metadata": {
    "scrolled": true
   },
   "outputs": [
    {
     "name": "stdout",
     "output_type": "stream",
     "text": [
      "INFO:tensorflow:Saver not created because there are no variables in the graph to restore\n"
     ]
    },
    {
     "name": "stderr",
     "output_type": "stream",
     "text": [
      "INFO:tensorflow:Saver not created because there are no variables in the graph to restore\n"
     ]
    },
    {
     "name": "stdout",
     "output_type": "stream",
     "text": [
      "Model: \"model_2\"\n",
      "__________________________________________________________________________________________________\n",
      "Layer (type)                    Output Shape         Param #     Connected to                     \n",
      "==================================================================================================\n",
      "input_ids (InputLayer)          (None, 138)          0                                            \n",
      "__________________________________________________________________________________________________\n",
      "input_masks (InputLayer)        (None, 138)          0                                            \n",
      "__________________________________________________________________________________________________\n",
      "segment_ids (InputLayer)        (None, 138)          0                                            \n",
      "__________________________________________________________________________________________________\n",
      "bert_layer_1 (BertLayer)        (None, 768)          110104890   input_ids[0][0]                  \n",
      "                                                                 input_masks[0][0]                \n",
      "                                                                 segment_ids[0][0]                \n",
      "__________________________________________________________________________________________________\n",
      "dense_3 (Dense)                 (None, 256)          196864      bert_layer_1[0][0]               \n",
      "__________________________________________________________________________________________________\n",
      "dense_4 (Dense)                 (None, 1)            257         dense_3[0][0]                    \n",
      "==================================================================================================\n",
      "Total params: 110,302,011\n",
      "Trainable params: 198,657\n",
      "Non-trainable params: 110,103,354\n",
      "__________________________________________________________________________________________________\n"
     ]
    }
   ],
   "source": [
    "bert_model = build_model_bert(max_seq_length)\n",
    "initialize_vars(sess)\n"
   ]
  },
  {
   "cell_type": "code",
   "execution_count": 33,
   "metadata": {},
   "outputs": [],
   "source": [
    "plot_model(\n",
    "    bert_model,\n",
    "    to_file='../figures/bert-arc.png',\n",
    "    show_shapes=True,\n",
    "    rankdir='TB',\n",
    "    dpi=300);"
   ]
  },
  {
   "cell_type": "code",
   "execution_count": 34,
   "metadata": {},
   "outputs": [
    {
     "name": "stdout",
     "output_type": "stream",
     "text": [
      "Train on 102400 samples, validate on 25600 samples\n",
      "Epoch 1/20\n",
      "102400/102400 [==============================] - 1836s 18ms/step - loss: 0.4629 - accuracy: 0.7800 - precision: 0.7812 - recall: 0.7752 - val_loss: 0.4384 - val_accuracy: 0.7981 - val_precision: 0.7917 - val_recall: 0.8097\n",
      "Epoch 2/20\n",
      "102400/102400 [==============================] - 1838s 18ms/step - loss: 0.4350 - accuracy: 0.7979 - precision: 0.7995 - recall: 0.7929 - val_loss: 0.4353 - val_accuracy: 0.7984 - val_precision: 0.8064 - val_recall: 0.7859\n",
      "Epoch 3/20\n",
      "102400/102400 [==============================] - 1838s 18ms/step - loss: 0.4176 - accuracy: 0.8077 - precision: 0.8093 - recall: 0.8030 - val_loss: 0.4340 - val_accuracy: 0.8006 - val_precision: 0.7933 - val_recall: 0.8135\n",
      "Epoch 4/20\n",
      "102400/102400 [==============================] - 1838s 18ms/step - loss: 0.4005 - accuracy: 0.8170 - precision: 0.8192 - recall: 0.8117 - val_loss: 0.4382 - val_accuracy: 0.7982 - val_precision: 0.7947 - val_recall: 0.8045\n",
      "Epoch 5/20\n",
      "102400/102400 [==============================] - 1839s 18ms/step - loss: 0.3801 - accuracy: 0.8289 - precision: 0.8315 - recall: 0.8232 - val_loss: 0.4476 - val_accuracy: 0.7939 - val_precision: 0.8294 - val_recall: 0.7404\n",
      "Epoch 6/20\n",
      "102400/102400 [==============================] - 1839s 18ms/step - loss: 0.3553 - accuracy: 0.8411 - precision: 0.8437 - recall: 0.8357 - val_loss: 0.4558 - val_accuracy: 0.7930 - val_precision: 0.8191 - val_recall: 0.7527\n",
      "Epoch 7/20\n",
      "102400/102400 [==============================] - 1838s 18ms/step - loss: 0.3283 - accuracy: 0.8554 - precision: 0.8587 - recall: 0.8494 - val_loss: 0.4822 - val_accuracy: 0.7852 - val_precision: 0.7616 - val_recall: 0.8309\n",
      "Epoch 8/20\n",
      "102400/102400 [==============================] - 1839s 18ms/step - loss: 0.3015 - accuracy: 0.8700 - precision: 0.8735 - recall: 0.8641 - val_loss: 0.5076 - val_accuracy: 0.7883 - val_precision: 0.8044 - val_recall: 0.7622\n"
     ]
    }
   ],
   "source": [
    "early_stopping = keras.callbacks.EarlyStopping(\n",
    "    monitor='val_loss',\n",
    "    patience=5,\n",
    "    restore_best_weights=True)\n",
    "history_bert = bert_model.fit(\n",
    "    [train_input_ids, train_input_masks, train_segment_ids], \n",
    "    train_labels,\n",
    "    validation_data=([val_input_ids, val_input_masks, val_segment_ids], val_labels),\n",
    "    epochs=20,\n",
    "    batch_size=32,\n",
    "    callbacks=[early_stopping])"
   ]
  },
  {
   "cell_type": "code",
   "execution_count": 35,
   "metadata": {},
   "outputs": [
    {
     "data": {
      "text/html": [
       "<div>\n",
       "<style scoped>\n",
       "    .dataframe tbody tr th:only-of-type {\n",
       "        vertical-align: middle;\n",
       "    }\n",
       "\n",
       "    .dataframe tbody tr th {\n",
       "        vertical-align: top;\n",
       "    }\n",
       "\n",
       "    .dataframe thead th {\n",
       "        text-align: right;\n",
       "    }\n",
       "</style>\n",
       "<table border=\"1\" class=\"dataframe\">\n",
       "  <thead>\n",
       "    <tr style=\"text-align: right;\">\n",
       "      <th></th>\n",
       "      <th>val_loss</th>\n",
       "      <th>val_accuracy</th>\n",
       "      <th>val_precision</th>\n",
       "      <th>val_recall</th>\n",
       "      <th>loss</th>\n",
       "      <th>accuracy</th>\n",
       "      <th>precision</th>\n",
       "      <th>recall</th>\n",
       "    </tr>\n",
       "  </thead>\n",
       "  <tbody>\n",
       "    <tr>\n",
       "      <th>0</th>\n",
       "      <td>0.438432</td>\n",
       "      <td>0.798125</td>\n",
       "      <td>0.791651</td>\n",
       "      <td>0.809695</td>\n",
       "      <td>0.462854</td>\n",
       "      <td>0.780000</td>\n",
       "      <td>0.781243</td>\n",
       "      <td>0.775237</td>\n",
       "    </tr>\n",
       "    <tr>\n",
       "      <th>1</th>\n",
       "      <td>0.435333</td>\n",
       "      <td>0.798437</td>\n",
       "      <td>0.806408</td>\n",
       "      <td>0.785887</td>\n",
       "      <td>0.434980</td>\n",
       "      <td>0.797891</td>\n",
       "      <td>0.799525</td>\n",
       "      <td>0.792908</td>\n",
       "    </tr>\n",
       "    <tr>\n",
       "      <th>2</th>\n",
       "      <td>0.434043</td>\n",
       "      <td>0.800625</td>\n",
       "      <td>0.793332</td>\n",
       "      <td>0.813520</td>\n",
       "      <td>0.417631</td>\n",
       "      <td>0.807686</td>\n",
       "      <td>0.809254</td>\n",
       "      <td>0.803048</td>\n",
       "    </tr>\n",
       "    <tr>\n",
       "      <th>3</th>\n",
       "      <td>0.438224</td>\n",
       "      <td>0.798203</td>\n",
       "      <td>0.794741</td>\n",
       "      <td>0.804543</td>\n",
       "      <td>0.400486</td>\n",
       "      <td>0.817031</td>\n",
       "      <td>0.819184</td>\n",
       "      <td>0.811697</td>\n",
       "    </tr>\n",
       "    <tr>\n",
       "      <th>4</th>\n",
       "      <td>0.447614</td>\n",
       "      <td>0.793867</td>\n",
       "      <td>0.829398</td>\n",
       "      <td>0.740379</td>\n",
       "      <td>0.380115</td>\n",
       "      <td>0.828945</td>\n",
       "      <td>0.831534</td>\n",
       "      <td>0.823249</td>\n",
       "    </tr>\n",
       "    <tr>\n",
       "      <th>5</th>\n",
       "      <td>0.455830</td>\n",
       "      <td>0.793047</td>\n",
       "      <td>0.819078</td>\n",
       "      <td>0.752712</td>\n",
       "      <td>0.355281</td>\n",
       "      <td>0.841103</td>\n",
       "      <td>0.843709</td>\n",
       "      <td>0.835684</td>\n",
       "    </tr>\n",
       "    <tr>\n",
       "      <th>6</th>\n",
       "      <td>0.482182</td>\n",
       "      <td>0.785234</td>\n",
       "      <td>0.761608</td>\n",
       "      <td>0.830927</td>\n",
       "      <td>0.328285</td>\n",
       "      <td>0.855430</td>\n",
       "      <td>0.858723</td>\n",
       "      <td>0.849393</td>\n",
       "    </tr>\n",
       "    <tr>\n",
       "      <th>7</th>\n",
       "      <td>0.507630</td>\n",
       "      <td>0.788281</td>\n",
       "      <td>0.804432</td>\n",
       "      <td>0.762236</td>\n",
       "      <td>0.301510</td>\n",
       "      <td>0.870049</td>\n",
       "      <td>0.873543</td>\n",
       "      <td>0.864103</td>\n",
       "    </tr>\n",
       "  </tbody>\n",
       "</table>\n",
       "</div>"
      ],
      "text/plain": [
       "   val_loss  val_accuracy  val_precision  val_recall      loss  accuracy  \\\n",
       "0  0.438432      0.798125       0.791651    0.809695  0.462854  0.780000   \n",
       "1  0.435333      0.798437       0.806408    0.785887  0.434980  0.797891   \n",
       "2  0.434043      0.800625       0.793332    0.813520  0.417631  0.807686   \n",
       "3  0.438224      0.798203       0.794741    0.804543  0.400486  0.817031   \n",
       "4  0.447614      0.793867       0.829398    0.740379  0.380115  0.828945   \n",
       "5  0.455830      0.793047       0.819078    0.752712  0.355281  0.841103   \n",
       "6  0.482182      0.785234       0.761608    0.830927  0.328285  0.855430   \n",
       "7  0.507630      0.788281       0.804432    0.762236  0.301510  0.870049   \n",
       "\n",
       "   precision    recall  \n",
       "0   0.781243  0.775237  \n",
       "1   0.799525  0.792908  \n",
       "2   0.809254  0.803048  \n",
       "3   0.819184  0.811697  \n",
       "4   0.831534  0.823249  \n",
       "5   0.843709  0.835684  \n",
       "6   0.858723  0.849393  \n",
       "7   0.873543  0.864103  "
      ]
     },
     "execution_count": 35,
     "metadata": {},
     "output_type": "execute_result"
    }
   ],
   "source": [
    "metrics_bert = pd.DataFrame(history_bert.history)\n",
    "metrics_bert"
   ]
  },
  {
   "cell_type": "code",
   "execution_count": 36,
   "metadata": {},
   "outputs": [
    {
     "name": "stdout",
     "output_type": "stream",
     "text": [
      "Best training loss: 0.41763112792745233\n",
      "Best training accuracy: 0.8076855540275574\n",
      "Best training precision: 0.8092536926269531\n",
      "Best training recall: 0.8030478358268738\n",
      "---------------------------------------------\n",
      "Best validation loss: 0.4340433882921934\n",
      "Best validation accuracy: 0.8006250262260437\n",
      "Best validation precision: 0.7933318018913269\n",
      "Best validation recall: 0.8135196566581726\n"
     ]
    }
   ],
   "source": [
    "print(f'Best training loss: {metrics_bert.sort_values(by=\"val_loss\", ascending=True).iloc[0,4]}')\n",
    "print(f'Best training accuracy: {metrics_bert.sort_values(by=\"val_loss\", ascending=True).iloc[0,5]}')\n",
    "print(f'Best training precision: {metrics_bert.sort_values(by=\"val_loss\", ascending=True).iloc[0,6]}')\n",
    "print(f'Best training recall: {metrics_bert.sort_values(by=\"val_loss\", ascending=True).iloc[0,7]}')\n",
    "print('---------------------------------------------')\n",
    "print(f'Best validation loss: {metrics_bert.sort_values(by=\"val_loss\", ascending=True).iloc[0,0]}')\n",
    "print(f'Best validation accuracy: {metrics_bert.sort_values(by=\"val_loss\", ascending=True).iloc[0,1]}')\n",
    "print(f'Best validation precision: {metrics_bert.sort_values(by=\"val_loss\", ascending=True).iloc[0,2]}')\n",
    "print(f'Best validation recall: {metrics_bert.sort_values(by=\"val_loss\", ascending=True).iloc[0,3]}')"
   ]
  },
  {
   "cell_type": "code",
   "execution_count": 37,
   "metadata": {},
   "outputs": [
    {
     "data": {
      "image/png": "[encoded data removed]",
      "text/plain": [
       "<Figure size 576x396 with 1 Axes>"
      ]
     },
     "metadata": {},
     "output_type": "display_data"
    }
   ],
   "source": [
    "metrics_bert[['accuracy','val_accuracy']].plot()\n",
    "plt.savefig('../figures/bert_acc.jpg', dpi=300)"
   ]
  },
  {
   "cell_type": "code",
   "execution_count": 38,
   "metadata": {},
   "outputs": [
    {
     "data": {
      "image/png": "[encoded data removed]",
      "text/plain": [
       "<Figure size 576x396 with 1 Axes>"
      ]
     },
     "metadata": {},
     "output_type": "display_data"
    }
   ],
   "source": [
    "metrics_bert[['loss','val_loss']].plot()\n",
    "plt.savefig('../figures/bert_loss.jpg', dpi=300)"
   ]
  },
  {
   "cell_type": "code",
   "execution_count": 39,
   "metadata": {},
   "outputs": [
    {
     "name": "stdout",
     "output_type": "stream",
     "text": [
      "32000/32000 [==============================] - 455s 14ms/step\n"
     ]
    }
   ],
   "source": [
    "# Loss metrics for the trained model\n",
    "test_loss, test_accuracy, test_precision, test_recall = bert_model.evaluate([test_input_ids, test_input_masks, test_segment_ids], test_labels)"
   ]
  },
  {
   "cell_type": "code",
   "execution_count": 40,
   "metadata": {},
   "outputs": [
    {
     "name": "stdout",
     "output_type": "stream",
     "text": [
      "Test loss: 0.4366583449393511\n",
      "Test accuracy: 0.7951562404632568\n",
      "Test precision: 0.786424458026886\n",
      "Test recall: 0.8064698576927185\n"
     ]
    }
   ],
   "source": [
    "print(f'Test loss: {test_loss}')\n",
    "print(f'Test accuracy: {test_accuracy}')\n",
    "print(f'Test precision: {test_precision}')\n",
    "print(f'Test recall: {test_recall}')"
   ]
  },
  {
   "cell_type": "code",
   "execution_count": 41,
   "metadata": {},
   "outputs": [],
   "source": [
    "bert_model.save('../models/bert_model.h5')"
   ]
  }
 ],
 "metadata": {
  "kernelspec": {
   "display_name": "Python 3",
   "language": "python",
   "name": "python3"
  },
  "language_info": {
   "codemirror_mode": {
    "name": "ipython",
    "version": 3
   },
   "file_extension": ".py",
   "mimetype": "text/x-python",
   "name": "python",
   "nbconvert_exporter": "python",
   "pygments_lexer": "ipython3",
   "version": "3.6.13"
  }
 },
 "nbformat": 4,
 "nbformat_minor": 2
}
