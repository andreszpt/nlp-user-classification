{
 "cells": [
  {
   "cell_type": "code",
   "execution_count": 1,
   "id": "informal-connecticut",
   "metadata": {
    "executionInfo": {
     "elapsed": 850,
     "status": "ok",
     "timestamp": 1617559922784,
     "user": {
      "displayName": "Andrés Zapata",
      "photoUrl": "https://lh3.googleusercontent.com/a-/AOh14Gj-eJhEQrYm7yW30WK1klNB5crOpPy_c1vJREkLCJs=s64",
      "userId": "15045990832920962230"
     },
     "user_tz": -120
    },
    "id": "ruled-friendship"
   },
   "outputs": [
    {
     "name": "stderr",
     "output_type": "stream",
     "text": [
      "Using TensorFlow backend.\n"
     ]
    }
   ],
   "source": [
    "from nlp_functions import *\n",
    "sess = tf.Session()"
   ]
  },
  {
   "cell_type": "code",
   "execution_count": 2,
   "id": "a3b20da7",
   "metadata": {},
   "outputs": [],
   "source": [
    "plt.style.use('seaborn')"
   ]
  },
  {
   "cell_type": "code",
   "execution_count": 3,
   "id": "comic-letter",
   "metadata": {
    "executionInfo": {
     "elapsed": 5072,
     "status": "ok",
     "timestamp": 1617559927350,
     "user": {
      "displayName": "Andrés Zapata",
      "photoUrl": "https://lh3.googleusercontent.com/a-/AOh14Gj-eJhEQrYm7yW30WK1klNB5crOpPy_c1vJREkLCJs=s64",
      "userId": "15045990832920962230"
     },
     "user_tz": -120
    },
    "id": "considered-vatican",
    "scrolled": true
   },
   "outputs": [],
   "source": [
    "# Importing our data\n",
    "sentiment140 = read_sentiment_file(DATA_DIRECTORY, 'sentiment140_train.csv')"
   ]
  },
  {
   "cell_type": "code",
   "execution_count": 4,
   "id": "advisory-nursery",
   "metadata": {},
   "outputs": [],
   "source": [
    "# Sampling 10% the data\n",
    "sentiment140 = sentiment140.sample(frac=0.1, random_state=7)"
   ]
  },
  {
   "cell_type": "code",
   "execution_count": 5,
   "id": "intense-husband",
   "metadata": {},
   "outputs": [],
   "source": [
    "# Separating into characteristics and labels\n",
    "X = sentiment140['text']\n",
    "y = sentiment140['polarity']"
   ]
  },
  {
   "cell_type": "code",
   "execution_count": 6,
   "id": "nasty-singapore",
   "metadata": {
    "executionInfo": {
     "elapsed": 12549,
     "status": "ok",
     "timestamp": 1617559935126,
     "user": {
      "displayName": "Andrés Zapata",
      "photoUrl": "https://lh3.googleusercontent.com/a-/AOh14Gj-eJhEQrYm7yW30WK1klNB5crOpPy_c1vJREkLCJs=s64",
      "userId": "15045990832920962230"
     },
     "user_tz": -120
    },
    "id": "4865xfI-E1sN"
   },
   "outputs": [],
   "source": [
    "# Cleaning the texts\n",
    "X = clean_data(X)"
   ]
  },
  {
   "cell_type": "code",
   "execution_count": 7,
   "id": "meaning-flood",
   "metadata": {
    "executionInfo": {
     "elapsed": 12384,
     "status": "ok",
     "timestamp": 1617559935127,
     "user": {
      "displayName": "Andrés Zapata",
      "photoUrl": "https://lh3.googleusercontent.com/a-/AOh14Gj-eJhEQrYm7yW30WK1klNB5crOpPy_c1vJREkLCJs=s64",
      "userId": "15045990832920962230"
     },
     "user_tz": -120
    },
    "id": "recreational-vampire"
   },
   "outputs": [],
   "source": [
    "# Mapping for easier classificacion\n",
    "y = y.map({0: int(0), 4: int(1)})"
   ]
  },
  {
   "cell_type": "code",
   "execution_count": 8,
   "id": "solid-commission",
   "metadata": {
    "executionInfo": {
     "elapsed": 12740,
     "status": "ok",
     "timestamp": 1617559935899,
     "user": {
      "displayName": "Andrés Zapata",
      "photoUrl": "https://lh3.googleusercontent.com/a-/AOh14Gj-eJhEQrYm7yW30WK1klNB5crOpPy_c1vJREkLCJs=s64",
      "userId": "15045990832920962230"
     },
     "user_tz": -120
    },
    "id": "mathematical-secretary"
   },
   "outputs": [],
   "source": [
    "# Split the data to train and test, then train and val\n",
    "X_train, X_test, y_train, y_test = train_test_split(X, y, test_size=0.2, random_state=7)\n",
    "X_train, X_val, y_train, y_val = train_test_split(X_train, y_train, test_size=0.2, random_state=7)"
   ]
  },
  {
   "cell_type": "code",
   "execution_count": 9,
   "id": "olympic-depression",
   "metadata": {
    "colab": {
     "base_uri": "https://localhost:8080/"
    },
    "executionInfo": {
     "elapsed": 59155,
     "status": "ok",
     "timestamp": 1617559983416,
     "user": {
      "displayName": "Andrés Zapata",
      "photoUrl": "https://lh3.googleusercontent.com/a-/AOh14Gj-eJhEQrYm7yW30WK1klNB5crOpPy_c1vJREkLCJs=s64",
      "userId": "15045990832920962230"
     },
     "user_tz": -120
    },
    "id": "complete-container",
    "outputId": "b64300df-0d3b-46ad-90b9-196a6ee7ff3c"
   },
   "outputs": [],
   "source": [
    "# Tokenizing the data\n",
    "tk, word_index, vocab_size = tokenize(X_train, X_val, X_test)"
   ]
  },
  {
   "cell_type": "code",
   "execution_count": 10,
   "id": "constitutional-handbook",
   "metadata": {},
   "outputs": [],
   "source": [
    "# Each sentence is converted into an array of integers\n",
    "X_train = tk.texts_to_sequences(X_train)\n",
    "X_val = tk.texts_to_sequences(X_val)\n",
    "X_test = tk.texts_to_sequences(X_test)"
   ]
  },
  {
   "cell_type": "code",
   "execution_count": 11,
   "id": "french-vaccine",
   "metadata": {
    "colab": {
     "base_uri": "https://localhost:8080/"
    },
    "executionInfo": {
     "elapsed": 54510,
     "status": "ok",
     "timestamp": 1617559983815,
     "user": {
      "displayName": "Andrés Zapata",
      "photoUrl": "https://lh3.googleusercontent.com/a-/AOh14Gj-eJhEQrYm7yW30WK1klNB5crOpPy_c1vJREkLCJs=s64",
      "userId": "15045990832920962230"
     },
     "user_tz": -120
    },
    "id": "indian-mouth",
    "outputId": "469d3984-1e9e-4c7f-b8d1-cc0373be277b",
    "scrolled": false
   },
   "outputs": [],
   "source": [
    "# Calculation of maximum length to adjust the padding\n",
    "maxlen = longest_sentence(X_train, X_val, X_test)"
   ]
  },
  {
   "cell_type": "code",
   "execution_count": 12,
   "id": "retained-review",
   "metadata": {
    "executionInfo": {
     "elapsed": 63747,
     "status": "ok",
     "timestamp": 1617559993517,
     "user": {
      "displayName": "Andrés Zapata",
      "photoUrl": "https://lh3.googleusercontent.com/a-/AOh14Gj-eJhEQrYm7yW30WK1klNB5crOpPy_c1vJREkLCJs=s64",
      "userId": "15045990832920962230"
     },
     "user_tz": -120
    },
    "id": "juvenile-telling"
   },
   "outputs": [],
   "source": [
    "# Padding is applied to get the same dimension\n",
    "X_train = pad_sequences(X_train, padding='post', maxlen=maxlen)\n",
    "X_val = pad_sequences(X_val, padding='post', maxlen=maxlen)\n",
    "X_test = pad_sequences(X_test, padding='post', maxlen=maxlen)"
   ]
  },
  {
   "cell_type": "code",
   "execution_count": 13,
   "id": "colonial-welcome",
   "metadata": {
    "executionInfo": {
     "elapsed": 68698,
     "status": "ok",
     "timestamp": 1617560002297,
     "user": {
      "displayName": "Andrés Zapata",
      "photoUrl": "https://lh3.googleusercontent.com/a-/AOh14Gj-eJhEQrYm7yW30WK1klNB5crOpPy_c1vJREkLCJs=s64",
      "userId": "15045990832920962230"
     },
     "user_tz": -120
    },
    "id": "prompt-tenant",
    "scrolled": true
   },
   "outputs": [],
   "source": [
    "# Creating the embedding matrix based on dimension and vocabulary of our texts\n",
    "EMBEDDING_DIM = 50\n",
    "embedding_matrix = create_embedding_matrix(vocab_size, EMBEDDING_DIM, word_index)"
   ]
  },
  {
   "cell_type": "code",
   "execution_count": 14,
   "id": "comic-death",
   "metadata": {
    "colab": {
     "base_uri": "https://localhost:8080/"
    },
    "executionInfo": {
     "elapsed": 68233,
     "status": "ok",
     "timestamp": 1617560002298,
     "user": {
      "displayName": "Andrés Zapata",
      "photoUrl": "https://lh3.googleusercontent.com/a-/AOh14Gj-eJhEQrYm7yW30WK1klNB5crOpPy_c1vJREkLCJs=s64",
      "userId": "15045990832920962230"
     },
     "user_tz": -120
    },
    "id": "future-management",
    "outputId": "9afbe6f9-6b3f-4b85-8703-ca37239367ae",
    "scrolled": true
   },
   "outputs": [
    {
     "name": "stdout",
     "output_type": "stream",
     "text": [
      "Using GloVe (Wiki database)\n"
     ]
    },
    {
     "data": {
      "text/plain": [
       "0.6430845828750072"
      ]
     },
     "execution_count": 14,
     "metadata": {},
     "output_type": "execute_result"
    }
   ],
   "source": [
    "# Check the ratio of words in our texts are included in the embedding_matrix\n",
    "print('Using GloVe (Wiki database)')\n",
    "nonzero_elements = np.count_nonzero(np.count_nonzero(embedding_matrix, axis=1))\n",
    "nonzero_elements / vocab_size"
   ]
  },
  {
   "cell_type": "code",
   "execution_count": 15,
   "id": "tutorial-sending",
   "metadata": {
    "colab": {
     "base_uri": "https://localhost:8080/"
    },
    "executionInfo": {
     "elapsed": 5954,
     "status": "ok",
     "timestamp": 1617560015161,
     "user": {
      "displayName": "Andrés Zapata",
      "photoUrl": "https://lh3.googleusercontent.com/a-/AOh14Gj-eJhEQrYm7yW30WK1klNB5crOpPy_c1vJREkLCJs=s64",
      "userId": "15045990832920962230"
     },
     "user_tz": -120
    },
    "id": "robust-utilization",
    "outputId": "b21a8bab-802e-4eca-f558-e53ae22667fa",
    "scrolled": false
   },
   "outputs": [
    {
     "name": "stdout",
     "output_type": "stream",
     "text": [
      "WARNING:tensorflow:From /home/andres/anaconda3/envs/gpu/lib/python3.6/site-packages/tensorflow_core/python/ops/resource_variable_ops.py:1630: calling BaseResourceVariable.__init__ (from tensorflow.python.ops.resource_variable_ops) with constraint is deprecated and will be removed in a future version.\n",
      "Instructions for updating:\n",
      "If using Keras pass *_constraint arguments to layers.\n",
      "WARNING:tensorflow:From /home/andres/anaconda3/envs/gpu/lib/python3.6/site-packages/keras/backend/tensorflow_backend.py:3172: where (from tensorflow.python.ops.array_ops) is deprecated and will be removed in a future version.\n",
      "Instructions for updating:\n",
      "Use tf.where in 2.0, which has the same broadcast rule as np.where\n",
      "Model: \"sequential_1\"\n",
      "_________________________________________________________________\n",
      "Layer (type)                 Output Shape              Param #   \n",
      "=================================================================\n",
      "embedding_1 (Embedding)      (None, 50, 50)            2590950   \n",
      "_________________________________________________________________\n",
      "conv1d_1 (Conv1D)            (None, 48, 250)           37750     \n",
      "_________________________________________________________________\n",
      "global_max_pooling1d_1 (Glob (None, 250)               0         \n",
      "_________________________________________________________________\n",
      "dense_1 (Dense)              (None, 100)               25100     \n",
      "_________________________________________________________________\n",
      "dropout_1 (Dropout)          (None, 100)               0         \n",
      "_________________________________________________________________\n",
      "dense_2 (Dense)              (None, 1)                 101       \n",
      "=================================================================\n",
      "Total params: 2,653,901\n",
      "Trainable params: 62,951\n",
      "Non-trainable params: 2,590,950\n",
      "_________________________________________________________________\n"
     ]
    }
   ],
   "source": [
    "# Architecture for CNN + GloVe model\n",
    "model = Sequential()\n",
    "model.add(Embedding(\n",
    "    input_dim=vocab_size,\n",
    "    output_dim=EMBEDDING_DIM,\n",
    "    weights=[embedding_matrix],\n",
    "    input_length=maxlen,\n",
    "    trainable=False))\n",
    "model.add(Conv1D(\n",
    "    filters=250,\n",
    "    kernel_size=3,\n",
    "    activation='relu'))\n",
    "model.add(GlobalMaxPooling1D())\n",
    "model.add(Dense(100, activation='relu'))\n",
    "model.add(Dropout(0.5))\n",
    "model.add(Dense(1, activation='sigmoid'))\n",
    "model.compile(\n",
    "    optimizer='sgd',\n",
    "    loss='binary_crossentropy',\n",
    "    metrics=['accuracy', metrics.Precision(name='precision'), metrics.Recall(name='recall')])\n",
    "model.summary()"
   ]
  },
  {
   "cell_type": "code",
   "execution_count": 16,
   "id": "74a9e9ad",
   "metadata": {},
   "outputs": [
    {
     "name": "stdout",
     "output_type": "stream",
     "text": [
      "WARNING:tensorflow:From /home/andres/anaconda3/envs/gpu/lib/python3.6/site-packages/keras/backend/tensorflow_backend.py:422: The name tf.global_variables is deprecated. Please use tf.compat.v1.global_variables instead.\n",
      "\n",
      "Train on 102400 samples, validate on 25600 samples\n",
      "Epoch 1/100\n",
      "102400/102400 [==============================] - 6s 57us/step - loss: 0.6590 - accuracy: 0.6016 - precision: 0.6035 - recall: 0.5825 - val_loss: 0.6040 - val_accuracy: 0.6877 - val_precision: 0.6957 - val_recall: 0.6683\n",
      "Epoch 2/100\n",
      "102400/102400 [==============================] - 5s 49us/step - loss: 0.5987 - accuracy: 0.6799 - precision: 0.6764 - recall: 0.6845 - val_loss: 0.5669 - val_accuracy: 0.7100 - val_precision: 0.6992 - val_recall: 0.7377\n",
      "Epoch 3/100\n",
      "102400/102400 [==============================] - 5s 49us/step - loss: 0.5709 - accuracy: 0.7046 - precision: 0.7022 - recall: 0.7062 - val_loss: 0.5599 - val_accuracy: 0.7084 - val_precision: 0.7671 - val_recall: 0.5992\n",
      "Epoch 4/100\n",
      "102400/102400 [==============================] - 5s 49us/step - loss: 0.5567 - accuracy: 0.7150 - precision: 0.7146 - recall: 0.7121 - val_loss: 0.5410 - val_accuracy: 0.7265 - val_precision: 0.7472 - val_recall: 0.6853\n",
      "Epoch 5/100\n",
      "102400/102400 [==============================] - 5s 49us/step - loss: 0.5453 - accuracy: 0.7249 - precision: 0.7257 - recall: 0.7195 - val_loss: 0.5317 - val_accuracy: 0.7329 - val_precision: 0.7265 - val_recall: 0.7477\n",
      "Epoch 6/100\n",
      "102400/102400 [==============================] - 5s 49us/step - loss: 0.5348 - accuracy: 0.7316 - precision: 0.7337 - recall: 0.7234 - val_loss: 0.5251 - val_accuracy: 0.7355 - val_precision: 0.7203 - val_recall: 0.7707\n",
      "Epoch 7/100\n",
      "102400/102400 [==============================] - 5s 49us/step - loss: 0.5274 - accuracy: 0.7386 - precision: 0.7408 - recall: 0.7308 - val_loss: 0.5198 - val_accuracy: 0.7398 - val_precision: 0.7671 - val_recall: 0.6895\n",
      "Epoch 8/100\n",
      "102400/102400 [==============================] - 5s 49us/step - loss: 0.5191 - accuracy: 0.7429 - precision: 0.7464 - recall: 0.7325 - val_loss: 0.5142 - val_accuracy: 0.7464 - val_precision: 0.7489 - val_recall: 0.7422\n",
      "Epoch 9/100\n",
      "102400/102400 [==============================] - 5s 49us/step - loss: 0.5114 - accuracy: 0.7491 - precision: 0.7526 - recall: 0.7392 - val_loss: 0.5106 - val_accuracy: 0.7469 - val_precision: 0.7627 - val_recall: 0.7175\n",
      "Epoch 10/100\n",
      "102400/102400 [==============================] - 5s 49us/step - loss: 0.5058 - accuracy: 0.7528 - precision: 0.7566 - recall: 0.7423 - val_loss: 0.5094 - val_accuracy: 0.7460 - val_precision: 0.7704 - val_recall: 0.7015\n",
      "Epoch 11/100\n",
      "102400/102400 [==============================] - 5s 49us/step - loss: 0.4994 - accuracy: 0.7571 - precision: 0.7616 - recall: 0.7456 - val_loss: 0.5068 - val_accuracy: 0.7486 - val_precision: 0.7729 - val_recall: 0.7049\n",
      "Epoch 12/100\n",
      "102400/102400 [==============================] - 5s 49us/step - loss: 0.4952 - accuracy: 0.7591 - precision: 0.7643 - recall: 0.7464 - val_loss: 0.5093 - val_accuracy: 0.7475 - val_precision: 0.7232 - val_recall: 0.8027\n",
      "Epoch 13/100\n",
      "102400/102400 [==============================] - 5s 49us/step - loss: 0.4896 - accuracy: 0.7624 - precision: 0.7679 - recall: 0.7492 - val_loss: 0.5019 - val_accuracy: 0.7525 - val_precision: 0.7583 - val_recall: 0.7417\n",
      "Epoch 14/100\n",
      "102400/102400 [==============================] - 5s 49us/step - loss: 0.4852 - accuracy: 0.7649 - precision: 0.7696 - recall: 0.7532 - val_loss: 0.5009 - val_accuracy: 0.7539 - val_precision: 0.7753 - val_recall: 0.7158\n",
      "Epoch 15/100\n",
      "102400/102400 [==============================] - 5s 49us/step - loss: 0.4812 - accuracy: 0.7696 - precision: 0.7742 - recall: 0.7586 - val_loss: 0.5017 - val_accuracy: 0.7523 - val_precision: 0.7799 - val_recall: 0.7037\n",
      "Epoch 16/100\n",
      "102400/102400 [==============================] - 5s 49us/step - loss: 0.4769 - accuracy: 0.7719 - precision: 0.7764 - recall: 0.7612 - val_loss: 0.4984 - val_accuracy: 0.7552 - val_precision: 0.7610 - val_recall: 0.7448\n",
      "Epoch 17/100\n",
      "102400/102400 [==============================] - 5s 49us/step - loss: 0.4719 - accuracy: 0.7745 - precision: 0.7792 - recall: 0.7636 - val_loss: 0.5102 - val_accuracy: 0.7471 - val_precision: 0.8058 - val_recall: 0.6517\n",
      "Epoch 18/100\n",
      "102400/102400 [==============================] - 5s 49us/step - loss: 0.4694 - accuracy: 0.7764 - precision: 0.7820 - recall: 0.7638 - val_loss: 0.4969 - val_accuracy: 0.7563 - val_precision: 0.7685 - val_recall: 0.7340\n",
      "Epoch 19/100\n",
      "102400/102400 [==============================] - 5s 49us/step - loss: 0.4655 - accuracy: 0.7780 - precision: 0.7824 - recall: 0.7675 - val_loss: 0.5532 - val_accuracy: 0.7259 - val_precision: 0.6718 - val_recall: 0.8841\n",
      "Epoch 20/100\n",
      "102400/102400 [==============================] - 5s 49us/step - loss: 0.4611 - accuracy: 0.7809 - precision: 0.7859 - recall: 0.7698 - val_loss: 0.5289 - val_accuracy: 0.7371 - val_precision: 0.8225 - val_recall: 0.6052\n",
      "Epoch 21/100\n",
      "102400/102400 [==============================] - 5s 49us/step - loss: 0.4582 - accuracy: 0.7830 - precision: 0.7880 - recall: 0.7718 - val_loss: 0.5022 - val_accuracy: 0.7523 - val_precision: 0.7961 - val_recall: 0.6789\n",
      "Epoch 22/100\n",
      "102400/102400 [==============================] - 5s 49us/step - loss: 0.4544 - accuracy: 0.7852 - precision: 0.7907 - recall: 0.7733 - val_loss: 0.5000 - val_accuracy: 0.7588 - val_precision: 0.7491 - val_recall: 0.7789\n",
      "Epoch 23/100\n",
      "102400/102400 [==============================] - 5s 49us/step - loss: 0.4515 - accuracy: 0.7863 - precision: 0.7913 - recall: 0.7752 - val_loss: 0.4982 - val_accuracy: 0.7582 - val_precision: 0.7743 - val_recall: 0.7295\n",
      "Epoch 24/100\n",
      "102400/102400 [==============================] - 5s 49us/step - loss: 0.4490 - accuracy: 0.7882 - precision: 0.7947 - recall: 0.7749 - val_loss: 0.4983 - val_accuracy: 0.7588 - val_precision: 0.7627 - val_recall: 0.7519\n",
      "Epoch 25/100\n",
      "102400/102400 [==============================] - 5s 49us/step - loss: 0.4453 - accuracy: 0.7899 - precision: 0.7955 - recall: 0.7782 - val_loss: 0.4996 - val_accuracy: 0.7569 - val_precision: 0.7796 - val_recall: 0.7168\n",
      "Epoch 26/100\n",
      "102400/102400 [==============================] - 5s 49us/step - loss: 0.4412 - accuracy: 0.7932 - precision: 0.7992 - recall: 0.7808 - val_loss: 0.4987 - val_accuracy: 0.7566 - val_precision: 0.7710 - val_recall: 0.7305\n",
      "Epoch 27/100\n",
      "102400/102400 [==============================] - 5s 49us/step - loss: 0.4400 - accuracy: 0.7926 - precision: 0.7990 - recall: 0.7797 - val_loss: 0.5220 - val_accuracy: 0.7390 - val_precision: 0.8236 - val_recall: 0.6089\n",
      "Epoch 28/100\n",
      "102400/102400 [==============================] - 5s 49us/step - loss: 0.4373 - accuracy: 0.7958 - precision: 0.8012 - recall: 0.7845 - val_loss: 0.5171 - val_accuracy: 0.7451 - val_precision: 0.8165 - val_recall: 0.6328\n",
      "Epoch 29/100\n",
      "102400/102400 [==============================] - 5s 49us/step - loss: 0.4323 - accuracy: 0.7972 - precision: 0.8037 - recall: 0.7842 - val_loss: 0.5369 - val_accuracy: 0.7368 - val_precision: 0.8278 - val_recall: 0.5985\n",
      "Epoch 30/100\n",
      "102400/102400 [==============================] - 5s 49us/step - loss: 0.4298 - accuracy: 0.7998 - precision: 0.8054 - recall: 0.7885 - val_loss: 0.4987 - val_accuracy: 0.7571 - val_precision: 0.7535 - val_recall: 0.7647\n",
      "Epoch 31/100\n",
      "102400/102400 [==============================] - 5s 49us/step - loss: 0.4282 - accuracy: 0.8000 - precision: 0.8073 - recall: 0.7861 - val_loss: 0.5080 - val_accuracy: 0.7520 - val_precision: 0.7987 - val_recall: 0.6743\n",
      "Epoch 32/100\n",
      "102400/102400 [==============================] - 5s 49us/step - loss: 0.4245 - accuracy: 0.8027 - precision: 0.8092 - recall: 0.7902 - val_loss: 0.5006 - val_accuracy: 0.7570 - val_precision: 0.7546 - val_recall: 0.7625\n",
      "Epoch 33/100\n",
      "102400/102400 [==============================] - 5s 49us/step - loss: 0.4234 - accuracy: 0.8028 - precision: 0.8091 - recall: 0.7905 - val_loss: 0.5260 - val_accuracy: 0.7406 - val_precision: 0.8156 - val_recall: 0.6224\n"
     ]
    }
   ],
   "source": [
    "# Training and validation for CNN + GloVe model\n",
    "early_stopping = keras.callbacks.EarlyStopping(\n",
    "    monitor='val_loss',\n",
    "    patience=15,\n",
    "    restore_best_weights=True)\n",
    "history = model.fit(\n",
    "    X_train,\n",
    "    y_train,\n",
    "    batch_size=64,\n",
    "    epochs=100,\n",
    "    validation_data=(X_val, y_val),\n",
    "    callbacks=[early_stopping])"
   ]
  },
  {
   "cell_type": "code",
   "execution_count": 17,
   "id": "south-excitement",
   "metadata": {
    "colab": {
     "base_uri": "https://localhost:8080/",
     "height": 857
    },
    "executionInfo": {
     "elapsed": 4479788,
     "status": "ok",
     "timestamp": 1617566671177,
     "user": {
      "displayName": "Andrés Zapata",
      "photoUrl": "https://lh3.googleusercontent.com/a-/AOh14Gj-eJhEQrYm7yW30WK1klNB5crOpPy_c1vJREkLCJs=s64",
      "userId": "15045990832920962230"
     },
     "user_tz": -120
    },
    "id": "literary-prairie",
    "outputId": "b7664122-ab46-4810-9196-e0d51b2cce21"
   },
   "outputs": [
    {
     "data": {
      "text/html": [
       "<div>\n",
       "<style scoped>\n",
       "    .dataframe tbody tr th:only-of-type {\n",
       "        vertical-align: middle;\n",
       "    }\n",
       "\n",
       "    .dataframe tbody tr th {\n",
       "        vertical-align: top;\n",
       "    }\n",
       "\n",
       "    .dataframe thead th {\n",
       "        text-align: right;\n",
       "    }\n",
       "</style>\n",
       "<table border=\"1\" class=\"dataframe\">\n",
       "  <thead>\n",
       "    <tr style=\"text-align: right;\">\n",
       "      <th></th>\n",
       "      <th>val_loss</th>\n",
       "      <th>val_accuracy</th>\n",
       "      <th>val_precision</th>\n",
       "      <th>val_recall</th>\n",
       "      <th>loss</th>\n",
       "      <th>accuracy</th>\n",
       "      <th>precision</th>\n",
       "      <th>recall</th>\n",
       "    </tr>\n",
       "  </thead>\n",
       "  <tbody>\n",
       "    <tr>\n",
       "      <th>0</th>\n",
       "      <td>0.603982</td>\n",
       "      <td>0.687734</td>\n",
       "      <td>0.695702</td>\n",
       "      <td>0.668332</td>\n",
       "      <td>0.659028</td>\n",
       "      <td>0.601572</td>\n",
       "      <td>0.603507</td>\n",
       "      <td>0.582521</td>\n",
       "    </tr>\n",
       "    <tr>\n",
       "      <th>1</th>\n",
       "      <td>0.566886</td>\n",
       "      <td>0.709961</td>\n",
       "      <td>0.699245</td>\n",
       "      <td>0.737725</td>\n",
       "      <td>0.598723</td>\n",
       "      <td>0.679873</td>\n",
       "      <td>0.676415</td>\n",
       "      <td>0.684547</td>\n",
       "    </tr>\n",
       "    <tr>\n",
       "      <th>2</th>\n",
       "      <td>0.559894</td>\n",
       "      <td>0.708359</td>\n",
       "      <td>0.767063</td>\n",
       "      <td>0.599173</td>\n",
       "      <td>0.570939</td>\n",
       "      <td>0.704551</td>\n",
       "      <td>0.702159</td>\n",
       "      <td>0.706180</td>\n",
       "    </tr>\n",
       "    <tr>\n",
       "      <th>3</th>\n",
       "      <td>0.541026</td>\n",
       "      <td>0.726484</td>\n",
       "      <td>0.747213</td>\n",
       "      <td>0.685270</td>\n",
       "      <td>0.556669</td>\n",
       "      <td>0.715029</td>\n",
       "      <td>0.714575</td>\n",
       "      <td>0.712123</td>\n",
       "    </tr>\n",
       "    <tr>\n",
       "      <th>4</th>\n",
       "      <td>0.531652</td>\n",
       "      <td>0.732852</td>\n",
       "      <td>0.726452</td>\n",
       "      <td>0.747717</td>\n",
       "      <td>0.545327</td>\n",
       "      <td>0.724932</td>\n",
       "      <td>0.725708</td>\n",
       "      <td>0.719517</td>\n",
       "    </tr>\n",
       "    <tr>\n",
       "      <th>5</th>\n",
       "      <td>0.525111</td>\n",
       "      <td>0.735469</td>\n",
       "      <td>0.720257</td>\n",
       "      <td>0.770744</td>\n",
       "      <td>0.534765</td>\n",
       "      <td>0.731572</td>\n",
       "      <td>0.733729</td>\n",
       "      <td>0.723439</td>\n",
       "    </tr>\n",
       "    <tr>\n",
       "      <th>6</th>\n",
       "      <td>0.519810</td>\n",
       "      <td>0.739844</td>\n",
       "      <td>0.767086</td>\n",
       "      <td>0.689486</td>\n",
       "      <td>0.527351</td>\n",
       "      <td>0.738613</td>\n",
       "      <td>0.740751</td>\n",
       "      <td>0.730814</td>\n",
       "    </tr>\n",
       "    <tr>\n",
       "      <th>7</th>\n",
       "      <td>0.514177</td>\n",
       "      <td>0.746445</td>\n",
       "      <td>0.748897</td>\n",
       "      <td>0.742175</td>\n",
       "      <td>0.519124</td>\n",
       "      <td>0.742852</td>\n",
       "      <td>0.746368</td>\n",
       "      <td>0.732461</td>\n",
       "    </tr>\n",
       "    <tr>\n",
       "      <th>8</th>\n",
       "      <td>0.510550</td>\n",
       "      <td>0.746914</td>\n",
       "      <td>0.762695</td>\n",
       "      <td>0.717508</td>\n",
       "      <td>0.511412</td>\n",
       "      <td>0.749141</td>\n",
       "      <td>0.752581</td>\n",
       "      <td>0.739208</td>\n",
       "    </tr>\n",
       "    <tr>\n",
       "      <th>9</th>\n",
       "      <td>0.509406</td>\n",
       "      <td>0.745977</td>\n",
       "      <td>0.770358</td>\n",
       "      <td>0.701506</td>\n",
       "      <td>0.505801</td>\n",
       "      <td>0.752813</td>\n",
       "      <td>0.756642</td>\n",
       "      <td>0.742307</td>\n",
       "    </tr>\n",
       "    <tr>\n",
       "      <th>10</th>\n",
       "      <td>0.506759</td>\n",
       "      <td>0.748633</td>\n",
       "      <td>0.772852</td>\n",
       "      <td>0.704863</td>\n",
       "      <td>0.499368</td>\n",
       "      <td>0.757129</td>\n",
       "      <td>0.761615</td>\n",
       "      <td>0.745602</td>\n",
       "    </tr>\n",
       "    <tr>\n",
       "      <th>11</th>\n",
       "      <td>0.509331</td>\n",
       "      <td>0.747539</td>\n",
       "      <td>0.723238</td>\n",
       "      <td>0.802670</td>\n",
       "      <td>0.495228</td>\n",
       "      <td>0.759141</td>\n",
       "      <td>0.764314</td>\n",
       "      <td>0.746445</td>\n",
       "    </tr>\n",
       "    <tr>\n",
       "      <th>12</th>\n",
       "      <td>0.501909</td>\n",
       "      <td>0.752461</td>\n",
       "      <td>0.758340</td>\n",
       "      <td>0.741706</td>\n",
       "      <td>0.489635</td>\n",
       "      <td>0.762393</td>\n",
       "      <td>0.767921</td>\n",
       "      <td>0.749230</td>\n",
       "    </tr>\n",
       "    <tr>\n",
       "      <th>13</th>\n",
       "      <td>0.500896</td>\n",
       "      <td>0.753945</td>\n",
       "      <td>0.775279</td>\n",
       "      <td>0.715791</td>\n",
       "      <td>0.485174</td>\n",
       "      <td>0.764863</td>\n",
       "      <td>0.769624</td>\n",
       "      <td>0.753231</td>\n",
       "    </tr>\n",
       "    <tr>\n",
       "      <th>14</th>\n",
       "      <td>0.501726</td>\n",
       "      <td>0.752344</td>\n",
       "      <td>0.779912</td>\n",
       "      <td>0.703692</td>\n",
       "      <td>0.481248</td>\n",
       "      <td>0.769619</td>\n",
       "      <td>0.774168</td>\n",
       "      <td>0.758605</td>\n",
       "    </tr>\n",
       "    <tr>\n",
       "      <th>15</th>\n",
       "      <td>0.498372</td>\n",
       "      <td>0.755234</td>\n",
       "      <td>0.761027</td>\n",
       "      <td>0.744751</td>\n",
       "      <td>0.476927</td>\n",
       "      <td>0.771924</td>\n",
       "      <td>0.776375</td>\n",
       "      <td>0.761194</td>\n",
       "    </tr>\n",
       "    <tr>\n",
       "      <th>16</th>\n",
       "      <td>0.510220</td>\n",
       "      <td>0.747109</td>\n",
       "      <td>0.805810</td>\n",
       "      <td>0.651706</td>\n",
       "      <td>0.471923</td>\n",
       "      <td>0.774541</td>\n",
       "      <td>0.779190</td>\n",
       "      <td>0.763587</td>\n",
       "    </tr>\n",
       "    <tr>\n",
       "      <th>17</th>\n",
       "      <td>0.496885</td>\n",
       "      <td>0.756250</td>\n",
       "      <td>0.768533</td>\n",
       "      <td>0.733979</td>\n",
       "      <td>0.469356</td>\n",
       "      <td>0.776357</td>\n",
       "      <td>0.781954</td>\n",
       "      <td>0.763842</td>\n",
       "    </tr>\n",
       "    <tr>\n",
       "      <th>18</th>\n",
       "      <td>0.553158</td>\n",
       "      <td>0.725898</td>\n",
       "      <td>0.671847</td>\n",
       "      <td>0.884084</td>\n",
       "      <td>0.465531</td>\n",
       "      <td>0.777959</td>\n",
       "      <td>0.782432</td>\n",
       "      <td>0.767470</td>\n",
       "    </tr>\n",
       "    <tr>\n",
       "      <th>19</th>\n",
       "      <td>0.528920</td>\n",
       "      <td>0.737070</td>\n",
       "      <td>0.822512</td>\n",
       "      <td>0.605183</td>\n",
       "      <td>0.461080</td>\n",
       "      <td>0.780947</td>\n",
       "      <td>0.785869</td>\n",
       "      <td>0.769824</td>\n",
       "    </tr>\n",
       "    <tr>\n",
       "      <th>20</th>\n",
       "      <td>0.502237</td>\n",
       "      <td>0.752305</td>\n",
       "      <td>0.796083</td>\n",
       "      <td>0.678948</td>\n",
       "      <td>0.458218</td>\n",
       "      <td>0.783018</td>\n",
       "      <td>0.788049</td>\n",
       "      <td>0.771805</td>\n",
       "    </tr>\n",
       "    <tr>\n",
       "      <th>21</th>\n",
       "      <td>0.500012</td>\n",
       "      <td>0.758789</td>\n",
       "      <td>0.749062</td>\n",
       "      <td>0.778940</td>\n",
       "      <td>0.454397</td>\n",
       "      <td>0.785186</td>\n",
       "      <td>0.790679</td>\n",
       "      <td>0.773295</td>\n",
       "    </tr>\n",
       "    <tr>\n",
       "      <th>22</th>\n",
       "      <td>0.498225</td>\n",
       "      <td>0.758242</td>\n",
       "      <td>0.774316</td>\n",
       "      <td>0.729529</td>\n",
       "      <td>0.451511</td>\n",
       "      <td>0.786260</td>\n",
       "      <td>0.791291</td>\n",
       "      <td>0.775198</td>\n",
       "    </tr>\n",
       "    <tr>\n",
       "      <th>23</th>\n",
       "      <td>0.498313</td>\n",
       "      <td>0.758789</td>\n",
       "      <td>0.762749</td>\n",
       "      <td>0.751854</td>\n",
       "      <td>0.448992</td>\n",
       "      <td>0.788213</td>\n",
       "      <td>0.794650</td>\n",
       "      <td>0.774903</td>\n",
       "    </tr>\n",
       "    <tr>\n",
       "      <th>24</th>\n",
       "      <td>0.499579</td>\n",
       "      <td>0.756875</td>\n",
       "      <td>0.779608</td>\n",
       "      <td>0.716806</td>\n",
       "      <td>0.445277</td>\n",
       "      <td>0.789932</td>\n",
       "      <td>0.795469</td>\n",
       "      <td>0.778198</td>\n",
       "    </tr>\n",
       "    <tr>\n",
       "      <th>25</th>\n",
       "      <td>0.498667</td>\n",
       "      <td>0.756602</td>\n",
       "      <td>0.771050</td>\n",
       "      <td>0.730544</td>\n",
       "      <td>0.441232</td>\n",
       "      <td>0.793154</td>\n",
       "      <td>0.799161</td>\n",
       "      <td>0.780807</td>\n",
       "    </tr>\n",
       "    <tr>\n",
       "      <th>26</th>\n",
       "      <td>0.522021</td>\n",
       "      <td>0.739023</td>\n",
       "      <td>0.823585</td>\n",
       "      <td>0.608930</td>\n",
       "      <td>0.440024</td>\n",
       "      <td>0.792637</td>\n",
       "      <td>0.799007</td>\n",
       "      <td>0.779669</td>\n",
       "    </tr>\n",
       "    <tr>\n",
       "      <th>27</th>\n",
       "      <td>0.517056</td>\n",
       "      <td>0.745078</td>\n",
       "      <td>0.816497</td>\n",
       "      <td>0.632816</td>\n",
       "      <td>0.437314</td>\n",
       "      <td>0.795771</td>\n",
       "      <td>0.801222</td>\n",
       "      <td>0.784455</td>\n",
       "    </tr>\n",
       "    <tr>\n",
       "      <th>28</th>\n",
       "      <td>0.536922</td>\n",
       "      <td>0.736797</td>\n",
       "      <td>0.827810</td>\n",
       "      <td>0.598548</td>\n",
       "      <td>0.432345</td>\n",
       "      <td>0.797168</td>\n",
       "      <td>0.803670</td>\n",
       "      <td>0.784220</td>\n",
       "    </tr>\n",
       "    <tr>\n",
       "      <th>29</th>\n",
       "      <td>0.498678</td>\n",
       "      <td>0.757070</td>\n",
       "      <td>0.753538</td>\n",
       "      <td>0.764655</td>\n",
       "      <td>0.429813</td>\n",
       "      <td>0.799805</td>\n",
       "      <td>0.805377</td>\n",
       "      <td>0.788476</td>\n",
       "    </tr>\n",
       "    <tr>\n",
       "      <th>30</th>\n",
       "      <td>0.507985</td>\n",
       "      <td>0.751992</td>\n",
       "      <td>0.798724</td>\n",
       "      <td>0.674342</td>\n",
       "      <td>0.428205</td>\n",
       "      <td>0.800049</td>\n",
       "      <td>0.807283</td>\n",
       "      <td>0.786083</td>\n",
       "    </tr>\n",
       "    <tr>\n",
       "      <th>31</th>\n",
       "      <td>0.500575</td>\n",
       "      <td>0.757031</td>\n",
       "      <td>0.754577</td>\n",
       "      <td>0.762470</td>\n",
       "      <td>0.424519</td>\n",
       "      <td>0.802744</td>\n",
       "      <td>0.809179</td>\n",
       "      <td>0.790182</td>\n",
       "    </tr>\n",
       "    <tr>\n",
       "      <th>32</th>\n",
       "      <td>0.526002</td>\n",
       "      <td>0.740586</td>\n",
       "      <td>0.815569</td>\n",
       "      <td>0.622356</td>\n",
       "      <td>0.423406</td>\n",
       "      <td>0.802822</td>\n",
       "      <td>0.809097</td>\n",
       "      <td>0.790515</td>\n",
       "    </tr>\n",
       "  </tbody>\n",
       "</table>\n",
       "</div>"
      ],
      "text/plain": [
       "    val_loss  val_accuracy  val_precision  val_recall      loss  accuracy  \\\n",
       "0   0.603982      0.687734       0.695702    0.668332  0.659028  0.601572   \n",
       "1   0.566886      0.709961       0.699245    0.737725  0.598723  0.679873   \n",
       "2   0.559894      0.708359       0.767063    0.599173  0.570939  0.704551   \n",
       "3   0.541026      0.726484       0.747213    0.685270  0.556669  0.715029   \n",
       "4   0.531652      0.732852       0.726452    0.747717  0.545327  0.724932   \n",
       "5   0.525111      0.735469       0.720257    0.770744  0.534765  0.731572   \n",
       "6   0.519810      0.739844       0.767086    0.689486  0.527351  0.738613   \n",
       "7   0.514177      0.746445       0.748897    0.742175  0.519124  0.742852   \n",
       "8   0.510550      0.746914       0.762695    0.717508  0.511412  0.749141   \n",
       "9   0.509406      0.745977       0.770358    0.701506  0.505801  0.752813   \n",
       "10  0.506759      0.748633       0.772852    0.704863  0.499368  0.757129   \n",
       "11  0.509331      0.747539       0.723238    0.802670  0.495228  0.759141   \n",
       "12  0.501909      0.752461       0.758340    0.741706  0.489635  0.762393   \n",
       "13  0.500896      0.753945       0.775279    0.715791  0.485174  0.764863   \n",
       "14  0.501726      0.752344       0.779912    0.703692  0.481248  0.769619   \n",
       "15  0.498372      0.755234       0.761027    0.744751  0.476927  0.771924   \n",
       "16  0.510220      0.747109       0.805810    0.651706  0.471923  0.774541   \n",
       "17  0.496885      0.756250       0.768533    0.733979  0.469356  0.776357   \n",
       "18  0.553158      0.725898       0.671847    0.884084  0.465531  0.777959   \n",
       "19  0.528920      0.737070       0.822512    0.605183  0.461080  0.780947   \n",
       "20  0.502237      0.752305       0.796083    0.678948  0.458218  0.783018   \n",
       "21  0.500012      0.758789       0.749062    0.778940  0.454397  0.785186   \n",
       "22  0.498225      0.758242       0.774316    0.729529  0.451511  0.786260   \n",
       "23  0.498313      0.758789       0.762749    0.751854  0.448992  0.788213   \n",
       "24  0.499579      0.756875       0.779608    0.716806  0.445277  0.789932   \n",
       "25  0.498667      0.756602       0.771050    0.730544  0.441232  0.793154   \n",
       "26  0.522021      0.739023       0.823585    0.608930  0.440024  0.792637   \n",
       "27  0.517056      0.745078       0.816497    0.632816  0.437314  0.795771   \n",
       "28  0.536922      0.736797       0.827810    0.598548  0.432345  0.797168   \n",
       "29  0.498678      0.757070       0.753538    0.764655  0.429813  0.799805   \n",
       "30  0.507985      0.751992       0.798724    0.674342  0.428205  0.800049   \n",
       "31  0.500575      0.757031       0.754577    0.762470  0.424519  0.802744   \n",
       "32  0.526002      0.740586       0.815569    0.622356  0.423406  0.802822   \n",
       "\n",
       "    precision    recall  \n",
       "0    0.603507  0.582521  \n",
       "1    0.676415  0.684547  \n",
       "2    0.702159  0.706180  \n",
       "3    0.714575  0.712123  \n",
       "4    0.725708  0.719517  \n",
       "5    0.733729  0.723439  \n",
       "6    0.740751  0.730814  \n",
       "7    0.746368  0.732461  \n",
       "8    0.752581  0.739208  \n",
       "9    0.756642  0.742307  \n",
       "10   0.761615  0.745602  \n",
       "11   0.764314  0.746445  \n",
       "12   0.767921  0.749230  \n",
       "13   0.769624  0.753231  \n",
       "14   0.774168  0.758605  \n",
       "15   0.776375  0.761194  \n",
       "16   0.779190  0.763587  \n",
       "17   0.781954  0.763842  \n",
       "18   0.782432  0.767470  \n",
       "19   0.785869  0.769824  \n",
       "20   0.788049  0.771805  \n",
       "21   0.790679  0.773295  \n",
       "22   0.791291  0.775198  \n",
       "23   0.794650  0.774903  \n",
       "24   0.795469  0.778198  \n",
       "25   0.799161  0.780807  \n",
       "26   0.799007  0.779669  \n",
       "27   0.801222  0.784455  \n",
       "28   0.803670  0.784220  \n",
       "29   0.805377  0.788476  \n",
       "30   0.807283  0.786083  \n",
       "31   0.809179  0.790182  \n",
       "32   0.809097  0.790515  "
      ]
     },
     "execution_count": 17,
     "metadata": {},
     "output_type": "execute_result"
    }
   ],
   "source": [
    "metrics = pd.DataFrame(history.history)\n",
    "metrics"
   ]
  },
  {
   "cell_type": "code",
   "execution_count": 18,
   "id": "89a520bb",
   "metadata": {},
   "outputs": [
    {
     "name": "stdout",
     "output_type": "stream",
     "text": [
      "Best training loss: 0.46935555012896657\n",
      "Best training accuracy: 0.7763574123382568\n",
      "Best training precision: 0.7819539904594421\n",
      "Best training recall: 0.7638417482376099\n",
      "---------------------------------------------\n",
      "Best validation loss: 0.4968848920613527\n",
      "Best validation accuracy: 0.7562500238418579\n",
      "Best validation precision: 0.7685328722000122\n",
      "Best validation recall: 0.7339786291122437\n"
     ]
    }
   ],
   "source": [
    "print(f'Best training loss: {metrics.sort_values(by=\"val_loss\", ascending=True).iloc[0,4]}')\n",
    "print(f'Best training accuracy: {metrics.sort_values(by=\"val_loss\", ascending=True).iloc[0,5]}')\n",
    "print(f'Best training precision: {metrics.sort_values(by=\"val_loss\", ascending=True).iloc[0,6]}')\n",
    "print(f'Best training recall: {metrics.sort_values(by=\"val_loss\", ascending=True).iloc[0,7]}')\n",
    "print('---------------------------------------------')\n",
    "print(f'Best validation loss: {metrics.sort_values(by=\"val_loss\", ascending=True).iloc[0,0]}')\n",
    "print(f'Best validation accuracy: {metrics.sort_values(by=\"val_loss\", ascending=True).iloc[0,1]}')\n",
    "print(f'Best validation precision: {metrics.sort_values(by=\"val_loss\", ascending=True).iloc[0,2]}')\n",
    "print(f'Best validation recall: {metrics.sort_values(by=\"val_loss\", ascending=True).iloc[0,3]}')"
   ]
  },
  {
   "cell_type": "code",
   "execution_count": 19,
   "id": "described-contest",
   "metadata": {
    "colab": {
     "base_uri": "https://localhost:8080/",
     "height": 282
    },
    "executionInfo": {
     "elapsed": 4479347,
     "status": "ok",
     "timestamp": 1617566671836,
     "user": {
      "displayName": "Andrés Zapata",
      "photoUrl": "https://lh3.googleusercontent.com/a-/AOh14Gj-eJhEQrYm7yW30WK1klNB5crOpPy_c1vJREkLCJs=s64",
      "userId": "15045990832920962230"
     },
     "user_tz": -120
    },
    "id": "southeast-ownership",
    "outputId": "a50a7ce7-8c59-4174-cb60-764561669285"
   },
   "outputs": [
    {
     "data": {
      "image/png": "[encoded data removed]",
      "text/plain": [
       "<Figure size 576x396 with 1 Axes>"
      ]
     },
     "metadata": {},
     "output_type": "display_data"
    }
   ],
   "source": [
    "metrics[['accuracy','val_accuracy']].plot()\n",
    "plt.savefig('../figures/cnn_glove50_acc.jpg', dpi=300)"
   ]
  },
  {
   "cell_type": "code",
   "execution_count": 20,
   "id": "civilian-walnut",
   "metadata": {
    "colab": {
     "base_uri": "https://localhost:8080/",
     "height": 282
    },
    "executionInfo": {
     "elapsed": 4478567,
     "status": "ok",
     "timestamp": 1617566671837,
     "user": {
      "displayName": "Andrés Zapata",
      "photoUrl": "https://lh3.googleusercontent.com/a-/AOh14Gj-eJhEQrYm7yW30WK1klNB5crOpPy_c1vJREkLCJs=s64",
      "userId": "15045990832920962230"
     },
     "user_tz": -120
    },
    "id": "national-missouri",
    "outputId": "482f886d-f45a-4bc8-89ce-4f6c749a2e2c",
    "scrolled": true
   },
   "outputs": [
    {
     "data": {
      "image/png": "[encoded data removed]",
      "text/plain": [
       "<Figure size 576x396 with 1 Axes>"
      ]
     },
     "metadata": {},
     "output_type": "display_data"
    }
   ],
   "source": [
    "metrics[['loss','val_loss']].plot()\n",
    "plt.savefig('../figures/cnn_glove50_loss.jpg', dpi=300)"
   ]
  },
  {
   "cell_type": "code",
   "execution_count": 21,
   "id": "dramatic-canal",
   "metadata": {
    "colab": {
     "base_uri": "https://localhost:8080/"
    },
    "executionInfo": {
     "elapsed": 4480377,
     "status": "ok",
     "timestamp": 1617566671176,
     "user": {
      "displayName": "Andrés Zapata",
      "photoUrl": "https://lh3.googleusercontent.com/a-/AOh14Gj-eJhEQrYm7yW30WK1klNB5crOpPy_c1vJREkLCJs=s64",
      "userId": "15045990832920962230"
     },
     "user_tz": -120
    },
    "id": "numeric-decrease",
    "outputId": "ffc99ab9-e26a-41f7-cbc2-35da1b8045d7",
    "scrolled": true
   },
   "outputs": [
    {
     "name": "stdout",
     "output_type": "stream",
     "text": [
      "32000/32000 [==============================] - 1s 38us/step\n"
     ]
    }
   ],
   "source": [
    "# Evaluation on test set\n",
    "test_loss, test_accuracy, test_precision, test_recall = model.evaluate(X_test, y_test)"
   ]
  },
  {
   "cell_type": "code",
   "execution_count": 22,
   "id": "de4b4829",
   "metadata": {
    "scrolled": true
   },
   "outputs": [
    {
     "name": "stdout",
     "output_type": "stream",
     "text": [
      "Test loss: 0.49952391082048414\n",
      "Test accuracy: 0.753531277179718\n",
      "Test precision: 0.7654238939285278\n",
      "Test recall: 0.7261627316474915\n"
     ]
    }
   ],
   "source": [
    "print(f'Test loss: {test_loss}')\n",
    "print(f'Test accuracy: {test_accuracy}')\n",
    "print(f'Test precision: {test_precision}')\n",
    "print(f'Test recall: {test_recall}')"
   ]
  },
  {
   "cell_type": "code",
   "execution_count": 23,
   "id": "64189192",
   "metadata": {},
   "outputs": [],
   "source": [
    "model.save('../models/cnn_glove50.h5')"
   ]
  }
 ],
 "metadata": {
  "accelerator": "GPU",
  "colab": {
   "collapsed_sections": [],
   "name": "03b-sentiment140_classification_bin.ipynb",
   "provenance": []
  },
  "kernelspec": {
   "display_name": "Python 3",
   "language": "python",
   "name": "python3"
  },
  "language_info": {
   "codemirror_mode": {
    "name": "ipython",
    "version": 3
   },
   "file_extension": ".py",
   "mimetype": "text/x-python",
   "name": "python",
   "nbconvert_exporter": "python",
   "pygments_lexer": "ipython3",
   "version": "3.6.13"
  }
 },
 "nbformat": 4,
 "nbformat_minor": 5
}
