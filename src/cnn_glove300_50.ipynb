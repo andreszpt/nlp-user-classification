{
 "cells": [
  {
   "cell_type": "code",
   "execution_count": 1,
   "id": "informal-connecticut",
   "metadata": {
    "executionInfo": {
     "elapsed": 850,
     "status": "ok",
     "timestamp": 1617559922784,
     "user": {
      "displayName": "Andrés Zapata",
      "photoUrl": "https://lh3.googleusercontent.com/a-/AOh14Gj-eJhEQrYm7yW30WK1klNB5crOpPy_c1vJREkLCJs=s64",
      "userId": "15045990832920962230"
     },
     "user_tz": -120
    },
    "id": "ruled-friendship",
    "scrolled": true
   },
   "outputs": [
    {
     "name": "stderr",
     "output_type": "stream",
     "text": [
      "Using TensorFlow backend.\n"
     ]
    }
   ],
   "source": [
    "from nlp_functions import *\n",
    "sess = tf.Session()"
   ]
  },
  {
   "cell_type": "code",
   "execution_count": 2,
   "id": "079d4b0a",
   "metadata": {},
   "outputs": [],
   "source": [
    "plt.style.use('seaborn')"
   ]
  },
  {
   "cell_type": "code",
   "execution_count": 3,
   "id": "comic-letter",
   "metadata": {
    "executionInfo": {
     "elapsed": 5072,
     "status": "ok",
     "timestamp": 1617559927350,
     "user": {
      "displayName": "Andrés Zapata",
      "photoUrl": "https://lh3.googleusercontent.com/a-/AOh14Gj-eJhEQrYm7yW30WK1klNB5crOpPy_c1vJREkLCJs=s64",
      "userId": "15045990832920962230"
     },
     "user_tz": -120
    },
    "id": "considered-vatican",
    "scrolled": true
   },
   "outputs": [],
   "source": [
    "# Importing our data\n",
    "sentiment140 = read_sentiment_file(DATA_DIRECTORY, 'sentiment140_train.csv')"
   ]
  },
  {
   "cell_type": "code",
   "execution_count": 4,
   "id": "27fffe73",
   "metadata": {},
   "outputs": [],
   "source": [
    "# Sampling 50% the data\n",
    "sentiment140 = sentiment140.sample(frac=0.5, random_state=7)"
   ]
  },
  {
   "cell_type": "code",
   "execution_count": 5,
   "id": "intense-husband",
   "metadata": {},
   "outputs": [],
   "source": [
    "# Separating into characteristics and labels\n",
    "X = sentiment140['text']\n",
    "y = sentiment140['polarity']"
   ]
  },
  {
   "cell_type": "code",
   "execution_count": 6,
   "id": "nasty-singapore",
   "metadata": {
    "executionInfo": {
     "elapsed": 12549,
     "status": "ok",
     "timestamp": 1617559935126,
     "user": {
      "displayName": "Andrés Zapata",
      "photoUrl": "https://lh3.googleusercontent.com/a-/AOh14Gj-eJhEQrYm7yW30WK1klNB5crOpPy_c1vJREkLCJs=s64",
      "userId": "15045990832920962230"
     },
     "user_tz": -120
    },
    "id": "4865xfI-E1sN"
   },
   "outputs": [],
   "source": [
    "# Cleaning the texts\n",
    "X = clean_data(X)"
   ]
  },
  {
   "cell_type": "code",
   "execution_count": 7,
   "id": "meaning-flood",
   "metadata": {
    "executionInfo": {
     "elapsed": 12384,
     "status": "ok",
     "timestamp": 1617559935127,
     "user": {
      "displayName": "Andrés Zapata",
      "photoUrl": "https://lh3.googleusercontent.com/a-/AOh14Gj-eJhEQrYm7yW30WK1klNB5crOpPy_c1vJREkLCJs=s64",
      "userId": "15045990832920962230"
     },
     "user_tz": -120
    },
    "id": "recreational-vampire"
   },
   "outputs": [],
   "source": [
    "# Mapping for easier classificacion\n",
    "y = y.map({0: int(0), 4: int(1)})"
   ]
  },
  {
   "cell_type": "code",
   "execution_count": 8,
   "id": "solid-commission",
   "metadata": {
    "executionInfo": {
     "elapsed": 12740,
     "status": "ok",
     "timestamp": 1617559935899,
     "user": {
      "displayName": "Andrés Zapata",
      "photoUrl": "https://lh3.googleusercontent.com/a-/AOh14Gj-eJhEQrYm7yW30WK1klNB5crOpPy_c1vJREkLCJs=s64",
      "userId": "15045990832920962230"
     },
     "user_tz": -120
    },
    "id": "mathematical-secretary"
   },
   "outputs": [],
   "source": [
    "# Split the data to train and test, then train and val\n",
    "X_train, X_test, y_train, y_test = train_test_split(X, y, test_size=0.2, random_state=7)\n",
    "X_train, X_val, y_train, y_val = train_test_split(X_train, y_train, test_size=0.2, random_state=7)"
   ]
  },
  {
   "cell_type": "code",
   "execution_count": 9,
   "id": "olympic-depression",
   "metadata": {
    "colab": {
     "base_uri": "https://localhost:8080/"
    },
    "executionInfo": {
     "elapsed": 59155,
     "status": "ok",
     "timestamp": 1617559983416,
     "user": {
      "displayName": "Andrés Zapata",
      "photoUrl": "https://lh3.googleusercontent.com/a-/AOh14Gj-eJhEQrYm7yW30WK1klNB5crOpPy_c1vJREkLCJs=s64",
      "userId": "15045990832920962230"
     },
     "user_tz": -120
    },
    "id": "complete-container",
    "outputId": "b64300df-0d3b-46ad-90b9-196a6ee7ff3c"
   },
   "outputs": [],
   "source": [
    "# Tokenizing the data\n",
    "tk, word_index, vocab_size = tokenize(X_train, X_val, X_test)"
   ]
  },
  {
   "cell_type": "code",
   "execution_count": 10,
   "id": "constitutional-handbook",
   "metadata": {},
   "outputs": [],
   "source": [
    "# Each sentence is converted into an array of integers\n",
    "X_train = tk.texts_to_sequences(X_train)\n",
    "X_val = tk.texts_to_sequences(X_val)\n",
    "X_test = tk.texts_to_sequences(X_test)"
   ]
  },
  {
   "cell_type": "code",
   "execution_count": 11,
   "id": "french-vaccine",
   "metadata": {
    "colab": {
     "base_uri": "https://localhost:8080/"
    },
    "executionInfo": {
     "elapsed": 54510,
     "status": "ok",
     "timestamp": 1617559983815,
     "user": {
      "displayName": "Andrés Zapata",
      "photoUrl": "https://lh3.googleusercontent.com/a-/AOh14Gj-eJhEQrYm7yW30WK1klNB5crOpPy_c1vJREkLCJs=s64",
      "userId": "15045990832920962230"
     },
     "user_tz": -120
    },
    "id": "indian-mouth",
    "outputId": "469d3984-1e9e-4c7f-b8d1-cc0373be277b",
    "scrolled": false
   },
   "outputs": [],
   "source": [
    "# Calculation of maximum length to adjust the padding\n",
    "maxlen = longest_sentence(X_train, X_val, X_test)"
   ]
  },
  {
   "cell_type": "code",
   "execution_count": 12,
   "id": "retained-review",
   "metadata": {
    "executionInfo": {
     "elapsed": 63747,
     "status": "ok",
     "timestamp": 1617559993517,
     "user": {
      "displayName": "Andrés Zapata",
      "photoUrl": "https://lh3.googleusercontent.com/a-/AOh14Gj-eJhEQrYm7yW30WK1klNB5crOpPy_c1vJREkLCJs=s64",
      "userId": "15045990832920962230"
     },
     "user_tz": -120
    },
    "id": "juvenile-telling"
   },
   "outputs": [],
   "source": [
    "# Padding is applied to get the same dimension\n",
    "X_train = pad_sequences(X_train, padding='post', maxlen=maxlen)\n",
    "X_val = pad_sequences(X_val, padding='post', maxlen=maxlen)\n",
    "X_test = pad_sequences(X_test, padding='post', maxlen=maxlen)"
   ]
  },
  {
   "cell_type": "code",
   "execution_count": 13,
   "id": "colonial-welcome",
   "metadata": {
    "executionInfo": {
     "elapsed": 68698,
     "status": "ok",
     "timestamp": 1617560002297,
     "user": {
      "displayName": "Andrés Zapata",
      "photoUrl": "https://lh3.googleusercontent.com/a-/AOh14Gj-eJhEQrYm7yW30WK1klNB5crOpPy_c1vJREkLCJs=s64",
      "userId": "15045990832920962230"
     },
     "user_tz": -120
    },
    "id": "prompt-tenant",
    "scrolled": true
   },
   "outputs": [],
   "source": [
    "# Creating the embedding matrix based on dimension and vocabulary of our texts\n",
    "EMBEDDING_DIM = 300\n",
    "embedding_matrix = create_embedding_matrix(vocab_size, EMBEDDING_DIM, word_index)"
   ]
  },
  {
   "cell_type": "code",
   "execution_count": 14,
   "id": "comic-death",
   "metadata": {
    "colab": {
     "base_uri": "https://localhost:8080/"
    },
    "executionInfo": {
     "elapsed": 68233,
     "status": "ok",
     "timestamp": 1617560002298,
     "user": {
      "displayName": "Andrés Zapata",
      "photoUrl": "https://lh3.googleusercontent.com/a-/AOh14Gj-eJhEQrYm7yW30WK1klNB5crOpPy_c1vJREkLCJs=s64",
      "userId": "15045990832920962230"
     },
     "user_tz": -120
    },
    "id": "future-management",
    "outputId": "9afbe6f9-6b3f-4b85-8703-ca37239367ae",
    "scrolled": true
   },
   "outputs": [
    {
     "name": "stdout",
     "output_type": "stream",
     "text": [
      "Using GloVe (Wiki database)\n"
     ]
    },
    {
     "data": {
      "text/plain": [
       "0.47543481020693157"
      ]
     },
     "execution_count": 14,
     "metadata": {},
     "output_type": "execute_result"
    }
   ],
   "source": [
    "# Check the ratio of words in our texts are included in the embedding_matrix\n",
    "print('Using GloVe (Wiki database)')\n",
    "nonzero_elements = np.count_nonzero(np.count_nonzero(embedding_matrix, axis=1))\n",
    "nonzero_elements / vocab_size"
   ]
  },
  {
   "cell_type": "code",
   "execution_count": 15,
   "id": "tutorial-sending",
   "metadata": {
    "colab": {
     "base_uri": "https://localhost:8080/"
    },
    "executionInfo": {
     "elapsed": 5954,
     "status": "ok",
     "timestamp": 1617560015161,
     "user": {
      "displayName": "Andrés Zapata",
      "photoUrl": "https://lh3.googleusercontent.com/a-/AOh14Gj-eJhEQrYm7yW30WK1klNB5crOpPy_c1vJREkLCJs=s64",
      "userId": "15045990832920962230"
     },
     "user_tz": -120
    },
    "id": "robust-utilization",
    "outputId": "b21a8bab-802e-4eca-f558-e53ae22667fa",
    "scrolled": false
   },
   "outputs": [
    {
     "name": "stdout",
     "output_type": "stream",
     "text": [
      "WARNING:tensorflow:From /home/andres/anaconda3/envs/gpu/lib/python3.6/site-packages/tensorflow_core/python/ops/resource_variable_ops.py:1630: calling BaseResourceVariable.__init__ (from tensorflow.python.ops.resource_variable_ops) with constraint is deprecated and will be removed in a future version.\n",
      "Instructions for updating:\n",
      "If using Keras pass *_constraint arguments to layers.\n",
      "WARNING:tensorflow:From /home/andres/anaconda3/envs/gpu/lib/python3.6/site-packages/keras/backend/tensorflow_backend.py:3172: where (from tensorflow.python.ops.array_ops) is deprecated and will be removed in a future version.\n",
      "Instructions for updating:\n",
      "Use tf.where in 2.0, which has the same broadcast rule as np.where\n",
      "Model: \"sequential_1\"\n",
      "_________________________________________________________________\n",
      "Layer (type)                 Output Shape              Param #   \n",
      "=================================================================\n",
      "embedding_1 (Embedding)      (None, 50, 300)           40172700  \n",
      "_________________________________________________________________\n",
      "conv1d_1 (Conv1D)            (None, 48, 250)           225250    \n",
      "_________________________________________________________________\n",
      "global_max_pooling1d_1 (Glob (None, 250)               0         \n",
      "_________________________________________________________________\n",
      "dense_1 (Dense)              (None, 100)               25100     \n",
      "_________________________________________________________________\n",
      "dropout_1 (Dropout)          (None, 100)               0         \n",
      "_________________________________________________________________\n",
      "dense_2 (Dense)              (None, 1)                 101       \n",
      "=================================================================\n",
      "Total params: 40,423,151\n",
      "Trainable params: 250,451\n",
      "Non-trainable params: 40,172,700\n",
      "_________________________________________________________________\n"
     ]
    }
   ],
   "source": [
    "# Architecture for CNN + GloVe model\n",
    "model = Sequential()\n",
    "model.add(Embedding(\n",
    "    input_dim=vocab_size,\n",
    "    output_dim=EMBEDDING_DIM,\n",
    "    weights=[embedding_matrix],\n",
    "    input_length=maxlen,\n",
    "    trainable=False))\n",
    "model.add(Conv1D(\n",
    "    filters=250,\n",
    "    kernel_size=3,\n",
    "    activation='relu'))\n",
    "model.add(GlobalMaxPooling1D())\n",
    "model.add(Dense(100, activation='relu'))\n",
    "model.add(Dropout(0.5))\n",
    "model.add(Dense(1, activation='sigmoid'))\n",
    "model.compile(\n",
    "    optimizer='sgd',\n",
    "    loss='binary_crossentropy',\n",
    "    metrics=['accuracy', metrics.Precision(name='precision'), metrics.Recall(name='recall')])\n",
    "model.summary()"
   ]
  },
  {
   "cell_type": "code",
   "execution_count": 16,
   "id": "74a9e9ad",
   "metadata": {},
   "outputs": [
    {
     "name": "stdout",
     "output_type": "stream",
     "text": [
      "WARNING:tensorflow:From /home/andres/anaconda3/envs/gpu/lib/python3.6/site-packages/keras/backend/tensorflow_backend.py:422: The name tf.global_variables is deprecated. Please use tf.compat.v1.global_variables instead.\n",
      "\n",
      "Train on 512000 samples, validate on 128000 samples\n",
      "Epoch 1/100\n",
      "512000/512000 [==============================] - 43s 84us/step - loss: 0.5468 - accuracy: 0.7191 - precision: 0.7236 - recall: 0.7085 - val_loss: 0.4962 - val_accuracy: 0.7570 - val_precision: 0.7201 - val_recall: 0.8409\n",
      "Epoch 2/100\n",
      "512000/512000 [==============================] - 42s 82us/step - loss: 0.4798 - accuracy: 0.7714 - precision: 0.7781 - recall: 0.7590 - val_loss: 0.4589 - val_accuracy: 0.7822 - val_precision: 0.7945 - val_recall: 0.7616\n",
      "Epoch 3/100\n",
      "512000/512000 [==============================] - 42s 83us/step - loss: 0.4580 - accuracy: 0.7854 - precision: 0.7922 - recall: 0.7736 - val_loss: 0.4480 - val_accuracy: 0.7899 - val_precision: 0.7936 - val_recall: 0.7837\n",
      "Epoch 4/100\n",
      "512000/512000 [==============================] - 42s 83us/step - loss: 0.4429 - accuracy: 0.7947 - precision: 0.8022 - recall: 0.7820 - val_loss: 0.4436 - val_accuracy: 0.7913 - val_precision: 0.8247 - val_recall: 0.7400\n",
      "Epoch 5/100\n",
      "512000/512000 [==============================] - 42s 83us/step - loss: 0.4313 - accuracy: 0.8015 - precision: 0.8086 - recall: 0.7898 - val_loss: 0.4356 - val_accuracy: 0.7962 - val_precision: 0.7962 - val_recall: 0.7964\n",
      "Epoch 6/100\n",
      "512000/512000 [==============================] - 42s 83us/step - loss: 0.4204 - accuracy: 0.8073 - precision: 0.8143 - recall: 0.7960 - val_loss: 0.4323 - val_accuracy: 0.7975 - val_precision: 0.7936 - val_recall: 0.8044\n",
      "Epoch 7/100\n",
      "512000/512000 [==============================] - 42s 83us/step - loss: 0.4112 - accuracy: 0.8126 - precision: 0.8198 - recall: 0.8012 - val_loss: 0.4304 - val_accuracy: 0.7995 - val_precision: 0.8121 - val_recall: 0.7794\n",
      "Epoch 8/100\n",
      "512000/512000 [==============================] - 42s 83us/step - loss: 0.4022 - accuracy: 0.8166 - precision: 0.8234 - recall: 0.8059 - val_loss: 0.4271 - val_accuracy: 0.8016 - val_precision: 0.8097 - val_recall: 0.7889\n",
      "Epoch 9/100\n",
      "512000/512000 [==============================] - 42s 83us/step - loss: 0.3947 - accuracy: 0.8212 - precision: 0.8281 - recall: 0.8105 - val_loss: 0.4273 - val_accuracy: 0.8010 - val_precision: 0.8013 - val_recall: 0.8006\n",
      "Epoch 10/100\n",
      "512000/512000 [==============================] - 42s 83us/step - loss: 0.3867 - accuracy: 0.8253 - precision: 0.8323 - recall: 0.8147 - val_loss: 0.4273 - val_accuracy: 0.8015 - val_precision: 0.8072 - val_recall: 0.7925\n",
      "Epoch 11/100\n",
      "512000/512000 [==============================] - 42s 83us/step - loss: 0.3793 - accuracy: 0.8290 - precision: 0.8362 - recall: 0.8181 - val_loss: 0.4317 - val_accuracy: 0.7999 - val_precision: 0.8218 - val_recall: 0.7661\n",
      "Epoch 12/100\n",
      "512000/512000 [==============================] - 43s 83us/step - loss: 0.3722 - accuracy: 0.8327 - precision: 0.8394 - recall: 0.8227 - val_loss: 0.4456 - val_accuracy: 0.7955 - val_precision: 0.8459 - val_recall: 0.7227\n",
      "Epoch 13/100\n",
      "512000/512000 [==============================] - 42s 83us/step - loss: 0.3654 - accuracy: 0.8357 - precision: 0.8422 - recall: 0.8260 - val_loss: 0.4487 - val_accuracy: 0.7919 - val_precision: 0.8493 - val_recall: 0.7098\n",
      "Epoch 14/100\n",
      "512000/512000 [==============================] - 42s 83us/step - loss: 0.3585 - accuracy: 0.8393 - precision: 0.8455 - recall: 0.8300 - val_loss: 0.4402 - val_accuracy: 0.7984 - val_precision: 0.7858 - val_recall: 0.8207\n",
      "Epoch 15/100\n",
      "512000/512000 [==============================] - 42s 82us/step - loss: 0.3524 - accuracy: 0.8419 - precision: 0.8479 - recall: 0.8331 - val_loss: 0.4405 - val_accuracy: 0.7996 - val_precision: 0.7901 - val_recall: 0.8161\n",
      "Epoch 16/100\n",
      "512000/512000 [==============================] - 42s 83us/step - loss: 0.3461 - accuracy: 0.8455 - precision: 0.8512 - recall: 0.8373 - val_loss: 0.4499 - val_accuracy: 0.7974 - val_precision: 0.7813 - val_recall: 0.8261\n",
      "Epoch 17/100\n",
      "512000/512000 [==============================] - 42s 83us/step - loss: 0.3403 - accuracy: 0.8474 - precision: 0.8533 - recall: 0.8391 - val_loss: 0.4748 - val_accuracy: 0.7966 - val_precision: 0.8306 - val_recall: 0.7453\n",
      "Epoch 18/100\n",
      "512000/512000 [==============================] - 42s 83us/step - loss: 0.3344 - accuracy: 0.8506 - precision: 0.8564 - recall: 0.8424 - val_loss: 0.4647 - val_accuracy: 0.7956 - val_precision: 0.8338 - val_recall: 0.7386\n",
      "Epoch 19/100\n",
      "512000/512000 [==============================] - 42s 83us/step - loss: 0.3286 - accuracy: 0.8526 - precision: 0.8585 - recall: 0.8443 - val_loss: 0.4959 - val_accuracy: 0.7865 - val_precision: 0.7476 - val_recall: 0.8654\n",
      "Epoch 20/100\n",
      "512000/512000 [==============================] - 42s 83us/step - loss: 0.3234 - accuracy: 0.8549 - precision: 0.8601 - recall: 0.8475 - val_loss: 0.4797 - val_accuracy: 0.7928 - val_precision: 0.8289 - val_recall: 0.7382\n",
      "Epoch 21/100\n",
      "512000/512000 [==============================] - 42s 83us/step - loss: 0.3184 - accuracy: 0.8573 - precision: 0.8621 - recall: 0.8507 - val_loss: 0.4862 - val_accuracy: 0.7956 - val_precision: 0.7821 - val_recall: 0.8198\n",
      "Epoch 22/100\n",
      "512000/512000 [==============================] - 42s 83us/step - loss: 0.3132 - accuracy: 0.8596 - precision: 0.8650 - recall: 0.8522 - val_loss: 0.4700 - val_accuracy: 0.7976 - val_precision: 0.7910 - val_recall: 0.8091\n",
      "Epoch 23/100\n",
      "512000/512000 [==============================] - 42s 83us/step - loss: 0.3083 - accuracy: 0.8617 - precision: 0.8669 - recall: 0.8544 - val_loss: 0.4969 - val_accuracy: 0.7935 - val_precision: 0.8199 - val_recall: 0.7523\n"
     ]
    }
   ],
   "source": [
    "# Training and validation for CNN + GloVe model\n",
    "early_stopping = keras.callbacks.EarlyStopping(\n",
    "    monitor='val_loss',\n",
    "    patience=15,\n",
    "    restore_best_weights=True)\n",
    "history = model.fit(\n",
    "    X_train,\n",
    "    y_train,\n",
    "    batch_size=64,\n",
    "    epochs=100,\n",
    "    validation_data=(X_val, y_val),\n",
    "    callbacks=[early_stopping])"
   ]
  },
  {
   "cell_type": "code",
   "execution_count": 17,
   "id": "south-excitement",
   "metadata": {
    "colab": {
     "base_uri": "https://localhost:8080/",
     "height": 857
    },
    "executionInfo": {
     "elapsed": 4479788,
     "status": "ok",
     "timestamp": 1617566671177,
     "user": {
      "displayName": "Andrés Zapata",
      "photoUrl": "https://lh3.googleusercontent.com/a-/AOh14Gj-eJhEQrYm7yW30WK1klNB5crOpPy_c1vJREkLCJs=s64",
      "userId": "15045990832920962230"
     },
     "user_tz": -120
    },
    "id": "literary-prairie",
    "outputId": "b7664122-ab46-4810-9196-e0d51b2cce21"
   },
   "outputs": [
    {
     "data": {
      "text/html": [
       "<div>\n",
       "<style scoped>\n",
       "    .dataframe tbody tr th:only-of-type {\n",
       "        vertical-align: middle;\n",
       "    }\n",
       "\n",
       "    .dataframe tbody tr th {\n",
       "        vertical-align: top;\n",
       "    }\n",
       "\n",
       "    .dataframe thead th {\n",
       "        text-align: right;\n",
       "    }\n",
       "</style>\n",
       "<table border=\"1\" class=\"dataframe\">\n",
       "  <thead>\n",
       "    <tr style=\"text-align: right;\">\n",
       "      <th></th>\n",
       "      <th>val_loss</th>\n",
       "      <th>val_accuracy</th>\n",
       "      <th>val_precision</th>\n",
       "      <th>val_recall</th>\n",
       "      <th>loss</th>\n",
       "      <th>accuracy</th>\n",
       "      <th>precision</th>\n",
       "      <th>recall</th>\n",
       "    </tr>\n",
       "  </thead>\n",
       "  <tbody>\n",
       "    <tr>\n",
       "      <th>0</th>\n",
       "      <td>0.496181</td>\n",
       "      <td>0.756992</td>\n",
       "      <td>0.720148</td>\n",
       "      <td>0.840945</td>\n",
       "      <td>0.546771</td>\n",
       "      <td>0.719055</td>\n",
       "      <td>0.723618</td>\n",
       "      <td>0.708507</td>\n",
       "    </tr>\n",
       "    <tr>\n",
       "      <th>1</th>\n",
       "      <td>0.458915</td>\n",
       "      <td>0.782234</td>\n",
       "      <td>0.794480</td>\n",
       "      <td>0.761644</td>\n",
       "      <td>0.479766</td>\n",
       "      <td>0.771369</td>\n",
       "      <td>0.778100</td>\n",
       "      <td>0.759026</td>\n",
       "    </tr>\n",
       "    <tr>\n",
       "      <th>2</th>\n",
       "      <td>0.448008</td>\n",
       "      <td>0.789875</td>\n",
       "      <td>0.793625</td>\n",
       "      <td>0.783684</td>\n",
       "      <td>0.458002</td>\n",
       "      <td>0.785438</td>\n",
       "      <td>0.792224</td>\n",
       "      <td>0.773606</td>\n",
       "    </tr>\n",
       "    <tr>\n",
       "      <th>3</th>\n",
       "      <td>0.443645</td>\n",
       "      <td>0.791281</td>\n",
       "      <td>0.824705</td>\n",
       "      <td>0.739996</td>\n",
       "      <td>0.442904</td>\n",
       "      <td>0.794650</td>\n",
       "      <td>0.802193</td>\n",
       "      <td>0.781964</td>\n",
       "    </tr>\n",
       "    <tr>\n",
       "      <th>4</th>\n",
       "      <td>0.435581</td>\n",
       "      <td>0.796195</td>\n",
       "      <td>0.796214</td>\n",
       "      <td>0.796351</td>\n",
       "      <td>0.431278</td>\n",
       "      <td>0.801494</td>\n",
       "      <td>0.808613</td>\n",
       "      <td>0.789764</td>\n",
       "    </tr>\n",
       "    <tr>\n",
       "      <th>5</th>\n",
       "      <td>0.432307</td>\n",
       "      <td>0.797547</td>\n",
       "      <td>0.793626</td>\n",
       "      <td>0.804411</td>\n",
       "      <td>0.420398</td>\n",
       "      <td>0.807332</td>\n",
       "      <td>0.814332</td>\n",
       "      <td>0.796009</td>\n",
       "    </tr>\n",
       "    <tr>\n",
       "      <th>6</th>\n",
       "      <td>0.430366</td>\n",
       "      <td>0.799484</td>\n",
       "      <td>0.812111</td>\n",
       "      <td>0.779435</td>\n",
       "      <td>0.411151</td>\n",
       "      <td>0.812576</td>\n",
       "      <td>0.819759</td>\n",
       "      <td>0.801163</td>\n",
       "    </tr>\n",
       "    <tr>\n",
       "      <th>7</th>\n",
       "      <td>0.427103</td>\n",
       "      <td>0.801641</td>\n",
       "      <td>0.809651</td>\n",
       "      <td>0.788885</td>\n",
       "      <td>0.402196</td>\n",
       "      <td>0.816641</td>\n",
       "      <td>0.823447</td>\n",
       "      <td>0.805942</td>\n",
       "    </tr>\n",
       "    <tr>\n",
       "      <th>8</th>\n",
       "      <td>0.427275</td>\n",
       "      <td>0.801000</td>\n",
       "      <td>0.801323</td>\n",
       "      <td>0.800647</td>\n",
       "      <td>0.394726</td>\n",
       "      <td>0.821219</td>\n",
       "      <td>0.828132</td>\n",
       "      <td>0.810514</td>\n",
       "    </tr>\n",
       "    <tr>\n",
       "      <th>9</th>\n",
       "      <td>0.427257</td>\n",
       "      <td>0.801539</td>\n",
       "      <td>0.807207</td>\n",
       "      <td>0.792493</td>\n",
       "      <td>0.386679</td>\n",
       "      <td>0.825338</td>\n",
       "      <td>0.832319</td>\n",
       "      <td>0.814668</td>\n",
       "    </tr>\n",
       "    <tr>\n",
       "      <th>10</th>\n",
       "      <td>0.431727</td>\n",
       "      <td>0.799937</td>\n",
       "      <td>0.821844</td>\n",
       "      <td>0.766080</td>\n",
       "      <td>0.379294</td>\n",
       "      <td>0.829002</td>\n",
       "      <td>0.836220</td>\n",
       "      <td>0.818107</td>\n",
       "    </tr>\n",
       "    <tr>\n",
       "      <th>11</th>\n",
       "      <td>0.445556</td>\n",
       "      <td>0.795484</td>\n",
       "      <td>0.845949</td>\n",
       "      <td>0.722720</td>\n",
       "      <td>0.372186</td>\n",
       "      <td>0.832734</td>\n",
       "      <td>0.839409</td>\n",
       "      <td>0.822745</td>\n",
       "    </tr>\n",
       "    <tr>\n",
       "      <th>12</th>\n",
       "      <td>0.448737</td>\n",
       "      <td>0.791859</td>\n",
       "      <td>0.849281</td>\n",
       "      <td>0.709834</td>\n",
       "      <td>0.365432</td>\n",
       "      <td>0.835668</td>\n",
       "      <td>0.842182</td>\n",
       "      <td>0.825997</td>\n",
       "    </tr>\n",
       "    <tr>\n",
       "      <th>13</th>\n",
       "      <td>0.440208</td>\n",
       "      <td>0.798445</td>\n",
       "      <td>0.785814</td>\n",
       "      <td>0.820733</td>\n",
       "      <td>0.358499</td>\n",
       "      <td>0.839258</td>\n",
       "      <td>0.845532</td>\n",
       "      <td>0.830029</td>\n",
       "    </tr>\n",
       "    <tr>\n",
       "      <th>14</th>\n",
       "      <td>0.440486</td>\n",
       "      <td>0.799594</td>\n",
       "      <td>0.790128</td>\n",
       "      <td>0.816094</td>\n",
       "      <td>0.352359</td>\n",
       "      <td>0.841889</td>\n",
       "      <td>0.847871</td>\n",
       "      <td>0.833144</td>\n",
       "    </tr>\n",
       "    <tr>\n",
       "      <th>15</th>\n",
       "      <td>0.449935</td>\n",
       "      <td>0.797383</td>\n",
       "      <td>0.781330</td>\n",
       "      <td>0.826107</td>\n",
       "      <td>0.346053</td>\n",
       "      <td>0.845529</td>\n",
       "      <td>0.851175</td>\n",
       "      <td>0.837349</td>\n",
       "    </tr>\n",
       "    <tr>\n",
       "      <th>16</th>\n",
       "      <td>0.474794</td>\n",
       "      <td>0.796586</td>\n",
       "      <td>0.830644</td>\n",
       "      <td>0.745259</td>\n",
       "      <td>0.340347</td>\n",
       "      <td>0.847436</td>\n",
       "      <td>0.853251</td>\n",
       "      <td>0.839064</td>\n",
       "    </tr>\n",
       "    <tr>\n",
       "      <th>17</th>\n",
       "      <td>0.464662</td>\n",
       "      <td>0.795648</td>\n",
       "      <td>0.833842</td>\n",
       "      <td>0.738621</td>\n",
       "      <td>0.334414</td>\n",
       "      <td>0.850594</td>\n",
       "      <td>0.856352</td>\n",
       "      <td>0.842378</td>\n",
       "    </tr>\n",
       "    <tr>\n",
       "      <th>18</th>\n",
       "      <td>0.495878</td>\n",
       "      <td>0.786547</td>\n",
       "      <td>0.747612</td>\n",
       "      <td>0.865390</td>\n",
       "      <td>0.328645</td>\n",
       "      <td>0.852646</td>\n",
       "      <td>0.858544</td>\n",
       "      <td>0.844289</td>\n",
       "    </tr>\n",
       "    <tr>\n",
       "      <th>19</th>\n",
       "      <td>0.479665</td>\n",
       "      <td>0.792828</td>\n",
       "      <td>0.828902</td>\n",
       "      <td>0.738168</td>\n",
       "      <td>0.323385</td>\n",
       "      <td>0.854885</td>\n",
       "      <td>0.860117</td>\n",
       "      <td>0.847489</td>\n",
       "    </tr>\n",
       "    <tr>\n",
       "      <th>20</th>\n",
       "      <td>0.486247</td>\n",
       "      <td>0.795617</td>\n",
       "      <td>0.782086</td>\n",
       "      <td>0.819796</td>\n",
       "      <td>0.318403</td>\n",
       "      <td>0.857324</td>\n",
       "      <td>0.862061</td>\n",
       "      <td>0.850654</td>\n",
       "    </tr>\n",
       "    <tr>\n",
       "      <th>21</th>\n",
       "      <td>0.470020</td>\n",
       "      <td>0.797570</td>\n",
       "      <td>0.790990</td>\n",
       "      <td>0.809066</td>\n",
       "      <td>0.313195</td>\n",
       "      <td>0.859648</td>\n",
       "      <td>0.865004</td>\n",
       "      <td>0.852186</td>\n",
       "    </tr>\n",
       "    <tr>\n",
       "      <th>22</th>\n",
       "      <td>0.496890</td>\n",
       "      <td>0.793469</td>\n",
       "      <td>0.819946</td>\n",
       "      <td>0.752273</td>\n",
       "      <td>0.308259</td>\n",
       "      <td>0.861678</td>\n",
       "      <td>0.866932</td>\n",
       "      <td>0.854394</td>\n",
       "    </tr>\n",
       "  </tbody>\n",
       "</table>\n",
       "</div>"
      ],
      "text/plain": [
       "    val_loss  val_accuracy  val_precision  val_recall      loss  accuracy  \\\n",
       "0   0.496181      0.756992       0.720148    0.840945  0.546771  0.719055   \n",
       "1   0.458915      0.782234       0.794480    0.761644  0.479766  0.771369   \n",
       "2   0.448008      0.789875       0.793625    0.783684  0.458002  0.785438   \n",
       "3   0.443645      0.791281       0.824705    0.739996  0.442904  0.794650   \n",
       "4   0.435581      0.796195       0.796214    0.796351  0.431278  0.801494   \n",
       "5   0.432307      0.797547       0.793626    0.804411  0.420398  0.807332   \n",
       "6   0.430366      0.799484       0.812111    0.779435  0.411151  0.812576   \n",
       "7   0.427103      0.801641       0.809651    0.788885  0.402196  0.816641   \n",
       "8   0.427275      0.801000       0.801323    0.800647  0.394726  0.821219   \n",
       "9   0.427257      0.801539       0.807207    0.792493  0.386679  0.825338   \n",
       "10  0.431727      0.799937       0.821844    0.766080  0.379294  0.829002   \n",
       "11  0.445556      0.795484       0.845949    0.722720  0.372186  0.832734   \n",
       "12  0.448737      0.791859       0.849281    0.709834  0.365432  0.835668   \n",
       "13  0.440208      0.798445       0.785814    0.820733  0.358499  0.839258   \n",
       "14  0.440486      0.799594       0.790128    0.816094  0.352359  0.841889   \n",
       "15  0.449935      0.797383       0.781330    0.826107  0.346053  0.845529   \n",
       "16  0.474794      0.796586       0.830644    0.745259  0.340347  0.847436   \n",
       "17  0.464662      0.795648       0.833842    0.738621  0.334414  0.850594   \n",
       "18  0.495878      0.786547       0.747612    0.865390  0.328645  0.852646   \n",
       "19  0.479665      0.792828       0.828902    0.738168  0.323385  0.854885   \n",
       "20  0.486247      0.795617       0.782086    0.819796  0.318403  0.857324   \n",
       "21  0.470020      0.797570       0.790990    0.809066  0.313195  0.859648   \n",
       "22  0.496890      0.793469       0.819946    0.752273  0.308259  0.861678   \n",
       "\n",
       "    precision    recall  \n",
       "0    0.723618  0.708507  \n",
       "1    0.778100  0.759026  \n",
       "2    0.792224  0.773606  \n",
       "3    0.802193  0.781964  \n",
       "4    0.808613  0.789764  \n",
       "5    0.814332  0.796009  \n",
       "6    0.819759  0.801163  \n",
       "7    0.823447  0.805942  \n",
       "8    0.828132  0.810514  \n",
       "9    0.832319  0.814668  \n",
       "10   0.836220  0.818107  \n",
       "11   0.839409  0.822745  \n",
       "12   0.842182  0.825997  \n",
       "13   0.845532  0.830029  \n",
       "14   0.847871  0.833144  \n",
       "15   0.851175  0.837349  \n",
       "16   0.853251  0.839064  \n",
       "17   0.856352  0.842378  \n",
       "18   0.858544  0.844289  \n",
       "19   0.860117  0.847489  \n",
       "20   0.862061  0.850654  \n",
       "21   0.865004  0.852186  \n",
       "22   0.866932  0.854394  "
      ]
     },
     "execution_count": 17,
     "metadata": {},
     "output_type": "execute_result"
    }
   ],
   "source": [
    "metrics = pd.DataFrame(history.history)\n",
    "metrics"
   ]
  },
  {
   "cell_type": "code",
   "execution_count": 18,
   "id": "89a520bb",
   "metadata": {},
   "outputs": [
    {
     "name": "stdout",
     "output_type": "stream",
     "text": [
      "Best training loss: 0.4021962930392474\n",
      "Best training accuracy: 0.8166406154632568\n",
      "Best training precision: 0.8234469890594482\n",
      "Best training recall: 0.8059421181678772\n",
      "---------------------------------------------\n",
      "Best validation loss: 0.42710292145609857\n",
      "Best validation accuracy: 0.8016406297683716\n",
      "Best validation precision: 0.8096505403518677\n",
      "Best validation recall: 0.7888850569725037\n"
     ]
    }
   ],
   "source": [
    "print(f'Best training loss: {metrics.sort_values(by=\"val_loss\", ascending=True).iloc[0,4]}')\n",
    "print(f'Best training accuracy: {metrics.sort_values(by=\"val_loss\", ascending=True).iloc[0,5]}')\n",
    "print(f'Best training precision: {metrics.sort_values(by=\"val_loss\", ascending=True).iloc[0,6]}')\n",
    "print(f'Best training recall: {metrics.sort_values(by=\"val_loss\", ascending=True).iloc[0,7]}')\n",
    "print('---------------------------------------------')\n",
    "print(f'Best validation loss: {metrics.sort_values(by=\"val_loss\", ascending=True).iloc[0,0]}')\n",
    "print(f'Best validation accuracy: {metrics.sort_values(by=\"val_loss\", ascending=True).iloc[0,1]}')\n",
    "print(f'Best validation precision: {metrics.sort_values(by=\"val_loss\", ascending=True).iloc[0,2]}')\n",
    "print(f'Best validation recall: {metrics.sort_values(by=\"val_loss\", ascending=True).iloc[0,3]}')"
   ]
  },
  {
   "cell_type": "code",
   "execution_count": 19,
   "id": "described-contest",
   "metadata": {
    "colab": {
     "base_uri": "https://localhost:8080/",
     "height": 282
    },
    "executionInfo": {
     "elapsed": 4479347,
     "status": "ok",
     "timestamp": 1617566671836,
     "user": {
      "displayName": "Andrés Zapata",
      "photoUrl": "https://lh3.googleusercontent.com/a-/AOh14Gj-eJhEQrYm7yW30WK1klNB5crOpPy_c1vJREkLCJs=s64",
      "userId": "15045990832920962230"
     },
     "user_tz": -120
    },
    "id": "southeast-ownership",
    "outputId": "a50a7ce7-8c59-4174-cb60-764561669285"
   },
   "outputs": [
    {
     "data": {
      "image/png": "[encoded data removed]",
      "text/plain": [
       "<Figure size 576x396 with 1 Axes>"
      ]
     },
     "metadata": {},
     "output_type": "display_data"
    }
   ],
   "source": [
    "metrics[['accuracy','val_accuracy']].plot()\n",
    "plt.savefig('../figures/cnn_glove300_50_acc.jpg', dpi=300)"
   ]
  },
  {
   "cell_type": "code",
   "execution_count": 20,
   "id": "civilian-walnut",
   "metadata": {
    "colab": {
     "base_uri": "https://localhost:8080/",
     "height": 282
    },
    "executionInfo": {
     "elapsed": 4478567,
     "status": "ok",
     "timestamp": 1617566671837,
     "user": {
      "displayName": "Andrés Zapata",
      "photoUrl": "https://lh3.googleusercontent.com/a-/AOh14Gj-eJhEQrYm7yW30WK1klNB5crOpPy_c1vJREkLCJs=s64",
      "userId": "15045990832920962230"
     },
     "user_tz": -120
    },
    "id": "national-missouri",
    "outputId": "482f886d-f45a-4bc8-89ce-4f6c749a2e2c",
    "scrolled": false
   },
   "outputs": [
    {
     "data": {
      "image/png": "[encoded data removed]",
      "text/plain": [
       "<Figure size 576x396 with 1 Axes>"
      ]
     },
     "metadata": {},
     "output_type": "display_data"
    }
   ],
   "source": [
    "metrics[['loss','val_loss']].plot()\n",
    "plt.savefig('../figures/cnn_glove300_50_loss.jpg', dpi=300)"
   ]
  },
  {
   "cell_type": "code",
   "execution_count": 21,
   "id": "dramatic-canal",
   "metadata": {
    "colab": {
     "base_uri": "https://localhost:8080/"
    },
    "executionInfo": {
     "elapsed": 4480377,
     "status": "ok",
     "timestamp": 1617566671176,
     "user": {
      "displayName": "Andrés Zapata",
      "photoUrl": "https://lh3.googleusercontent.com/a-/AOh14Gj-eJhEQrYm7yW30WK1klNB5crOpPy_c1vJREkLCJs=s64",
      "userId": "15045990832920962230"
     },
     "user_tz": -120
    },
    "id": "numeric-decrease",
    "outputId": "ffc99ab9-e26a-41f7-cbc2-35da1b8045d7",
    "scrolled": true
   },
   "outputs": [
    {
     "name": "stdout",
     "output_type": "stream",
     "text": [
      "160000/160000 [==============================] - 7s 45us/step\n"
     ]
    }
   ],
   "source": [
    "# Evaluation on test set\n",
    "test_loss, test_accuracy, test_precision, test_recall = model.evaluate(X_test, y_test)"
   ]
  },
  {
   "cell_type": "code",
   "execution_count": 22,
   "id": "de4b4829",
   "metadata": {
    "scrolled": true
   },
   "outputs": [
    {
     "name": "stdout",
     "output_type": "stream",
     "text": [
      "Test loss: 0.43039910138845444\n",
      "Test accuracy: 0.8002812266349792\n",
      "Test precision: 0.8067593574523926\n",
      "Test recall: 0.787129282951355\n"
     ]
    }
   ],
   "source": [
    "print(f'Test loss: {test_loss}')\n",
    "print(f'Test accuracy: {test_accuracy}')\n",
    "print(f'Test precision: {test_precision}')\n",
    "print(f'Test recall: {test_recall}')"
   ]
  },
  {
   "cell_type": "code",
   "execution_count": 23,
   "id": "e0c5e728",
   "metadata": {},
   "outputs": [],
   "source": [
    "model.save('../models/cnn_glove300_50.h5')"
   ]
  }
 ],
 "metadata": {
  "accelerator": "GPU",
  "colab": {
   "collapsed_sections": [],
   "name": "03b-sentiment140_classification_bin.ipynb",
   "provenance": []
  },
  "kernelspec": {
   "display_name": "Python 3",
   "language": "python",
   "name": "python3"
  },
  "language_info": {
   "codemirror_mode": {
    "name": "ipython",
    "version": 3
   },
   "file_extension": ".py",
   "mimetype": "text/x-python",
   "name": "python",
   "nbconvert_exporter": "python",
   "pygments_lexer": "ipython3",
   "version": "3.6.13"
  }
 },
 "nbformat": 4,
 "nbformat_minor": 5
}
