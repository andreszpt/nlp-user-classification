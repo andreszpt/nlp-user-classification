{
 "cells": [
  {
   "cell_type": "code",
   "execution_count": 1,
   "id": "informal-connecticut",
   "metadata": {
    "executionInfo": {
     "elapsed": 850,
     "status": "ok",
     "timestamp": 1617559922784,
     "user": {
      "displayName": "Andrés Zapata",
      "photoUrl": "https://lh3.googleusercontent.com/a-/AOh14Gj-eJhEQrYm7yW30WK1klNB5crOpPy_c1vJREkLCJs=s64",
      "userId": "15045990832920962230"
     },
     "user_tz": -120
    },
    "id": "ruled-friendship",
    "scrolled": true
   },
   "outputs": [
    {
     "name": "stderr",
     "output_type": "stream",
     "text": [
      "Using TensorFlow backend.\n"
     ]
    }
   ],
   "source": [
    "from nlp_functions import *\n",
    "sess = tf.Session()"
   ]
  },
  {
   "cell_type": "code",
   "execution_count": 2,
   "id": "079d4b0a",
   "metadata": {},
   "outputs": [],
   "source": [
    "plt.style.use('seaborn')"
   ]
  },
  {
   "cell_type": "code",
   "execution_count": 3,
   "id": "comic-letter",
   "metadata": {
    "executionInfo": {
     "elapsed": 5072,
     "status": "ok",
     "timestamp": 1617559927350,
     "user": {
      "displayName": "Andrés Zapata",
      "photoUrl": "https://lh3.googleusercontent.com/a-/AOh14Gj-eJhEQrYm7yW30WK1klNB5crOpPy_c1vJREkLCJs=s64",
      "userId": "15045990832920962230"
     },
     "user_tz": -120
    },
    "id": "considered-vatican",
    "scrolled": true
   },
   "outputs": [],
   "source": [
    "# Importing our data\n",
    "sentiment140 = read_sentiment_file(DATA_DIRECTORY, 'sentiment140_train.csv')"
   ]
  },
  {
   "cell_type": "code",
   "execution_count": 4,
   "id": "advisory-nursery",
   "metadata": {},
   "outputs": [],
   "source": [
    "# Sampling 10% the data\n",
    "sentiment140 = sentiment140.sample(frac=0.1, random_state=7)"
   ]
  },
  {
   "cell_type": "code",
   "execution_count": 5,
   "id": "intense-husband",
   "metadata": {},
   "outputs": [],
   "source": [
    "# Separating into characteristics and labels\n",
    "X = sentiment140['text']\n",
    "y = sentiment140['polarity']"
   ]
  },
  {
   "cell_type": "code",
   "execution_count": 6,
   "id": "nasty-singapore",
   "metadata": {
    "executionInfo": {
     "elapsed": 12549,
     "status": "ok",
     "timestamp": 1617559935126,
     "user": {
      "displayName": "Andrés Zapata",
      "photoUrl": "https://lh3.googleusercontent.com/a-/AOh14Gj-eJhEQrYm7yW30WK1klNB5crOpPy_c1vJREkLCJs=s64",
      "userId": "15045990832920962230"
     },
     "user_tz": -120
    },
    "id": "4865xfI-E1sN"
   },
   "outputs": [],
   "source": [
    "# Cleaning the texts\n",
    "X = clean_data(X)"
   ]
  },
  {
   "cell_type": "code",
   "execution_count": 7,
   "id": "meaning-flood",
   "metadata": {
    "executionInfo": {
     "elapsed": 12384,
     "status": "ok",
     "timestamp": 1617559935127,
     "user": {
      "displayName": "Andrés Zapata",
      "photoUrl": "https://lh3.googleusercontent.com/a-/AOh14Gj-eJhEQrYm7yW30WK1klNB5crOpPy_c1vJREkLCJs=s64",
      "userId": "15045990832920962230"
     },
     "user_tz": -120
    },
    "id": "recreational-vampire"
   },
   "outputs": [],
   "source": [
    "# Mapping for easier classificacion\n",
    "y = y.map({0: int(0), 4: int(1)})"
   ]
  },
  {
   "cell_type": "code",
   "execution_count": 8,
   "id": "solid-commission",
   "metadata": {
    "executionInfo": {
     "elapsed": 12740,
     "status": "ok",
     "timestamp": 1617559935899,
     "user": {
      "displayName": "Andrés Zapata",
      "photoUrl": "https://lh3.googleusercontent.com/a-/AOh14Gj-eJhEQrYm7yW30WK1klNB5crOpPy_c1vJREkLCJs=s64",
      "userId": "15045990832920962230"
     },
     "user_tz": -120
    },
    "id": "mathematical-secretary"
   },
   "outputs": [],
   "source": [
    "# Split the data to train and test, then train and val\n",
    "X_train, X_test, y_train, y_test = train_test_split(X, y, test_size=0.2, random_state=7)\n",
    "X_train, X_val, y_train, y_val = train_test_split(X_train, y_train, test_size=0.2, random_state=7)"
   ]
  },
  {
   "cell_type": "code",
   "execution_count": 9,
   "id": "olympic-depression",
   "metadata": {
    "colab": {
     "base_uri": "https://localhost:8080/"
    },
    "executionInfo": {
     "elapsed": 59155,
     "status": "ok",
     "timestamp": 1617559983416,
     "user": {
      "displayName": "Andrés Zapata",
      "photoUrl": "https://lh3.googleusercontent.com/a-/AOh14Gj-eJhEQrYm7yW30WK1klNB5crOpPy_c1vJREkLCJs=s64",
      "userId": "15045990832920962230"
     },
     "user_tz": -120
    },
    "id": "complete-container",
    "outputId": "b64300df-0d3b-46ad-90b9-196a6ee7ff3c"
   },
   "outputs": [],
   "source": [
    "# Tokenizing the data\n",
    "tk, word_index, vocab_size = tokenize(X_train, X_val, X_test)"
   ]
  },
  {
   "cell_type": "code",
   "execution_count": 10,
   "id": "constitutional-handbook",
   "metadata": {},
   "outputs": [],
   "source": [
    "# Each sentence is converted into an array of integers\n",
    "X_train = tk.texts_to_sequences(X_train)\n",
    "X_val = tk.texts_to_sequences(X_val)\n",
    "X_test = tk.texts_to_sequences(X_test)"
   ]
  },
  {
   "cell_type": "code",
   "execution_count": 11,
   "id": "french-vaccine",
   "metadata": {
    "colab": {
     "base_uri": "https://localhost:8080/"
    },
    "executionInfo": {
     "elapsed": 54510,
     "status": "ok",
     "timestamp": 1617559983815,
     "user": {
      "displayName": "Andrés Zapata",
      "photoUrl": "https://lh3.googleusercontent.com/a-/AOh14Gj-eJhEQrYm7yW30WK1klNB5crOpPy_c1vJREkLCJs=s64",
      "userId": "15045990832920962230"
     },
     "user_tz": -120
    },
    "id": "indian-mouth",
    "outputId": "469d3984-1e9e-4c7f-b8d1-cc0373be277b",
    "scrolled": false
   },
   "outputs": [],
   "source": [
    "# Calculation of maximum length to adjust the padding\n",
    "maxlen = longest_sentence(X_train, X_val, X_test)"
   ]
  },
  {
   "cell_type": "code",
   "execution_count": 12,
   "id": "retained-review",
   "metadata": {
    "executionInfo": {
     "elapsed": 63747,
     "status": "ok",
     "timestamp": 1617559993517,
     "user": {
      "displayName": "Andrés Zapata",
      "photoUrl": "https://lh3.googleusercontent.com/a-/AOh14Gj-eJhEQrYm7yW30WK1klNB5crOpPy_c1vJREkLCJs=s64",
      "userId": "15045990832920962230"
     },
     "user_tz": -120
    },
    "id": "juvenile-telling"
   },
   "outputs": [],
   "source": [
    "# Padding is applied to get the same dimension\n",
    "X_train = pad_sequences(X_train, padding='post', maxlen=maxlen)\n",
    "X_val = pad_sequences(X_val, padding='post', maxlen=maxlen)\n",
    "X_test = pad_sequences(X_test, padding='post', maxlen=maxlen)"
   ]
  },
  {
   "cell_type": "code",
   "execution_count": 13,
   "id": "colonial-welcome",
   "metadata": {
    "executionInfo": {
     "elapsed": 68698,
     "status": "ok",
     "timestamp": 1617560002297,
     "user": {
      "displayName": "Andrés Zapata",
      "photoUrl": "https://lh3.googleusercontent.com/a-/AOh14Gj-eJhEQrYm7yW30WK1klNB5crOpPy_c1vJREkLCJs=s64",
      "userId": "15045990832920962230"
     },
     "user_tz": -120
    },
    "id": "prompt-tenant",
    "scrolled": true
   },
   "outputs": [],
   "source": [
    "# Creating the embedding matrix based on dimension and vocabulary of our texts\n",
    "EMBEDDING_DIM = 300\n",
    "embedding_matrix = create_embedding_matrix(vocab_size, EMBEDDING_DIM, word_index)"
   ]
  },
  {
   "cell_type": "code",
   "execution_count": 14,
   "id": "comic-death",
   "metadata": {
    "colab": {
     "base_uri": "https://localhost:8080/"
    },
    "executionInfo": {
     "elapsed": 68233,
     "status": "ok",
     "timestamp": 1617560002298,
     "user": {
      "displayName": "Andrés Zapata",
      "photoUrl": "https://lh3.googleusercontent.com/a-/AOh14Gj-eJhEQrYm7yW30WK1klNB5crOpPy_c1vJREkLCJs=s64",
      "userId": "15045990832920962230"
     },
     "user_tz": -120
    },
    "id": "future-management",
    "outputId": "9afbe6f9-6b3f-4b85-8703-ca37239367ae",
    "scrolled": true
   },
   "outputs": [
    {
     "name": "stdout",
     "output_type": "stream",
     "text": [
      "Using GloVe (Wiki database)\n"
     ]
    },
    {
     "data": {
      "text/plain": [
       "0.6430845828750072"
      ]
     },
     "execution_count": 14,
     "metadata": {},
     "output_type": "execute_result"
    }
   ],
   "source": [
    "# Check the ratio of words in our texts are included in the embedding_matrix\n",
    "print('Using GloVe (Wiki database)')\n",
    "nonzero_elements = np.count_nonzero(np.count_nonzero(embedding_matrix, axis=1))\n",
    "nonzero_elements / vocab_size"
   ]
  },
  {
   "cell_type": "code",
   "execution_count": 15,
   "id": "tutorial-sending",
   "metadata": {
    "colab": {
     "base_uri": "https://localhost:8080/"
    },
    "executionInfo": {
     "elapsed": 5954,
     "status": "ok",
     "timestamp": 1617560015161,
     "user": {
      "displayName": "Andrés Zapata",
      "photoUrl": "https://lh3.googleusercontent.com/a-/AOh14Gj-eJhEQrYm7yW30WK1klNB5crOpPy_c1vJREkLCJs=s64",
      "userId": "15045990832920962230"
     },
     "user_tz": -120
    },
    "id": "robust-utilization",
    "outputId": "b21a8bab-802e-4eca-f558-e53ae22667fa",
    "scrolled": false
   },
   "outputs": [
    {
     "name": "stdout",
     "output_type": "stream",
     "text": [
      "WARNING:tensorflow:From /home/andres/anaconda3/envs/gpu/lib/python3.6/site-packages/tensorflow_core/python/ops/resource_variable_ops.py:1630: calling BaseResourceVariable.__init__ (from tensorflow.python.ops.resource_variable_ops) with constraint is deprecated and will be removed in a future version.\n",
      "Instructions for updating:\n",
      "If using Keras pass *_constraint arguments to layers.\n",
      "WARNING:tensorflow:From /home/andres/anaconda3/envs/gpu/lib/python3.6/site-packages/keras/backend/tensorflow_backend.py:3172: where (from tensorflow.python.ops.array_ops) is deprecated and will be removed in a future version.\n",
      "Instructions for updating:\n",
      "Use tf.where in 2.0, which has the same broadcast rule as np.where\n",
      "Model: \"sequential_1\"\n",
      "_________________________________________________________________\n",
      "Layer (type)                 Output Shape              Param #   \n",
      "=================================================================\n",
      "embedding_1 (Embedding)      (None, 50, 300)           15545700  \n",
      "_________________________________________________________________\n",
      "conv1d_1 (Conv1D)            (None, 48, 250)           225250    \n",
      "_________________________________________________________________\n",
      "global_max_pooling1d_1 (Glob (None, 250)               0         \n",
      "_________________________________________________________________\n",
      "dense_1 (Dense)              (None, 100)               25100     \n",
      "_________________________________________________________________\n",
      "dropout_1 (Dropout)          (None, 100)               0         \n",
      "_________________________________________________________________\n",
      "dense_2 (Dense)              (None, 1)                 101       \n",
      "=================================================================\n",
      "Total params: 15,796,151\n",
      "Trainable params: 250,451\n",
      "Non-trainable params: 15,545,700\n",
      "_________________________________________________________________\n"
     ]
    }
   ],
   "source": [
    "# Architecture for CNN + GloVe model\n",
    "model = Sequential()\n",
    "model.add(Embedding(\n",
    "    input_dim=vocab_size,\n",
    "    output_dim=EMBEDDING_DIM,\n",
    "    weights=[embedding_matrix],\n",
    "    input_length=maxlen,\n",
    "    trainable=False))\n",
    "model.add(Conv1D(\n",
    "    filters=250,\n",
    "    kernel_size=3,\n",
    "    activation='relu'))\n",
    "model.add(GlobalMaxPooling1D())\n",
    "model.add(Dense(100, activation='relu'))\n",
    "model.add(Dropout(0.5))\n",
    "model.add(Dense(1, activation='sigmoid'))\n",
    "model.compile(\n",
    "    optimizer='sgd',\n",
    "    loss='binary_crossentropy',\n",
    "    metrics=['accuracy', metrics.Precision(name='precision'), metrics.Recall(name='recall')])\n",
    "model.summary()"
   ]
  },
  {
   "cell_type": "code",
   "execution_count": 16,
   "id": "74a9e9ad",
   "metadata": {},
   "outputs": [
    {
     "name": "stdout",
     "output_type": "stream",
     "text": [
      "WARNING:tensorflow:From /home/andres/anaconda3/envs/gpu/lib/python3.6/site-packages/keras/backend/tensorflow_backend.py:422: The name tf.global_variables is deprecated. Please use tf.compat.v1.global_variables instead.\n",
      "\n",
      "Train on 102400 samples, validate on 25600 samples\n",
      "Epoch 1/100\n",
      "102400/102400 [==============================] - 9s 91us/step - loss: 0.6300 - accuracy: 0.6402 - precision: 0.6454 - recall: 0.6155 - val_loss: 0.5559 - val_accuracy: 0.7240 - val_precision: 0.7447 - val_recall: 0.6825\n",
      "Epoch 2/100\n",
      "102400/102400 [==============================] - 8s 82us/step - loss: 0.5468 - accuracy: 0.7243 - precision: 0.7275 - recall: 0.7134 - val_loss: 0.5160 - val_accuracy: 0.7454 - val_precision: 0.7324 - val_recall: 0.7739\n",
      "Epoch 3/100\n",
      "102400/102400 [==============================] - 8s 82us/step - loss: 0.5151 - accuracy: 0.7476 - precision: 0.7494 - recall: 0.7407 - val_loss: 0.4976 - val_accuracy: 0.7563 - val_precision: 0.7567 - val_recall: 0.7559\n",
      "Epoch 4/100\n",
      "102400/102400 [==============================] - 8s 82us/step - loss: 0.4967 - accuracy: 0.7608 - precision: 0.7633 - recall: 0.7532 - val_loss: 0.4875 - val_accuracy: 0.7641 - val_precision: 0.7802 - val_recall: 0.7360\n",
      "Epoch 5/100\n",
      "102400/102400 [==============================] - 8s 82us/step - loss: 0.4799 - accuracy: 0.7723 - precision: 0.7740 - recall: 0.7665 - val_loss: 0.4844 - val_accuracy: 0.7680 - val_precision: 0.8072 - val_recall: 0.7047\n",
      "Epoch 6/100\n",
      "102400/102400 [==============================] - 8s 81us/step - loss: 0.4677 - accuracy: 0.7810 - precision: 0.7840 - recall: 0.7731 - val_loss: 0.4752 - val_accuracy: 0.7727 - val_precision: 0.7944 - val_recall: 0.7362\n",
      "Epoch 7/100\n",
      "102400/102400 [==============================] - 8s 81us/step - loss: 0.4542 - accuracy: 0.7898 - precision: 0.7930 - recall: 0.7819 - val_loss: 0.4781 - val_accuracy: 0.7736 - val_precision: 0.8206 - val_recall: 0.7007\n",
      "Epoch 8/100\n",
      "102400/102400 [==============================] - 8s 81us/step - loss: 0.4430 - accuracy: 0.7960 - precision: 0.7994 - recall: 0.7880 - val_loss: 0.4672 - val_accuracy: 0.7750 - val_precision: 0.7606 - val_recall: 0.8031\n",
      "Epoch 9/100\n",
      "102400/102400 [==============================] - 8s 81us/step - loss: 0.4301 - accuracy: 0.8036 - precision: 0.8074 - recall: 0.7951 - val_loss: 0.4638 - val_accuracy: 0.7770 - val_precision: 0.7709 - val_recall: 0.7889\n",
      "Epoch 10/100\n",
      "102400/102400 [==============================] - 8s 81us/step - loss: 0.4187 - accuracy: 0.8100 - precision: 0.8131 - recall: 0.8029 - val_loss: 0.4608 - val_accuracy: 0.7795 - val_precision: 0.7860 - val_recall: 0.7686\n",
      "Epoch 11/100\n",
      "102400/102400 [==============================] - 8s 81us/step - loss: 0.4052 - accuracy: 0.8187 - precision: 0.8221 - recall: 0.8114 - val_loss: 0.4632 - val_accuracy: 0.7802 - val_precision: 0.7905 - val_recall: 0.7629\n",
      "Epoch 12/100\n",
      "102400/102400 [==============================] - 8s 81us/step - loss: 0.3934 - accuracy: 0.8245 - precision: 0.8281 - recall: 0.8171 - val_loss: 0.4661 - val_accuracy: 0.7792 - val_precision: 0.7896 - val_recall: 0.7617\n",
      "Epoch 13/100\n",
      "102400/102400 [==============================] - 8s 82us/step - loss: 0.3817 - accuracy: 0.8311 - precision: 0.8346 - recall: 0.8241 - val_loss: 0.4716 - val_accuracy: 0.7778 - val_precision: 0.8021 - val_recall: 0.7380\n",
      "Epoch 14/100\n",
      "102400/102400 [==============================] - 8s 81us/step - loss: 0.3689 - accuracy: 0.8387 - precision: 0.8431 - recall: 0.8306 - val_loss: 0.4964 - val_accuracy: 0.7648 - val_precision: 0.7231 - val_recall: 0.8587\n",
      "Epoch 15/100\n",
      "102400/102400 [==============================] - 8s 81us/step - loss: 0.3558 - accuracy: 0.8442 - precision: 0.8483 - recall: 0.8368 - val_loss: 0.4758 - val_accuracy: 0.7788 - val_precision: 0.7950 - val_recall: 0.7519\n",
      "Epoch 16/100\n",
      "102400/102400 [==============================] - 8s 82us/step - loss: 0.3436 - accuracy: 0.8510 - precision: 0.8547 - recall: 0.8442 - val_loss: 0.4766 - val_accuracy: 0.7784 - val_precision: 0.7932 - val_recall: 0.7537\n",
      "Epoch 17/100\n",
      "102400/102400 [==============================] - 8s 82us/step - loss: 0.3303 - accuracy: 0.8589 - precision: 0.8635 - recall: 0.8510 - val_loss: 0.4933 - val_accuracy: 0.7771 - val_precision: 0.7678 - val_recall: 0.7949\n",
      "Epoch 18/100\n",
      "102400/102400 [==============================] - 8s 81us/step - loss: 0.3216 - accuracy: 0.8631 - precision: 0.8673 - recall: 0.8560 - val_loss: 0.4956 - val_accuracy: 0.7763 - val_precision: 0.7860 - val_recall: 0.7599\n",
      "Epoch 19/100\n",
      "102400/102400 [==============================] - 8s 81us/step - loss: 0.3125 - accuracy: 0.8667 - precision: 0.8712 - recall: 0.8595 - val_loss: 0.5159 - val_accuracy: 0.7726 - val_precision: 0.7492 - val_recall: 0.8200\n",
      "Epoch 20/100\n",
      "102400/102400 [==============================] - 8s 81us/step - loss: 0.3021 - accuracy: 0.8710 - precision: 0.8756 - recall: 0.8637 - val_loss: 0.5137 - val_accuracy: 0.7728 - val_precision: 0.7533 - val_recall: 0.8118\n",
      "Epoch 21/100\n",
      "102400/102400 [==============================] - 8s 82us/step - loss: 0.2920 - accuracy: 0.8751 - precision: 0.8785 - recall: 0.8694 - val_loss: 0.5203 - val_accuracy: 0.7748 - val_precision: 0.7996 - val_recall: 0.7340\n",
      "Epoch 22/100\n",
      "102400/102400 [==============================] - 8s 82us/step - loss: 0.2790 - accuracy: 0.8819 - precision: 0.8854 - recall: 0.8762 - val_loss: 0.5528 - val_accuracy: 0.7686 - val_precision: 0.8114 - val_recall: 0.7003\n",
      "Epoch 23/100\n",
      "102400/102400 [==============================] - 8s 81us/step - loss: 0.2721 - accuracy: 0.8857 - precision: 0.8892 - recall: 0.8801 - val_loss: 0.5513 - val_accuracy: 0.7708 - val_precision: 0.7506 - val_recall: 0.8117\n",
      "Epoch 24/100\n",
      "102400/102400 [==============================] - 8s 82us/step - loss: 0.2676 - accuracy: 0.8889 - precision: 0.8929 - recall: 0.8828 - val_loss: 0.5797 - val_accuracy: 0.7676 - val_precision: 0.8169 - val_recall: 0.6903\n",
      "Epoch 25/100\n",
      "102400/102400 [==============================] - 8s 82us/step - loss: 0.2574 - accuracy: 0.8922 - precision: 0.8958 - recall: 0.8868 - val_loss: 0.5841 - val_accuracy: 0.7728 - val_precision: 0.7736 - val_recall: 0.7718\n"
     ]
    }
   ],
   "source": [
    "# Training and validation for CNN + GloVe model\n",
    "early_stopping = keras.callbacks.EarlyStopping(\n",
    "    monitor='val_loss',\n",
    "    patience=15,\n",
    "    restore_best_weights=True)\n",
    "history = model.fit(\n",
    "    X_train,\n",
    "    y_train,\n",
    "    batch_size=64,\n",
    "    epochs=100,\n",
    "    validation_data=(X_val, y_val),\n",
    "    callbacks=[early_stopping])"
   ]
  },
  {
   "cell_type": "code",
   "execution_count": 17,
   "id": "south-excitement",
   "metadata": {
    "colab": {
     "base_uri": "https://localhost:8080/",
     "height": 857
    },
    "executionInfo": {
     "elapsed": 4479788,
     "status": "ok",
     "timestamp": 1617566671177,
     "user": {
      "displayName": "Andrés Zapata",
      "photoUrl": "https://lh3.googleusercontent.com/a-/AOh14Gj-eJhEQrYm7yW30WK1klNB5crOpPy_c1vJREkLCJs=s64",
      "userId": "15045990832920962230"
     },
     "user_tz": -120
    },
    "id": "literary-prairie",
    "outputId": "b7664122-ab46-4810-9196-e0d51b2cce21"
   },
   "outputs": [
    {
     "data": {
      "text/html": [
       "<div>\n",
       "<style scoped>\n",
       "    .dataframe tbody tr th:only-of-type {\n",
       "        vertical-align: middle;\n",
       "    }\n",
       "\n",
       "    .dataframe tbody tr th {\n",
       "        vertical-align: top;\n",
       "    }\n",
       "\n",
       "    .dataframe thead th {\n",
       "        text-align: right;\n",
       "    }\n",
       "</style>\n",
       "<table border=\"1\" class=\"dataframe\">\n",
       "  <thead>\n",
       "    <tr style=\"text-align: right;\">\n",
       "      <th></th>\n",
       "      <th>val_loss</th>\n",
       "      <th>val_accuracy</th>\n",
       "      <th>val_precision</th>\n",
       "      <th>val_recall</th>\n",
       "      <th>loss</th>\n",
       "      <th>accuracy</th>\n",
       "      <th>precision</th>\n",
       "      <th>recall</th>\n",
       "    </tr>\n",
       "  </thead>\n",
       "  <tbody>\n",
       "    <tr>\n",
       "      <th>0</th>\n",
       "      <td>0.555945</td>\n",
       "      <td>0.724023</td>\n",
       "      <td>0.744719</td>\n",
       "      <td>0.682460</td>\n",
       "      <td>0.629996</td>\n",
       "      <td>0.640215</td>\n",
       "      <td>0.645450</td>\n",
       "      <td>0.615549</td>\n",
       "    </tr>\n",
       "    <tr>\n",
       "      <th>1</th>\n",
       "      <td>0.515950</td>\n",
       "      <td>0.745391</td>\n",
       "      <td>0.732437</td>\n",
       "      <td>0.773944</td>\n",
       "      <td>0.546766</td>\n",
       "      <td>0.724268</td>\n",
       "      <td>0.727547</td>\n",
       "      <td>0.713378</td>\n",
       "    </tr>\n",
       "    <tr>\n",
       "      <th>2</th>\n",
       "      <td>0.497629</td>\n",
       "      <td>0.756250</td>\n",
       "      <td>0.756740</td>\n",
       "      <td>0.755913</td>\n",
       "      <td>0.515084</td>\n",
       "      <td>0.747588</td>\n",
       "      <td>0.749425</td>\n",
       "      <td>0.740738</td>\n",
       "    </tr>\n",
       "    <tr>\n",
       "      <th>3</th>\n",
       "      <td>0.487519</td>\n",
       "      <td>0.764141</td>\n",
       "      <td>0.780223</td>\n",
       "      <td>0.736008</td>\n",
       "      <td>0.496729</td>\n",
       "      <td>0.760820</td>\n",
       "      <td>0.763302</td>\n",
       "      <td>0.753212</td>\n",
       "    </tr>\n",
       "    <tr>\n",
       "      <th>4</th>\n",
       "      <td>0.484411</td>\n",
       "      <td>0.768008</td>\n",
       "      <td>0.807225</td>\n",
       "      <td>0.704707</td>\n",
       "      <td>0.479866</td>\n",
       "      <td>0.772314</td>\n",
       "      <td>0.774002</td>\n",
       "      <td>0.766548</td>\n",
       "    </tr>\n",
       "    <tr>\n",
       "      <th>5</th>\n",
       "      <td>0.475231</td>\n",
       "      <td>0.772656</td>\n",
       "      <td>0.794407</td>\n",
       "      <td>0.736242</td>\n",
       "      <td>0.467692</td>\n",
       "      <td>0.780977</td>\n",
       "      <td>0.784005</td>\n",
       "      <td>0.773119</td>\n",
       "    </tr>\n",
       "    <tr>\n",
       "      <th>6</th>\n",
       "      <td>0.478088</td>\n",
       "      <td>0.773555</td>\n",
       "      <td>0.820567</td>\n",
       "      <td>0.700726</td>\n",
       "      <td>0.454192</td>\n",
       "      <td>0.789766</td>\n",
       "      <td>0.792979</td>\n",
       "      <td>0.781905</td>\n",
       "    </tr>\n",
       "    <tr>\n",
       "      <th>7</th>\n",
       "      <td>0.467249</td>\n",
       "      <td>0.774961</td>\n",
       "      <td>0.760571</td>\n",
       "      <td>0.803138</td>\n",
       "      <td>0.443049</td>\n",
       "      <td>0.796006</td>\n",
       "      <td>0.799411</td>\n",
       "      <td>0.788044</td>\n",
       "    </tr>\n",
       "    <tr>\n",
       "      <th>8</th>\n",
       "      <td>0.463788</td>\n",
       "      <td>0.777031</td>\n",
       "      <td>0.770879</td>\n",
       "      <td>0.788931</td>\n",
       "      <td>0.430064</td>\n",
       "      <td>0.803574</td>\n",
       "      <td>0.807433</td>\n",
       "      <td>0.795144</td>\n",
       "    </tr>\n",
       "    <tr>\n",
       "      <th>9</th>\n",
       "      <td>0.460816</td>\n",
       "      <td>0.779492</td>\n",
       "      <td>0.786045</td>\n",
       "      <td>0.768558</td>\n",
       "      <td>0.418651</td>\n",
       "      <td>0.809980</td>\n",
       "      <td>0.813129</td>\n",
       "      <td>0.802891</td>\n",
       "    </tr>\n",
       "    <tr>\n",
       "      <th>10</th>\n",
       "      <td>0.463216</td>\n",
       "      <td>0.780195</td>\n",
       "      <td>0.790521</td>\n",
       "      <td>0.762938</td>\n",
       "      <td>0.405172</td>\n",
       "      <td>0.818672</td>\n",
       "      <td>0.822122</td>\n",
       "      <td>0.811383</td>\n",
       "    </tr>\n",
       "    <tr>\n",
       "      <th>11</th>\n",
       "      <td>0.466103</td>\n",
       "      <td>0.779180</td>\n",
       "      <td>0.789610</td>\n",
       "      <td>0.761689</td>\n",
       "      <td>0.393377</td>\n",
       "      <td>0.824492</td>\n",
       "      <td>0.828109</td>\n",
       "      <td>0.817130</td>\n",
       "    </tr>\n",
       "    <tr>\n",
       "      <th>12</th>\n",
       "      <td>0.471602</td>\n",
       "      <td>0.777773</td>\n",
       "      <td>0.802138</td>\n",
       "      <td>0.737960</td>\n",
       "      <td>0.381717</td>\n",
       "      <td>0.831084</td>\n",
       "      <td>0.834598</td>\n",
       "      <td>0.824073</td>\n",
       "    </tr>\n",
       "    <tr>\n",
       "      <th>13</th>\n",
       "      <td>0.496407</td>\n",
       "      <td>0.764766</td>\n",
       "      <td>0.723132</td>\n",
       "      <td>0.858715</td>\n",
       "      <td>0.368946</td>\n",
       "      <td>0.838711</td>\n",
       "      <td>0.843111</td>\n",
       "      <td>0.830643</td>\n",
       "    </tr>\n",
       "    <tr>\n",
       "      <th>14</th>\n",
       "      <td>0.475815</td>\n",
       "      <td>0.778828</td>\n",
       "      <td>0.794999</td>\n",
       "      <td>0.751932</td>\n",
       "      <td>0.355791</td>\n",
       "      <td>0.844189</td>\n",
       "      <td>0.848258</td>\n",
       "      <td>0.836762</td>\n",
       "    </tr>\n",
       "    <tr>\n",
       "      <th>15</th>\n",
       "      <td>0.476594</td>\n",
       "      <td>0.778437</td>\n",
       "      <td>0.793231</td>\n",
       "      <td>0.753727</td>\n",
       "      <td>0.343611</td>\n",
       "      <td>0.850977</td>\n",
       "      <td>0.854709</td>\n",
       "      <td>0.844215</td>\n",
       "    </tr>\n",
       "    <tr>\n",
       "      <th>16</th>\n",
       "      <td>0.493285</td>\n",
       "      <td>0.777070</td>\n",
       "      <td>0.767833</td>\n",
       "      <td>0.794864</td>\n",
       "      <td>0.330345</td>\n",
       "      <td>0.858867</td>\n",
       "      <td>0.863540</td>\n",
       "      <td>0.851040</td>\n",
       "    </tr>\n",
       "    <tr>\n",
       "      <th>17</th>\n",
       "      <td>0.495603</td>\n",
       "      <td>0.776328</td>\n",
       "      <td>0.786031</td>\n",
       "      <td>0.759894</td>\n",
       "      <td>0.321584</td>\n",
       "      <td>0.863115</td>\n",
       "      <td>0.867349</td>\n",
       "      <td>0.856003</td>\n",
       "    </tr>\n",
       "    <tr>\n",
       "      <th>18</th>\n",
       "      <td>0.515889</td>\n",
       "      <td>0.772578</td>\n",
       "      <td>0.749233</td>\n",
       "      <td>0.819998</td>\n",
       "      <td>0.312489</td>\n",
       "      <td>0.866738</td>\n",
       "      <td>0.871161</td>\n",
       "      <td>0.859474</td>\n",
       "    </tr>\n",
       "    <tr>\n",
       "      <th>19</th>\n",
       "      <td>0.513707</td>\n",
       "      <td>0.772773</td>\n",
       "      <td>0.753296</td>\n",
       "      <td>0.811802</td>\n",
       "      <td>0.302149</td>\n",
       "      <td>0.871006</td>\n",
       "      <td>0.875557</td>\n",
       "      <td>0.863691</td>\n",
       "    </tr>\n",
       "    <tr>\n",
       "      <th>20</th>\n",
       "      <td>0.520314</td>\n",
       "      <td>0.774844</td>\n",
       "      <td>0.799643</td>\n",
       "      <td>0.733979</td>\n",
       "      <td>0.291999</td>\n",
       "      <td>0.875107</td>\n",
       "      <td>0.878483</td>\n",
       "      <td>0.869437</td>\n",
       "    </tr>\n",
       "    <tr>\n",
       "      <th>21</th>\n",
       "      <td>0.552838</td>\n",
       "      <td>0.768555</td>\n",
       "      <td>0.811415</td>\n",
       "      <td>0.700258</td>\n",
       "      <td>0.279003</td>\n",
       "      <td>0.881934</td>\n",
       "      <td>0.885447</td>\n",
       "      <td>0.876243</td>\n",
       "    </tr>\n",
       "    <tr>\n",
       "      <th>22</th>\n",
       "      <td>0.551328</td>\n",
       "      <td>0.770820</td>\n",
       "      <td>0.750614</td>\n",
       "      <td>0.811724</td>\n",
       "      <td>0.272129</td>\n",
       "      <td>0.885674</td>\n",
       "      <td>0.889173</td>\n",
       "      <td>0.880087</td>\n",
       "    </tr>\n",
       "    <tr>\n",
       "      <th>23</th>\n",
       "      <td>0.579664</td>\n",
       "      <td>0.767617</td>\n",
       "      <td>0.816922</td>\n",
       "      <td>0.690344</td>\n",
       "      <td>0.267579</td>\n",
       "      <td>0.888916</td>\n",
       "      <td>0.892898</td>\n",
       "      <td>0.882794</td>\n",
       "    </tr>\n",
       "    <tr>\n",
       "      <th>24</th>\n",
       "      <td>0.584093</td>\n",
       "      <td>0.772812</td>\n",
       "      <td>0.773648</td>\n",
       "      <td>0.771837</td>\n",
       "      <td>0.257359</td>\n",
       "      <td>0.892236</td>\n",
       "      <td>0.895768</td>\n",
       "      <td>0.886755</td>\n",
       "    </tr>\n",
       "  </tbody>\n",
       "</table>\n",
       "</div>"
      ],
      "text/plain": [
       "    val_loss  val_accuracy  val_precision  val_recall      loss  accuracy  \\\n",
       "0   0.555945      0.724023       0.744719    0.682460  0.629996  0.640215   \n",
       "1   0.515950      0.745391       0.732437    0.773944  0.546766  0.724268   \n",
       "2   0.497629      0.756250       0.756740    0.755913  0.515084  0.747588   \n",
       "3   0.487519      0.764141       0.780223    0.736008  0.496729  0.760820   \n",
       "4   0.484411      0.768008       0.807225    0.704707  0.479866  0.772314   \n",
       "5   0.475231      0.772656       0.794407    0.736242  0.467692  0.780977   \n",
       "6   0.478088      0.773555       0.820567    0.700726  0.454192  0.789766   \n",
       "7   0.467249      0.774961       0.760571    0.803138  0.443049  0.796006   \n",
       "8   0.463788      0.777031       0.770879    0.788931  0.430064  0.803574   \n",
       "9   0.460816      0.779492       0.786045    0.768558  0.418651  0.809980   \n",
       "10  0.463216      0.780195       0.790521    0.762938  0.405172  0.818672   \n",
       "11  0.466103      0.779180       0.789610    0.761689  0.393377  0.824492   \n",
       "12  0.471602      0.777773       0.802138    0.737960  0.381717  0.831084   \n",
       "13  0.496407      0.764766       0.723132    0.858715  0.368946  0.838711   \n",
       "14  0.475815      0.778828       0.794999    0.751932  0.355791  0.844189   \n",
       "15  0.476594      0.778437       0.793231    0.753727  0.343611  0.850977   \n",
       "16  0.493285      0.777070       0.767833    0.794864  0.330345  0.858867   \n",
       "17  0.495603      0.776328       0.786031    0.759894  0.321584  0.863115   \n",
       "18  0.515889      0.772578       0.749233    0.819998  0.312489  0.866738   \n",
       "19  0.513707      0.772773       0.753296    0.811802  0.302149  0.871006   \n",
       "20  0.520314      0.774844       0.799643    0.733979  0.291999  0.875107   \n",
       "21  0.552838      0.768555       0.811415    0.700258  0.279003  0.881934   \n",
       "22  0.551328      0.770820       0.750614    0.811724  0.272129  0.885674   \n",
       "23  0.579664      0.767617       0.816922    0.690344  0.267579  0.888916   \n",
       "24  0.584093      0.772812       0.773648    0.771837  0.257359  0.892236   \n",
       "\n",
       "    precision    recall  \n",
       "0    0.645450  0.615549  \n",
       "1    0.727547  0.713378  \n",
       "2    0.749425  0.740738  \n",
       "3    0.763302  0.753212  \n",
       "4    0.774002  0.766548  \n",
       "5    0.784005  0.773119  \n",
       "6    0.792979  0.781905  \n",
       "7    0.799411  0.788044  \n",
       "8    0.807433  0.795144  \n",
       "9    0.813129  0.802891  \n",
       "10   0.822122  0.811383  \n",
       "11   0.828109  0.817130  \n",
       "12   0.834598  0.824073  \n",
       "13   0.843111  0.830643  \n",
       "14   0.848258  0.836762  \n",
       "15   0.854709  0.844215  \n",
       "16   0.863540  0.851040  \n",
       "17   0.867349  0.856003  \n",
       "18   0.871161  0.859474  \n",
       "19   0.875557  0.863691  \n",
       "20   0.878483  0.869437  \n",
       "21   0.885447  0.876243  \n",
       "22   0.889173  0.880087  \n",
       "23   0.892898  0.882794  \n",
       "24   0.895768  0.886755  "
      ]
     },
     "execution_count": 17,
     "metadata": {},
     "output_type": "execute_result"
    }
   ],
   "source": [
    "metrics = pd.DataFrame(history.history)\n",
    "metrics"
   ]
  },
  {
   "cell_type": "code",
   "execution_count": 18,
   "id": "89a520bb",
   "metadata": {},
   "outputs": [
    {
     "name": "stdout",
     "output_type": "stream",
     "text": [
      "Best training loss: 0.4186511218175292\n",
      "Best training accuracy: 0.8099804520606995\n",
      "Best training precision: 0.8131294250488281\n",
      "Best training recall: 0.802890956401825\n",
      "---------------------------------------------\n",
      "Best validation loss: 0.460815689265728\n",
      "Best validation accuracy: 0.779492199420929\n",
      "Best validation precision: 0.7860450148582458\n",
      "Best validation recall: 0.7685582637786865\n"
     ]
    }
   ],
   "source": [
    "print(f'Best training loss: {metrics.sort_values(by=\"val_loss\", ascending=True).iloc[0,4]}')\n",
    "print(f'Best training accuracy: {metrics.sort_values(by=\"val_loss\", ascending=True).iloc[0,5]}')\n",
    "print(f'Best training precision: {metrics.sort_values(by=\"val_loss\", ascending=True).iloc[0,6]}')\n",
    "print(f'Best training recall: {metrics.sort_values(by=\"val_loss\", ascending=True).iloc[0,7]}')\n",
    "print('---------------------------------------------')\n",
    "print(f'Best validation loss: {metrics.sort_values(by=\"val_loss\", ascending=True).iloc[0,0]}')\n",
    "print(f'Best validation accuracy: {metrics.sort_values(by=\"val_loss\", ascending=True).iloc[0,1]}')\n",
    "print(f'Best validation precision: {metrics.sort_values(by=\"val_loss\", ascending=True).iloc[0,2]}')\n",
    "print(f'Best validation recall: {metrics.sort_values(by=\"val_loss\", ascending=True).iloc[0,3]}')"
   ]
  },
  {
   "cell_type": "code",
   "execution_count": 19,
   "id": "described-contest",
   "metadata": {
    "colab": {
     "base_uri": "https://localhost:8080/",
     "height": 282
    },
    "executionInfo": {
     "elapsed": 4479347,
     "status": "ok",
     "timestamp": 1617566671836,
     "user": {
      "displayName": "Andrés Zapata",
      "photoUrl": "https://lh3.googleusercontent.com/a-/AOh14Gj-eJhEQrYm7yW30WK1klNB5crOpPy_c1vJREkLCJs=s64",
      "userId": "15045990832920962230"
     },
     "user_tz": -120
    },
    "id": "southeast-ownership",
    "outputId": "a50a7ce7-8c59-4174-cb60-764561669285"
   },
   "outputs": [
    {
     "data": {
      "image/png": "[encoded data removed]",
      "text/plain": [
       "<Figure size 576x396 with 1 Axes>"
      ]
     },
     "metadata": {},
     "output_type": "display_data"
    }
   ],
   "source": [
    "metrics[['accuracy','val_accuracy']].plot()\n",
    "plt.savefig('../figures/cnn_glove300_acc.jpg', dpi=300)"
   ]
  },
  {
   "cell_type": "code",
   "execution_count": 20,
   "id": "civilian-walnut",
   "metadata": {
    "colab": {
     "base_uri": "https://localhost:8080/",
     "height": 282
    },
    "executionInfo": {
     "elapsed": 4478567,
     "status": "ok",
     "timestamp": 1617566671837,
     "user": {
      "displayName": "Andrés Zapata",
      "photoUrl": "https://lh3.googleusercontent.com/a-/AOh14Gj-eJhEQrYm7yW30WK1klNB5crOpPy_c1vJREkLCJs=s64",
      "userId": "15045990832920962230"
     },
     "user_tz": -120
    },
    "id": "national-missouri",
    "outputId": "482f886d-f45a-4bc8-89ce-4f6c749a2e2c",
    "scrolled": false
   },
   "outputs": [
    {
     "data": {
      "image/png": "[encoded data removed]",
      "text/plain": [
       "<Figure size 576x396 with 1 Axes>"
      ]
     },
     "metadata": {},
     "output_type": "display_data"
    }
   ],
   "source": [
    "metrics[['loss','val_loss']].plot()\n",
    "plt.savefig('../figures/cnn_glove300_loss.jpg', dpi=300)"
   ]
  },
  {
   "cell_type": "code",
   "execution_count": 21,
   "id": "dramatic-canal",
   "metadata": {
    "colab": {
     "base_uri": "https://localhost:8080/"
    },
    "executionInfo": {
     "elapsed": 4480377,
     "status": "ok",
     "timestamp": 1617566671176,
     "user": {
      "displayName": "Andrés Zapata",
      "photoUrl": "https://lh3.googleusercontent.com/a-/AOh14Gj-eJhEQrYm7yW30WK1klNB5crOpPy_c1vJREkLCJs=s64",
      "userId": "15045990832920962230"
     },
     "user_tz": -120
    },
    "id": "numeric-decrease",
    "outputId": "ffc99ab9-e26a-41f7-cbc2-35da1b8045d7",
    "scrolled": true
   },
   "outputs": [
    {
     "name": "stdout",
     "output_type": "stream",
     "text": [
      "32000/32000 [==============================] - 2s 48us/step\n"
     ]
    }
   ],
   "source": [
    "# Evaluation on test set\n",
    "test_loss, test_accuracy, test_precision, test_recall = model.evaluate(X_test, y_test)"
   ]
  },
  {
   "cell_type": "code",
   "execution_count": 22,
   "id": "de4b4829",
   "metadata": {
    "scrolled": true
   },
   "outputs": [
    {
     "name": "stdout",
     "output_type": "stream",
     "text": [
      "Test loss: 0.46668752589821816\n",
      "Test accuracy: 0.7769374847412109\n",
      "Test precision: 0.7812198996543884\n",
      "Test recall: 0.7649946212768555\n"
     ]
    }
   ],
   "source": [
    "print(f'Test loss: {test_loss}')\n",
    "print(f'Test accuracy: {test_accuracy}')\n",
    "print(f'Test precision: {test_precision}')\n",
    "print(f'Test recall: {test_recall}')"
   ]
  },
  {
   "cell_type": "code",
   "execution_count": 23,
   "id": "e0c5e728",
   "metadata": {},
   "outputs": [],
   "source": [
    "model.save('../models/cnn_glove300.h5')"
   ]
  }
 ],
 "metadata": {
  "accelerator": "GPU",
  "colab": {
   "collapsed_sections": [],
   "name": "03b-sentiment140_classification_bin.ipynb",
   "provenance": []
  },
  "kernelspec": {
   "display_name": "Python 3",
   "language": "python",
   "name": "python3"
  },
  "language_info": {
   "codemirror_mode": {
    "name": "ipython",
    "version": 3
   },
   "file_extension": ".py",
   "mimetype": "text/x-python",
   "name": "python",
   "nbconvert_exporter": "python",
   "pygments_lexer": "ipython3",
   "version": "3.6.13"
  }
 },
 "nbformat": 4,
 "nbformat_minor": 5
}
